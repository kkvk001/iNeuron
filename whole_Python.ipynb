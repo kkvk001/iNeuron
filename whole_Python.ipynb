{
  "cells": [
    {
      "cell_type": "markdown",
      "metadata": {
        "id": "view-in-github",
        "colab_type": "text"
      },
      "source": [
        "<a href=\"https://colab.research.google.com/github/kkvk001/iNeuron/blob/main/whole_Python.ipynb\" target=\"_parent\"><img src=\"https://colab.research.google.com/assets/colab-badge.svg\" alt=\"Open In Colab\"/></a>"
      ]
    },
    {
      "cell_type": "code",
      "execution_count": null,
      "id": "427d45b5",
      "metadata": {
        "id": "427d45b5",
        "outputId": "a7be7557-751b-43d7-ba4d-c1ebb1383239"
      },
      "outputs": [
        {
          "data": {
            "text/plain": [
              "5.666666666666667"
            ]
          },
          "execution_count": 1,
          "metadata": {},
          "output_type": "execute_result"
        }
      ],
      "source": [
        "17/3"
      ]
    },
    {
      "cell_type": "code",
      "execution_count": null,
      "id": "ca519fa4",
      "metadata": {
        "id": "ca519fa4",
        "outputId": "4e92b733-e829-4207-e867-4af6e15a0ee4"
      },
      "outputs": [
        {
          "data": {
            "text/plain": [
              "5"
            ]
          },
          "execution_count": 2,
          "metadata": {},
          "output_type": "execute_result"
        }
      ],
      "source": [
        "17//3"
      ]
    },
    {
      "cell_type": "code",
      "execution_count": null,
      "id": "ab5cc527",
      "metadata": {
        "id": "ab5cc527",
        "outputId": "1a0c2fca-3a25-4160-9155-0e2f9b7dd5aa"
      },
      "outputs": [
        {
          "data": {
            "text/plain": [
              "2"
            ]
          },
          "execution_count": 3,
          "metadata": {},
          "output_type": "execute_result"
        }
      ],
      "source": [
        "17%3"
      ]
    },
    {
      "cell_type": "code",
      "execution_count": null,
      "id": "81a696aa",
      "metadata": {
        "id": "81a696aa",
        "outputId": "ffe1e831-8b8e-476d-f54c-3e20682986c6"
      },
      "outputs": [
        {
          "data": {
            "text/plain": [
              "17"
            ]
          },
          "execution_count": 4,
          "metadata": {},
          "output_type": "execute_result"
        }
      ],
      "source": [
        "5*3+2"
      ]
    },
    {
      "cell_type": "code",
      "execution_count": null,
      "id": "c8aa53b0",
      "metadata": {
        "id": "c8aa53b0",
        "outputId": "24607b86-e336-4941-f1ee-dd09cad9a179"
      },
      "outputs": [
        {
          "data": {
            "text/plain": [
              "25"
            ]
          },
          "execution_count": 5,
          "metadata": {},
          "output_type": "execute_result"
        }
      ],
      "source": [
        "5**2"
      ]
    },
    {
      "cell_type": "code",
      "execution_count": null,
      "id": "1b4fe5a4",
      "metadata": {
        "id": "1b4fe5a4",
        "outputId": "5b017514-8283-422f-b437-ea5750925cb0"
      },
      "outputs": [
        {
          "data": {
            "text/plain": [
              "10"
            ]
          },
          "execution_count": 6,
          "metadata": {},
          "output_type": "execute_result"
        }
      ],
      "source": [
        "a=5\n",
        "b=2\n",
        "a*b"
      ]
    },
    {
      "cell_type": "code",
      "execution_count": null,
      "id": "2d37bd35",
      "metadata": {
        "id": "2d37bd35",
        "outputId": "6aa7ac87-3385-4ac1-adca-883fc3f4105a"
      },
      "outputs": [
        {
          "ename": "NameError",
          "evalue": "name 'n' is not defined",
          "output_type": "error",
          "traceback": [
            "\u001b[1;31m---------------------------------------------------------------------------\u001b[0m",
            "\u001b[1;31mNameError\u001b[0m                                 Traceback (most recent call last)",
            "\u001b[1;32m~\\AppData\\Local\\Temp\\ipykernel_8344\\1249512285.py\u001b[0m in \u001b[0;36m<module>\u001b[1;34m\u001b[0m\n\u001b[1;32m----> 1\u001b[1;33m \u001b[0mn\u001b[0m\u001b[1;33m\u001b[0m\u001b[1;33m\u001b[0m\u001b[0m\n\u001b[0m",
            "\u001b[1;31mNameError\u001b[0m: name 'n' is not defined"
          ]
        }
      ],
      "source": [
        "n"
      ]
    },
    {
      "cell_type": "code",
      "execution_count": null,
      "id": "f6f7d839",
      "metadata": {
        "id": "f6f7d839"
      },
      "outputs": [],
      "source": [
        "# operators with mixed type operands convert the integer operand to floating point:"
      ]
    },
    {
      "cell_type": "code",
      "execution_count": null,
      "id": "64989648",
      "metadata": {
        "id": "64989648",
        "outputId": "ac82560e-4438-4a29-f870-882c3c0bbfa7"
      },
      "outputs": [
        {
          "data": {
            "text/plain": [
              "14.0"
            ]
          },
          "execution_count": 9,
          "metadata": {},
          "output_type": "execute_result"
        }
      ],
      "source": [
        "4 * 3.75 - 1"
      ]
    },
    {
      "cell_type": "code",
      "execution_count": null,
      "id": "e8fbe671",
      "metadata": {
        "id": "e8fbe671",
        "outputId": "fdaf4a96-1b99-4d0f-8054-b6ffa151f49c"
      },
      "outputs": [
        {
          "data": {
            "text/plain": [
              "12.5625"
            ]
          },
          "execution_count": 3,
          "metadata": {},
          "output_type": "execute_result"
        }
      ],
      "source": [
        "tax = 12.5/100\n",
        "price = 100.50\n",
        "price*tax"
      ]
    },
    {
      "cell_type": "code",
      "execution_count": null,
      "id": "5793ebe3",
      "metadata": {
        "id": "5793ebe3",
        "outputId": "8bd33d56-8d65-4a3d-ce6c-94e74916c67e"
      },
      "outputs": [
        {
          "data": {
            "text/plain": [
              "113.0625"
            ]
          },
          "execution_count": 4,
          "metadata": {},
          "output_type": "execute_result"
        }
      ],
      "source": [
        "price + _"
      ]
    },
    {
      "cell_type": "code",
      "execution_count": null,
      "id": "9a09459b",
      "metadata": {
        "id": "9a09459b",
        "outputId": "68152c3b-7266-4f4e-f570-e058620a133d"
      },
      "outputs": [
        {
          "data": {
            "text/plain": [
              "113.06"
            ]
          },
          "execution_count": 5,
          "metadata": {},
          "output_type": "execute_result"
        }
      ],
      "source": [
        "round(_,2)"
      ]
    },
    {
      "cell_type": "markdown",
      "id": "4677ecdf",
      "metadata": {
        "id": "4677ecdf"
      },
      "source": [
        "3.1.2. Strings"
      ]
    },
    {
      "cell_type": "code",
      "execution_count": null,
      "id": "09f6666f",
      "metadata": {
        "id": "09f6666f",
        "outputId": "a91d6417-cd85-40f5-c70e-6e7209f728af"
      },
      "outputs": [
        {
          "data": {
            "text/plain": [
              "'spam eggs'"
            ]
          },
          "execution_count": 7,
          "metadata": {},
          "output_type": "execute_result"
        }
      ],
      "source": [
        "'spam eggs'  # single quotes"
      ]
    },
    {
      "cell_type": "code",
      "execution_count": null,
      "id": "d4e677e3",
      "metadata": {
        "id": "d4e677e3",
        "outputId": "3d828725-d41a-4065-c8b3-def3f1cfb858"
      },
      "outputs": [
        {
          "data": {
            "text/plain": [
              "\"doesn't\""
            ]
          },
          "execution_count": 8,
          "metadata": {},
          "output_type": "execute_result"
        }
      ],
      "source": [
        "'doesn\\'t'  # use \\' to escape the single quote..."
      ]
    },
    {
      "cell_type": "code",
      "execution_count": null,
      "id": "9fcc565d",
      "metadata": {
        "id": "9fcc565d",
        "outputId": "cbbcc567-910b-427e-bcf4-6da0c2649bdf"
      },
      "outputs": [
        {
          "data": {
            "text/plain": [
              "\"doesn't\""
            ]
          },
          "execution_count": 9,
          "metadata": {},
          "output_type": "execute_result"
        }
      ],
      "source": [
        "\"doesn't\"  # ...or use double quotes instead"
      ]
    },
    {
      "cell_type": "code",
      "execution_count": null,
      "id": "bfd7d376",
      "metadata": {
        "id": "bfd7d376",
        "outputId": "bfd6e35f-a1f7-4f70-d831-4207cd449d73"
      },
      "outputs": [
        {
          "data": {
            "text/plain": [
              "'\"Yes,\" they said.'"
            ]
          },
          "execution_count": 10,
          "metadata": {},
          "output_type": "execute_result"
        }
      ],
      "source": [
        "'\"Yes,\" they said.'"
      ]
    },
    {
      "cell_type": "code",
      "execution_count": null,
      "id": "1a4e5eeb",
      "metadata": {
        "id": "1a4e5eeb",
        "outputId": "63b80a3b-2310-49de-ab8a-7c28fc24a2bd"
      },
      "outputs": [
        {
          "data": {
            "text/plain": [
              "'\"Yes,\" they said.'"
            ]
          },
          "execution_count": 11,
          "metadata": {},
          "output_type": "execute_result"
        }
      ],
      "source": [
        "\"\\\"Yes,\\\" they said.\""
      ]
    },
    {
      "cell_type": "code",
      "execution_count": null,
      "id": "525cf177",
      "metadata": {
        "id": "525cf177",
        "outputId": "96002fbf-5b66-43d7-c614-1080039b3de4"
      },
      "outputs": [
        {
          "data": {
            "text/plain": [
              "'\"Isn\\'t,\" they said.'"
            ]
          },
          "execution_count": 13,
          "metadata": {},
          "output_type": "execute_result"
        }
      ],
      "source": [
        "'\"Isn\\'t,\" they said.'   # \\ = backslashes"
      ]
    },
    {
      "cell_type": "code",
      "execution_count": null,
      "id": "41d62d7a",
      "metadata": {
        "id": "41d62d7a",
        "outputId": "f1aed3cc-f064-46d8-80e8-435dda9d7b48"
      },
      "outputs": [
        {
          "name": "stdout",
          "output_type": "stream",
          "text": [
            "\"Isn't,\" they said.\n"
          ]
        }
      ],
      "source": [
        "print('\"Isn\\'t,\" they said.')"
      ]
    },
    {
      "cell_type": "code",
      "execution_count": null,
      "id": "89934e37",
      "metadata": {
        "id": "89934e37"
      },
      "outputs": [],
      "source": [
        "s = 'First line.\\nSecond line.'  # \\n means newline"
      ]
    },
    {
      "cell_type": "code",
      "execution_count": null,
      "id": "74ca69c1",
      "metadata": {
        "id": "74ca69c1",
        "outputId": "8a2e5ae4-91c1-4184-e897-297efe252214"
      },
      "outputs": [
        {
          "data": {
            "text/plain": [
              "'First line.\\nSecond line.'"
            ]
          },
          "execution_count": 16,
          "metadata": {},
          "output_type": "execute_result"
        }
      ],
      "source": [
        "s  # without print(), \\n is included in the output"
      ]
    },
    {
      "cell_type": "code",
      "execution_count": null,
      "id": "d1c94ff4",
      "metadata": {
        "id": "d1c94ff4",
        "outputId": "1fec2db3-1591-409c-8761-b5f8a36b9f81"
      },
      "outputs": [
        {
          "name": "stdout",
          "output_type": "stream",
          "text": [
            "First line.\n",
            "Second line.\n"
          ]
        }
      ],
      "source": [
        "print(s)  # with print(), \\n produces a new line"
      ]
    },
    {
      "cell_type": "code",
      "execution_count": null,
      "id": "8549f21c",
      "metadata": {
        "id": "8549f21c",
        "outputId": "db1d4959-11a4-4341-b003-8c7e11960c6e"
      },
      "outputs": [
        {
          "name": "stdout",
          "output_type": "stream",
          "text": [
            "C:\\some\n",
            "ame\n"
          ]
        }
      ],
      "source": [
        "print('C:\\some\\name')  # here \\n means newline!"
      ]
    },
    {
      "cell_type": "code",
      "execution_count": null,
      "id": "f5ad9bc7",
      "metadata": {
        "id": "f5ad9bc7",
        "outputId": "8e1a2005-045c-445f-8096-788c4bd32f95"
      },
      "outputs": [
        {
          "name": "stdout",
          "output_type": "stream",
          "text": [
            "C:\\some\\name\n"
          ]
        }
      ],
      "source": [
        "print(r'C:\\some\\name')  # note the r before the quote"
      ]
    },
    {
      "cell_type": "code",
      "execution_count": null,
      "id": "b6686a98",
      "metadata": {
        "id": "b6686a98",
        "outputId": "db25a23d-7bc7-4483-f7ec-9ed4f36bc0fb"
      },
      "outputs": [
        {
          "name": "stdout",
          "output_type": "stream",
          "text": [
            "Usage: thingy [OPTIONS]\n",
            "     -h                        Display this usage message\n",
            "     -H hostname               Hostname to connect to\n",
            "\n"
          ]
        }
      ],
      "source": [
        "print(\"\"\"\\\n",
        "Usage: thingy [OPTIONS]\n",
        "     -h                        Display this usage message\n",
        "     -H hostname               Hostname to connect to\n",
        "\"\"\")"
      ]
    },
    {
      "cell_type": "code",
      "execution_count": null,
      "id": "f4473ffa",
      "metadata": {
        "id": "f4473ffa",
        "outputId": "7ceff439-a8ee-4de6-8444-42ccf3dc980c"
      },
      "outputs": [
        {
          "data": {
            "text/plain": [
              "'unununium'"
            ]
          },
          "execution_count": 27,
          "metadata": {},
          "output_type": "execute_result"
        }
      ],
      "source": [
        "# 3 times 'un', followed by 'ium'\n",
        "3 * 'un' + 'ium'"
      ]
    },
    {
      "cell_type": "code",
      "execution_count": null,
      "id": "b04f0e85",
      "metadata": {
        "id": "b04f0e85",
        "outputId": "a6a3616f-d5ad-4075-ef65-ae13cb65cc89"
      },
      "outputs": [
        {
          "data": {
            "text/plain": [
              "'Python'"
            ]
          },
          "execution_count": 28,
          "metadata": {},
          "output_type": "execute_result"
        }
      ],
      "source": [
        "'Py' 'thon'"
      ]
    },
    {
      "cell_type": "code",
      "execution_count": null,
      "id": "44a711f0",
      "metadata": {
        "id": "44a711f0"
      },
      "outputs": [],
      "source": [
        "text = ('Put several strings within parentheses '\n",
        "        'to have them joined together.')"
      ]
    },
    {
      "cell_type": "code",
      "execution_count": null,
      "id": "26af7533",
      "metadata": {
        "id": "26af7533",
        "outputId": "8f1aaac8-d435-4e44-bfa0-388c1689aad6"
      },
      "outputs": [
        {
          "data": {
            "text/plain": [
              "'Put several strings within parentheses to have them joined together.'"
            ]
          },
          "execution_count": 38,
          "metadata": {},
          "output_type": "execute_result"
        }
      ],
      "source": [
        "text"
      ]
    },
    {
      "cell_type": "code",
      "execution_count": null,
      "id": "d099974f",
      "metadata": {
        "id": "d099974f"
      },
      "outputs": [],
      "source": [
        "prefix = 'Py'"
      ]
    },
    {
      "cell_type": "code",
      "execution_count": null,
      "id": "f7b9a687",
      "metadata": {
        "id": "f7b9a687",
        "outputId": "9dd7e779-1841-4f8d-9c10-2eba52e3ca43"
      },
      "outputs": [
        {
          "data": {
            "text/plain": [
              "'Python'"
            ]
          },
          "execution_count": 40,
          "metadata": {},
          "output_type": "execute_result"
        }
      ],
      "source": [
        "prefix + 'thon'"
      ]
    },
    {
      "cell_type": "code",
      "execution_count": null,
      "id": "5c98fa97",
      "metadata": {
        "id": "5c98fa97"
      },
      "outputs": [],
      "source": [
        "word = 'Python'"
      ]
    },
    {
      "cell_type": "code",
      "execution_count": null,
      "id": "dc6db2c9",
      "metadata": {
        "id": "dc6db2c9",
        "outputId": "171297c3-5723-4f16-dae0-6c3fe905a4f9"
      },
      "outputs": [
        {
          "data": {
            "text/plain": [
              "'P'"
            ]
          },
          "execution_count": 42,
          "metadata": {},
          "output_type": "execute_result"
        }
      ],
      "source": [
        "word[0]  # character in position 0"
      ]
    },
    {
      "cell_type": "code",
      "execution_count": null,
      "id": "6dc51f15",
      "metadata": {
        "id": "6dc51f15",
        "outputId": "5383d583-46e9-40c7-f518-74599d1df0ee"
      },
      "outputs": [
        {
          "data": {
            "text/plain": [
              "'n'"
            ]
          },
          "execution_count": 43,
          "metadata": {},
          "output_type": "execute_result"
        }
      ],
      "source": [
        "word[5]  # character in position 5\n"
      ]
    },
    {
      "cell_type": "code",
      "execution_count": null,
      "id": "1a378ce0",
      "metadata": {
        "id": "1a378ce0",
        "outputId": "531817eb-b4bc-4e6a-d146-18d7fd03683f"
      },
      "outputs": [
        {
          "data": {
            "text/plain": [
              "'n'"
            ]
          },
          "execution_count": 44,
          "metadata": {},
          "output_type": "execute_result"
        }
      ],
      "source": [
        "word[-1]  # last character"
      ]
    },
    {
      "cell_type": "code",
      "execution_count": null,
      "id": "3442d7ff",
      "metadata": {
        "id": "3442d7ff",
        "outputId": "c7aa7981-365b-4a11-b1ce-fc3f9fd05cc8"
      },
      "outputs": [
        {
          "data": {
            "text/plain": [
              "'o'"
            ]
          },
          "execution_count": 45,
          "metadata": {},
          "output_type": "execute_result"
        }
      ],
      "source": [
        "word[-2]  # second-last character"
      ]
    },
    {
      "cell_type": "code",
      "execution_count": null,
      "id": "df8f51bb",
      "metadata": {
        "id": "df8f51bb",
        "outputId": "ab76664f-e507-4f8b-8085-c1aac77668c8"
      },
      "outputs": [
        {
          "data": {
            "text/plain": [
              "'tho'"
            ]
          },
          "execution_count": 46,
          "metadata": {},
          "output_type": "execute_result"
        }
      ],
      "source": [
        "word[2:5]  # characters from position 2 (included) to 5 (excluded)"
      ]
    },
    {
      "cell_type": "code",
      "execution_count": null,
      "id": "78b35bf1",
      "metadata": {
        "id": "78b35bf1",
        "outputId": "63954896-d793-4a1b-bafa-8c2d451be5a5"
      },
      "outputs": [
        {
          "data": {
            "text/plain": [
              "'Py'"
            ]
          },
          "execution_count": 47,
          "metadata": {},
          "output_type": "execute_result"
        }
      ],
      "source": [
        "word[:2]   # character from the beginning to position 2 (excluded)"
      ]
    },
    {
      "cell_type": "code",
      "execution_count": null,
      "id": "76e3872a",
      "metadata": {
        "id": "76e3872a",
        "outputId": "c4f26eca-be38-41c9-86c5-2e5c9fbc0f9a"
      },
      "outputs": [
        {
          "data": {
            "text/plain": [
              "'on'"
            ]
          },
          "execution_count": 48,
          "metadata": {},
          "output_type": "execute_result"
        }
      ],
      "source": [
        "word[4:]   # characters from position 4 (included) to the end"
      ]
    },
    {
      "cell_type": "code",
      "execution_count": null,
      "id": "dd0b014f",
      "metadata": {
        "id": "dd0b014f",
        "outputId": "30d6ddba-96d7-48ae-aa49-6f1795b7cbc0"
      },
      "outputs": [
        {
          "data": {
            "text/plain": [
              "'on'"
            ]
          },
          "execution_count": 49,
          "metadata": {},
          "output_type": "execute_result"
        }
      ],
      "source": [
        "word[-2:]  # characters from the second-last (included) to the end"
      ]
    },
    {
      "cell_type": "code",
      "execution_count": null,
      "id": "023601aa",
      "metadata": {
        "id": "023601aa",
        "outputId": "1fb49dba-1639-4b61-8265-b46a6187bed2"
      },
      "outputs": [
        {
          "data": {
            "text/plain": [
              "'Python'"
            ]
          },
          "execution_count": 50,
          "metadata": {},
          "output_type": "execute_result"
        }
      ],
      "source": [
        "word[:2] + word[2:]"
      ]
    },
    {
      "cell_type": "code",
      "execution_count": null,
      "id": "97073103",
      "metadata": {
        "id": "97073103",
        "outputId": "76339625-46e7-426f-fed5-d7c2e18e3008"
      },
      "outputs": [
        {
          "data": {
            "text/plain": [
              "'Python'"
            ]
          },
          "execution_count": 51,
          "metadata": {},
          "output_type": "execute_result"
        }
      ],
      "source": [
        "word[:4] + word[4:]"
      ]
    },
    {
      "cell_type": "code",
      "execution_count": null,
      "id": "ce64c625",
      "metadata": {
        "id": "ce64c625",
        "outputId": "aaed618b-d94a-434b-e79d-9b6e5416ddfe"
      },
      "outputs": [
        {
          "ename": "TypeError",
          "evalue": "'str' object does not support item assignment",
          "output_type": "error",
          "traceback": [
            "\u001b[1;31m---------------------------------------------------------------------------\u001b[0m",
            "\u001b[1;31mTypeError\u001b[0m                                 Traceback (most recent call last)",
            "\u001b[1;32m~\\AppData\\Local\\Temp\\ipykernel_5124\\1604147514.py\u001b[0m in \u001b[0;36m<module>\u001b[1;34m\u001b[0m\n\u001b[1;32m----> 1\u001b[1;33m \u001b[0mword\u001b[0m\u001b[1;33m[\u001b[0m\u001b[1;36m0\u001b[0m\u001b[1;33m]\u001b[0m \u001b[1;33m=\u001b[0m \u001b[1;34m'J'\u001b[0m \u001b[1;31m# Python strings cannot be changed — they are immutable\u001b[0m\u001b[1;33m\u001b[0m\u001b[1;33m\u001b[0m\u001b[0m\n\u001b[0m",
            "\u001b[1;31mTypeError\u001b[0m: 'str' object does not support item assignment"
          ]
        }
      ],
      "source": [
        "word[0] = 'J' # Python strings cannot be changed — they are immutable"
      ]
    },
    {
      "cell_type": "code",
      "execution_count": null,
      "id": "39dcf6f6",
      "metadata": {
        "id": "39dcf6f6",
        "outputId": "170f0ca6-8152-4ecc-d15e-495053911557"
      },
      "outputs": [
        {
          "ename": "TypeError",
          "evalue": "'str' object does not support item assignment",
          "output_type": "error",
          "traceback": [
            "\u001b[1;31m---------------------------------------------------------------------------\u001b[0m",
            "\u001b[1;31mTypeError\u001b[0m                                 Traceback (most recent call last)",
            "\u001b[1;32m~\\AppData\\Local\\Temp\\ipykernel_5124\\1560658847.py\u001b[0m in \u001b[0;36m<module>\u001b[1;34m\u001b[0m\n\u001b[1;32m----> 1\u001b[1;33m \u001b[0mword\u001b[0m\u001b[1;33m[\u001b[0m\u001b[1;36m2\u001b[0m\u001b[1;33m:\u001b[0m\u001b[1;33m]\u001b[0m \u001b[1;33m=\u001b[0m \u001b[1;34m'py'\u001b[0m\u001b[1;33m\u001b[0m\u001b[1;33m\u001b[0m\u001b[0m\n\u001b[0m",
            "\u001b[1;31mTypeError\u001b[0m: 'str' object does not support item assignment"
          ]
        }
      ],
      "source": [
        "word[2:] = 'py'"
      ]
    },
    {
      "cell_type": "code",
      "execution_count": null,
      "id": "c631cef9",
      "metadata": {
        "id": "c631cef9",
        "outputId": "b311805e-3670-40fd-db31-bad12da67fdb"
      },
      "outputs": [
        {
          "data": {
            "text/plain": [
              "'Jython'"
            ]
          },
          "execution_count": 54,
          "metadata": {},
          "output_type": "execute_result"
        }
      ],
      "source": [
        "'J' + word[1:]"
      ]
    },
    {
      "cell_type": "code",
      "execution_count": null,
      "id": "ea5764e1",
      "metadata": {
        "id": "ea5764e1",
        "outputId": "d4d677de-0e7c-41a1-c0b5-78ede2aa659d"
      },
      "outputs": [
        {
          "data": {
            "text/plain": [
              "'Pypy'"
            ]
          },
          "execution_count": 55,
          "metadata": {},
          "output_type": "execute_result"
        }
      ],
      "source": [
        "word[:2] + 'py'"
      ]
    },
    {
      "cell_type": "code",
      "execution_count": null,
      "id": "9a71481c",
      "metadata": {
        "id": "9a71481c"
      },
      "outputs": [],
      "source": [
        "s = 'supercalifragilisticexpialidocious' #The built-in function len() returns the length of a string:"
      ]
    },
    {
      "cell_type": "code",
      "execution_count": null,
      "id": "134acf2e",
      "metadata": {
        "id": "134acf2e",
        "outputId": "7258abab-845a-4b0a-a051-e81b676d31ec"
      },
      "outputs": [
        {
          "data": {
            "text/plain": [
              "34"
            ]
          },
          "execution_count": 57,
          "metadata": {},
          "output_type": "execute_result"
        }
      ],
      "source": [
        "len(s)"
      ]
    },
    {
      "cell_type": "markdown",
      "id": "95c4cc13",
      "metadata": {
        "id": "95c4cc13"
      },
      "source": [
        "# 3.1.3. Lists"
      ]
    },
    {
      "cell_type": "code",
      "execution_count": null,
      "id": "e31d891f",
      "metadata": {
        "id": "e31d891f"
      },
      "outputs": [],
      "source": [
        "squares = [1, 4, 9, 16, 25]"
      ]
    },
    {
      "cell_type": "code",
      "execution_count": null,
      "id": "31f143d3",
      "metadata": {
        "id": "31f143d3",
        "outputId": "39e3a945-ecfd-4c49-bb68-ba073c590959"
      },
      "outputs": [
        {
          "data": {
            "text/plain": [
              "[1, 4, 9, 16, 25]"
            ]
          },
          "execution_count": 59,
          "metadata": {},
          "output_type": "execute_result"
        }
      ],
      "source": [
        "squares"
      ]
    },
    {
      "cell_type": "code",
      "execution_count": null,
      "id": "c9f1157d",
      "metadata": {
        "id": "c9f1157d",
        "outputId": "e948da5d-da3e-4e17-d5af-070a04abb7ad"
      },
      "outputs": [
        {
          "data": {
            "text/plain": [
              "1"
            ]
          },
          "execution_count": 60,
          "metadata": {},
          "output_type": "execute_result"
        }
      ],
      "source": [
        "squares[0]  # indexing returns the item\n"
      ]
    },
    {
      "cell_type": "code",
      "execution_count": null,
      "id": "0e5a71f2",
      "metadata": {
        "id": "0e5a71f2",
        "outputId": "a2e7ba55-9121-42c1-b4b0-04945567bb23"
      },
      "outputs": [
        {
          "data": {
            "text/plain": [
              "25"
            ]
          },
          "execution_count": 61,
          "metadata": {},
          "output_type": "execute_result"
        }
      ],
      "source": [
        "squares[-1]"
      ]
    },
    {
      "cell_type": "code",
      "execution_count": null,
      "id": "35dcb940",
      "metadata": {
        "id": "35dcb940",
        "outputId": "d161b918-6eca-448d-cea9-2b659360fbbe"
      },
      "outputs": [
        {
          "data": {
            "text/plain": [
              "[9, 16, 25]"
            ]
          },
          "execution_count": 62,
          "metadata": {},
          "output_type": "execute_result"
        }
      ],
      "source": [
        "squares[-3:]  # slicing returns a new list"
      ]
    },
    {
      "cell_type": "code",
      "execution_count": null,
      "id": "84d730f5",
      "metadata": {
        "id": "84d730f5",
        "outputId": "af6da0ef-ef7d-43df-d5dd-cf1068f392dc"
      },
      "outputs": [
        {
          "data": {
            "text/plain": [
              "[1, 4, 9, 16, 25]"
            ]
          },
          "execution_count": 63,
          "metadata": {},
          "output_type": "execute_result"
        }
      ],
      "source": [
        "squares[:]"
      ]
    },
    {
      "cell_type": "code",
      "execution_count": null,
      "id": "d85a1ab1",
      "metadata": {
        "id": "d85a1ab1",
        "outputId": "1492a25d-7a87-4034-eec5-bd6063cd2677"
      },
      "outputs": [
        {
          "data": {
            "text/plain": [
              "[1, 4, 9, 16, 25, 36, 49, 64, 81, 100]"
            ]
          },
          "execution_count": 64,
          "metadata": {},
          "output_type": "execute_result"
        }
      ],
      "source": [
        "squares + [36, 49, 64, 81, 100]"
      ]
    },
    {
      "cell_type": "code",
      "execution_count": null,
      "id": "b381d94a",
      "metadata": {
        "id": "b381d94a"
      },
      "outputs": [],
      "source": [
        "cubes = [1, 8, 27, 65, 125]  # something's wrong here"
      ]
    },
    {
      "cell_type": "code",
      "execution_count": null,
      "id": "2bd588fc",
      "metadata": {
        "id": "2bd588fc",
        "outputId": "baf602b8-68dc-4b84-ff97-d9e8e4d479a5"
      },
      "outputs": [
        {
          "data": {
            "text/plain": [
              "64"
            ]
          },
          "execution_count": 66,
          "metadata": {},
          "output_type": "execute_result"
        }
      ],
      "source": [
        "4 ** 3  # the cube of 4 is 64, not 65!"
      ]
    },
    {
      "cell_type": "code",
      "execution_count": null,
      "id": "b35a5012",
      "metadata": {
        "id": "b35a5012"
      },
      "outputs": [],
      "source": [
        "cubes[3] = 64  # replace the wrong value"
      ]
    },
    {
      "cell_type": "code",
      "execution_count": null,
      "id": "b4280b71",
      "metadata": {
        "id": "b4280b71",
        "outputId": "80e63ca0-19fe-4b8a-eacc-6dd02dbae03d"
      },
      "outputs": [
        {
          "data": {
            "text/plain": [
              "[1, 8, 27, 64, 125]"
            ]
          },
          "execution_count": 68,
          "metadata": {},
          "output_type": "execute_result"
        }
      ],
      "source": [
        "cubes"
      ]
    },
    {
      "cell_type": "code",
      "execution_count": null,
      "id": "3a5a4202",
      "metadata": {
        "id": "3a5a4202",
        "outputId": "4970442b-22b5-419f-88c9-bc754e43d080"
      },
      "outputs": [
        {
          "data": {
            "text/plain": [
              "[1, 8, 27, 64, 125, 216, 216, 343]"
            ]
          },
          "execution_count": 70,
          "metadata": {},
          "output_type": "execute_result"
        }
      ],
      "source": [
        "cubes.append(216)  # add the cube of 6\n",
        "cubes.append(7 ** 3)  # and the cube of 7\n",
        "cubes"
      ]
    },
    {
      "cell_type": "code",
      "execution_count": null,
      "id": "dd3385cf",
      "metadata": {
        "id": "dd3385cf",
        "outputId": "6b0f137e-db21-459b-9044-c7b907983bed"
      },
      "outputs": [
        {
          "data": {
            "text/plain": [
              "['a', 'b', 'c', 'd', 'e', 'f', 'g']"
            ]
          },
          "execution_count": 71,
          "metadata": {},
          "output_type": "execute_result"
        }
      ],
      "source": [
        "letters = ['a', 'b', 'c', 'd', 'e', 'f', 'g']\n",
        "letters"
      ]
    },
    {
      "cell_type": "code",
      "execution_count": null,
      "id": "a5fb97d1",
      "metadata": {
        "id": "a5fb97d1",
        "outputId": "e24eed49-df07-44b4-d65c-c403c2bd1efb"
      },
      "outputs": [
        {
          "data": {
            "text/plain": [
              "['a', 'b', 'C', 'D', 'E', 'f', 'g']"
            ]
          },
          "execution_count": 73,
          "metadata": {},
          "output_type": "execute_result"
        }
      ],
      "source": [
        "# replace some values\n",
        "letters[2:5] = ['C', 'D', 'E']\n",
        "letters"
      ]
    },
    {
      "cell_type": "code",
      "execution_count": null,
      "id": "7f629af3",
      "metadata": {
        "id": "7f629af3",
        "outputId": "e7bc09f9-2cb5-48d0-b618-ee11b93b75c0"
      },
      "outputs": [
        {
          "data": {
            "text/plain": [
              "['a', 'b', 'f', 'g']"
            ]
          },
          "execution_count": 74,
          "metadata": {},
          "output_type": "execute_result"
        }
      ],
      "source": [
        "# now remove them\n",
        "letters[2:5] = []\n",
        "letters"
      ]
    },
    {
      "cell_type": "code",
      "execution_count": null,
      "id": "ce348fe3",
      "metadata": {
        "id": "ce348fe3",
        "outputId": "63eed4f4-2b14-40bd-981b-24b0e574186e"
      },
      "outputs": [
        {
          "data": {
            "text/plain": [
              "[]"
            ]
          },
          "execution_count": 76,
          "metadata": {},
          "output_type": "execute_result"
        }
      ],
      "source": [
        " # clear the list by replacing all the elements with an empty list\n",
        "letters[:] = []\n",
        "letters"
      ]
    },
    {
      "cell_type": "code",
      "execution_count": null,
      "id": "e4152c40",
      "metadata": {
        "id": "e4152c40",
        "outputId": "0833b112-b838-46b3-c9ed-f6993939396a"
      },
      "outputs": [
        {
          "data": {
            "text/plain": [
              "4"
            ]
          },
          "execution_count": 77,
          "metadata": {},
          "output_type": "execute_result"
        }
      ],
      "source": [
        "letters = ['a', 'b', 'c', 'd']\n",
        "len(letters)"
      ]
    },
    {
      "cell_type": "code",
      "execution_count": null,
      "id": "0781a9e9",
      "metadata": {
        "id": "0781a9e9",
        "outputId": "5e498436-6cce-4ca0-f404-d0c23efabfb6"
      },
      "outputs": [
        {
          "data": {
            "text/plain": [
              "[['a', 'b', 'c'], [1, 2, 3]]"
            ]
          },
          "execution_count": 79,
          "metadata": {},
          "output_type": "execute_result"
        }
      ],
      "source": [
        "#It is possible to nest lists (create lists containing other lists)\n",
        "a = ['a', 'b', 'c']\n",
        "n = [1, 2, 3]\n",
        "x = [a, n]\n",
        "x"
      ]
    },
    {
      "cell_type": "code",
      "execution_count": null,
      "id": "108dd750",
      "metadata": {
        "id": "108dd750",
        "outputId": "51ee97b8-424d-4baa-8624-bb3a9c45b493"
      },
      "outputs": [
        {
          "data": {
            "text/plain": [
              "['a', 'b', 'c']"
            ]
          },
          "execution_count": 80,
          "metadata": {},
          "output_type": "execute_result"
        }
      ],
      "source": [
        "x[0]"
      ]
    },
    {
      "cell_type": "code",
      "execution_count": null,
      "id": "646b6e26",
      "metadata": {
        "id": "646b6e26",
        "outputId": "c414953e-b377-4ebc-be92-aba1016c857c"
      },
      "outputs": [
        {
          "data": {
            "text/plain": [
              "'b'"
            ]
          },
          "execution_count": 81,
          "metadata": {},
          "output_type": "execute_result"
        }
      ],
      "source": [
        "x[0][1]"
      ]
    },
    {
      "cell_type": "markdown",
      "id": "b665b58f",
      "metadata": {
        "id": "b665b58f"
      },
      "source": [
        "# 3.2. First Steps Towards Programming"
      ]
    },
    {
      "cell_type": "code",
      "execution_count": null,
      "id": "83732f2f",
      "metadata": {
        "id": "83732f2f",
        "outputId": "57f3f417-e3f9-4d97-b00b-a939ba769fa7"
      },
      "outputs": [
        {
          "name": "stdout",
          "output_type": "stream",
          "text": [
            "0\n",
            "1\n",
            "1\n",
            "2\n",
            "3\n",
            "5\n",
            "8\n"
          ]
        }
      ],
      "source": [
        "# Fibonacci series:\n",
        "# the sum of two elements defines the next\n",
        "a, b = 0, 1\n",
        "while a < 10:\n",
        "    print(a)\n",
        "    a, b = b, a+b"
      ]
    },
    {
      "cell_type": "code",
      "execution_count": null,
      "id": "3a39c4ee",
      "metadata": {
        "id": "3a39c4ee",
        "outputId": "933dfe74-a360-4c97-9587-d192cf9bf328"
      },
      "outputs": [
        {
          "name": "stdout",
          "output_type": "stream",
          "text": [
            "The value of i is \n",
            " 65536\n"
          ]
        }
      ],
      "source": [
        "i = 256*256\n",
        "print('The value of i is', \"\\n\", i)"
      ]
    },
    {
      "cell_type": "code",
      "execution_count": null,
      "id": "2f35399e",
      "metadata": {
        "id": "2f35399e",
        "outputId": "d894544d-811a-415a-b6af-60d5247994a5"
      },
      "outputs": [
        {
          "name": "stdout",
          "output_type": "stream",
          "text": [
            "0,1,1,2,3,5,8,13,21,34,55,89,144,233,377,610,987,"
          ]
        }
      ],
      "source": [
        "#The keyword argument end can be used to avoid the newline after the output, or end the output with a different string:\n",
        "a, b = 0, 1\n",
        "while a < 1000:\n",
        "    print(a, end=',')\n",
        "    a, b = b, a+b"
      ]
    },
    {
      "cell_type": "markdown",
      "id": "c89319ce",
      "metadata": {
        "id": "c89319ce"
      },
      "source": [
        "# 4. More Control Flow Tools"
      ]
    },
    {
      "cell_type": "markdown",
      "id": "f0b304d1",
      "metadata": {
        "id": "f0b304d1"
      },
      "source": [
        "4.1. if Statements"
      ]
    },
    {
      "cell_type": "code",
      "execution_count": null,
      "id": "84eb868d",
      "metadata": {
        "id": "84eb868d",
        "outputId": "f08b77a2-6de2-45b8-9fbb-67e5aceb8ab3"
      },
      "outputs": [
        {
          "name": "stdout",
          "output_type": "stream",
          "text": [
            "please enter an integer number:12\n",
            "More\n"
          ]
        }
      ],
      "source": [
        "x = int(input(\"please enter an integer number:\"))\n",
        "if x < 0:\n",
        "    x = 0\n",
        "    print(\"Negative changed to zero\")\n",
        "elif x == 0:\n",
        "    print(\"zero\")\n",
        "elif x == 1:\n",
        "    print(\" single \")\n",
        "else:\n",
        "    print(\"More\")"
      ]
    },
    {
      "cell_type": "markdown",
      "id": "38cc8b7f",
      "metadata": {
        "id": "38cc8b7f"
      },
      "source": [
        "4.2. for Statements"
      ]
    },
    {
      "cell_type": "code",
      "execution_count": null,
      "id": "e2ae27e2",
      "metadata": {
        "id": "e2ae27e2"
      },
      "outputs": [],
      "source": [
        "# Python’s for statement iterates over the items of any sequence (a list or a string),"
      ]
    },
    {
      "cell_type": "code",
      "execution_count": null,
      "id": "58b92740",
      "metadata": {
        "id": "58b92740",
        "outputId": "122bd170-f246-47ec-c355-9ca215f22f0e"
      },
      "outputs": [
        {
          "name": "stdout",
          "output_type": "stream",
          "text": [
            "cat 3\n",
            "window 6\n",
            "defenestrate 12\n"
          ]
        }
      ],
      "source": [
        "# Measure some strings:\n",
        "# Measure some strings:\n",
        "words = ['cat', 'window', 'defenestrate']\n",
        "for i in words:\n",
        "     print(i, len(i))"
      ]
    },
    {
      "cell_type": "markdown",
      "id": "95dc3c42",
      "metadata": {
        "id": "95dc3c42"
      },
      "source": [
        "when you want to loop through the key and value pair of a dictionary at the same time , you must use dict.items() method, the items() method allows you to loop through the items of each dictionary element (or tuple) at the same time,"
      ]
    },
    {
      "cell_type": "code",
      "execution_count": null,
      "id": "f055eb62",
      "metadata": {
        "id": "f055eb62",
        "outputId": "d019482a-bf80-4b60-f762-35ed9589516d"
      },
      "outputs": [
        {
          "name": "stdout",
          "output_type": "stream",
          "text": [
            "Users after deleting.\n",
            "Helen active\n",
            "James active\n"
          ]
        }
      ],
      "source": [
        "# Create a sample collection\n",
        "users = {\"John\": \"inactive\",\"Helen\": \"active\",\"James\": \"active\"}\n",
        "\n",
        "# Strategy:  Iterate over a copy\n",
        "for user, status in users.copy().items():\n",
        "    if status == 'inactive':\n",
        "        del users[user]\n",
        "\n",
        "print(\"Users after deleting.\")\n",
        "for user, status in users.items():\n",
        "    print(user, status)       "
      ]
    },
    {
      "cell_type": "code",
      "execution_count": null,
      "id": "0d5e499e",
      "metadata": {
        "id": "0d5e499e",
        "outputId": "007f38e8-b49b-4741-9ae8-d52288665cf0"
      },
      "outputs": [
        {
          "name": "stdout",
          "output_type": "stream",
          "text": [
            "active_users.items\n",
            "Helen active\n",
            "James active\n"
          ]
        }
      ],
      "source": [
        "# Strategy:  Create a new collection\n",
        "active_users = {}\n",
        "for user, status in users.items():\n",
        "    if status == 'active':\n",
        "        active_users[user] = status\n",
        "        \n",
        "print(\"active_users.items\")\n",
        "for user, status in active_users.items():\n",
        "    print(user, status)"
      ]
    },
    {
      "cell_type": "markdown",
      "id": "42e4d132",
      "metadata": {
        "id": "42e4d132"
      },
      "source": [
        "4.3. The range() Function"
      ]
    },
    {
      "cell_type": "markdown",
      "id": "9e7cd4f3",
      "metadata": {
        "id": "9e7cd4f3"
      },
      "source": [
        "If you do need to iterate over a sequence of numbers, the built-in function range() comes in handy. It generates arithmetic progressions"
      ]
    },
    {
      "cell_type": "code",
      "execution_count": null,
      "id": "153deca7",
      "metadata": {
        "id": "153deca7",
        "outputId": "ac082e66-1147-48b5-9aed-1ad9b00f4314"
      },
      "outputs": [
        {
          "name": "stdout",
          "output_type": "stream",
          "text": [
            "0\n",
            "1\n",
            "2\n",
            "3\n",
            "4\n"
          ]
        }
      ],
      "source": [
        "for i in range(5):\n",
        "    print(i)"
      ]
    },
    {
      "cell_type": "code",
      "execution_count": null,
      "id": "48bf60c4",
      "metadata": {
        "id": "48bf60c4",
        "outputId": "da6ac407-0348-49d7-eb94-36a00ac88f5e"
      },
      "outputs": [
        {
          "data": {
            "text/plain": [
              "[5, 6, 7, 8, 9]"
            ]
          },
          "execution_count": 16,
          "metadata": {},
          "output_type": "execute_result"
        }
      ],
      "source": [
        "list(range(5, 10))"
      ]
    },
    {
      "cell_type": "markdown",
      "id": "28476c45",
      "metadata": {
        "id": "28476c45"
      },
      "source": [
        " It is possible to let the range start at another number, or to specify a different increment (even negative; sometimes this is called the ‘step’)"
      ]
    },
    {
      "cell_type": "code",
      "execution_count": null,
      "id": "0f297490",
      "metadata": {
        "id": "0f297490",
        "outputId": "e28b0adf-2b54-4f1c-c91a-c38a19e8ece3"
      },
      "outputs": [
        {
          "data": {
            "text/plain": [
              "[0, 3, 6, 9]"
            ]
          },
          "execution_count": 17,
          "metadata": {},
          "output_type": "execute_result"
        }
      ],
      "source": [
        "list(range(0, 10, 3))"
      ]
    },
    {
      "cell_type": "markdown",
      "id": "d2342abd",
      "metadata": {
        "id": "d2342abd"
      },
      "source": [
        "To iterate over the indices of a sequence, you can combine range() and len() as follows"
      ]
    },
    {
      "cell_type": "code",
      "execution_count": null,
      "id": "43b2af59",
      "metadata": {
        "id": "43b2af59",
        "outputId": "da650b5a-215b-4847-9ab4-4da4494ed87f"
      },
      "outputs": [
        {
          "name": "stdout",
          "output_type": "stream",
          "text": [
            "0 Mary\n",
            "1 had\n",
            "2 a\n",
            "3 little\n",
            "4 lamb\n"
          ]
        }
      ],
      "source": [
        "a = ['Mary', 'had', 'a', 'little', 'lamb']\n",
        "for i in range(len(a)):\n",
        "    print(i,a[i])"
      ]
    },
    {
      "cell_type": "code",
      "execution_count": null,
      "id": "635e8aea",
      "metadata": {
        "id": "635e8aea",
        "outputId": "993defef-3613-4871-f2f4-24da95ee8948"
      },
      "outputs": [
        {
          "data": {
            "text/plain": [
              "6"
            ]
          },
          "execution_count": 1,
          "metadata": {},
          "output_type": "execute_result"
        }
      ],
      "source": [
        " sum(range(4))  # 0 + 1 + 2 + 3\n"
      ]
    },
    {
      "cell_type": "markdown",
      "id": "6e8e62ec",
      "metadata": {
        "id": "6e8e62ec"
      },
      "source": [
        "# 4.4. break and continue Statements, and else Clauses on Loops"
      ]
    },
    {
      "cell_type": "markdown",
      "id": "caf036fa",
      "metadata": {
        "id": "caf036fa"
      },
      "source": [
        "The break statement, breaks out of the innermost enclosing for or while loop."
      ]
    },
    {
      "cell_type": "code",
      "execution_count": null,
      "id": "16877f0c",
      "metadata": {
        "id": "16877f0c",
        "outputId": "bb8748eb-1f4f-424b-bdcb-93b2dc7c2db1"
      },
      "outputs": [
        {
          "name": "stdout",
          "output_type": "stream",
          "text": [
            "2\n",
            "2\n",
            "3\n",
            "2\n",
            "3\n",
            "4\n",
            "2\n",
            "3\n",
            "4\n",
            "5\n",
            "2\n",
            "3\n",
            "4\n",
            "5\n",
            "6\n",
            "2\n",
            "3\n",
            "4\n",
            "5\n",
            "6\n",
            "7\n",
            "2\n",
            "3\n",
            "4\n",
            "5\n",
            "6\n",
            "7\n",
            "8\n"
          ]
        }
      ],
      "source": [
        "for n in range(2,10):\n",
        "    for x in range(2,n):\n",
        "        print(x)"
      ]
    },
    {
      "cell_type": "code",
      "execution_count": null,
      "id": "e79226b9",
      "metadata": {
        "id": "e79226b9",
        "outputId": "c2b35537-6180-4118-90ab-512cc4c0b6f6"
      },
      "outputs": [
        {
          "name": "stdout",
          "output_type": "stream",
          "text": [
            "2 is a prime number\n",
            "3 is a prime number\n",
            "4 is not prime number\n",
            "5 is a prime number\n",
            "6 is not prime number\n",
            "7 is a prime number\n",
            "8 is not prime number\n",
            "9 is not prime number\n"
          ]
        }
      ],
      "source": [
        "for n in range(2, 10):\n",
        "    for x in range(2, n):\n",
        "        if n % x == 0:\n",
        "            print(n,'is not prime number')\n",
        "            break\n",
        "    else:\n",
        "            print(n, 'is a prime number')"
      ]
    },
    {
      "cell_type": "markdown",
      "id": "f626d897",
      "metadata": {
        "id": "f626d897"
      },
      "source": [
        "Yes, this is the correct code. Look closely: the else clause belongs to the for loop, not the if statement."
      ]
    },
    {
      "cell_type": "markdown",
      "id": "59241f3d",
      "metadata": {
        "id": "59241f3d"
      },
      "source": [
        "When used with a loop, the else clause has more in common with the else clause of a try statement than it does with that of if statements"
      ]
    },
    {
      "cell_type": "code",
      "execution_count": null,
      "id": "0c8af533",
      "metadata": {
        "id": "0c8af533",
        "outputId": "aabf5263-c239-4d59-9fbb-d16a21986798"
      },
      "outputs": [
        {
          "name": "stdout",
          "output_type": "stream",
          "text": [
            "Found an even number 2\n",
            "Found an odd number 3\n",
            "Found an even number 4\n",
            "Found an odd number 5\n",
            "Found an even number 6\n",
            "Found an odd number 7\n",
            "Found an even number 8\n",
            "Found an odd number 9\n"
          ]
        }
      ],
      "source": [
        "for num in range(2,10):\n",
        "    if num%2 == 0:\n",
        "        print(\"Found an even number\",num)\n",
        "        continue\n",
        "    print(\"Found an odd number\",num)"
      ]
    },
    {
      "cell_type": "markdown",
      "id": "8bc87205",
      "metadata": {
        "id": "8bc87205"
      },
      "source": [
        "# 4.5. pass Statements"
      ]
    },
    {
      "cell_type": "markdown",
      "id": "2af6e78a",
      "metadata": {
        "id": "2af6e78a"
      },
      "source": [
        "The pass statement does nothing. It can be used when a statement is required syntactically but the program requires no action. For example:\n",
        "\n"
      ]
    },
    {
      "cell_type": "code",
      "execution_count": null,
      "id": "9cdaac68",
      "metadata": {
        "id": "9cdaac68"
      },
      "outputs": [],
      "source": [
        "while True:\n",
        "    pass # Busy-wait for keyboard interrupt (Ctrl+C)"
      ]
    },
    {
      "cell_type": "markdown",
      "id": "bae77814",
      "metadata": {
        "id": "bae77814"
      },
      "source": [
        "This is commonly used for creating minimal classes:"
      ]
    },
    {
      "cell_type": "code",
      "execution_count": null,
      "id": "40529152",
      "metadata": {
        "id": "40529152"
      },
      "outputs": [],
      "source": [
        "class MyEmptyClass:\n",
        "    pass"
      ]
    },
    {
      "cell_type": "code",
      "execution_count": null,
      "id": "55866af2",
      "metadata": {
        "id": "55866af2"
      },
      "outputs": [],
      "source": [
        "def initlog(*args):\n",
        "    pass   # Remember to implement this!"
      ]
    },
    {
      "cell_type": "markdown",
      "id": "de36a768",
      "metadata": {
        "id": "de36a768"
      },
      "source": [
        "# 4.6. match Statements"
      ]
    },
    {
      "cell_type": "markdown",
      "id": "3073d596",
      "metadata": {
        "id": "3073d596"
      },
      "source": [
        "A match statement takes an expression and compares its value to successive patterns given as one or more case blocks.\n",
        " Only the first pattern that matches gets executed and it can also extract components (sequence elements or object attributes) from the value into variables."
      ]
    },
    {
      "cell_type": "code",
      "execution_count": null,
      "id": "b78bfd0b",
      "metadata": {
        "id": "b78bfd0b",
        "outputId": "9b6bc0c6-a28f-4351-eb99-6601bb52df39"
      },
      "outputs": [
        {
          "ename": "SyntaxError",
          "evalue": "invalid syntax (4288183966.py, line 2)",
          "output_type": "error",
          "traceback": [
            "\u001b[1;36m  File \u001b[1;32m\"C:\\Users\\ak604\\AppData\\Local\\Temp\\ipykernel_11588\\4288183966.py\"\u001b[1;36m, line \u001b[1;32m2\u001b[0m\n\u001b[1;33m    match status:\u001b[0m\n\u001b[1;37m          ^\u001b[0m\n\u001b[1;31mSyntaxError\u001b[0m\u001b[1;31m:\u001b[0m invalid syntax\n"
          ]
        }
      ],
      "source": [
        "def http_error(status):\n",
        "    atch status:\n",
        "        case 400:\n",
        "            return \"Bad request\"\n",
        "        case 404:\n",
        "            return \"Not found\"\n",
        "        case 418:\n",
        "            return \"I'm a teapot\"\n",
        "        case _:\n",
        "            return \"Something's wrong with the internet\""
      ]
    },
    {
      "cell_type": "markdown",
      "id": "3c972c8a",
      "metadata": {
        "id": "3c972c8a"
      },
      "source": [
        "# 4.7. Defining Functions"
      ]
    },
    {
      "cell_type": "code",
      "execution_count": null,
      "id": "4f2bfeca",
      "metadata": {
        "id": "4f2bfeca"
      },
      "outputs": [],
      "source": [
        "def fib(n):     # write Fibonacci series up to n\n",
        "    \"\"\"Print a Fibonacci series up to n.\"\"\"\n",
        "    a, b = 0, 1\n",
        "    while a < n:\n",
        "        print(a, end=' ')\n",
        "        a, b = b, a+b\n",
        "    print()\n",
        "    \n",
        "    # Now call the function we just defined:\n",
        "    "
      ]
    },
    {
      "cell_type": "code",
      "execution_count": null,
      "id": "85245433",
      "metadata": {
        "id": "85245433",
        "outputId": "382deb55-c58e-4467-e17e-6f5aa4b9bc5c"
      },
      "outputs": [
        {
          "name": "stdout",
          "output_type": "stream",
          "text": [
            "0 1 1 2 3 5 8 13 21 34 55 89 \n"
          ]
        }
      ],
      "source": [
        "fib(100)"
      ]
    },
    {
      "cell_type": "code",
      "execution_count": null,
      "id": "442ea7a6",
      "metadata": {
        "id": "442ea7a6",
        "outputId": "5abf3101-df88-40b8-9535-b98dce12b96c"
      },
      "outputs": [
        {
          "name": "stdout",
          "output_type": "stream",
          "text": [
            "0 1 1 2 3 5 8 13 21 34 55 89 144 233 377 610 987 \n"
          ]
        }
      ],
      "source": [
        "f=fib\n",
        "f(1000)"
      ]
    },
    {
      "cell_type": "code",
      "execution_count": null,
      "id": "2b758ecb",
      "metadata": {
        "id": "2b758ecb",
        "outputId": "6317bc8f-06de-4aef-b2ef-dfeadd58055d"
      },
      "outputs": [
        {
          "name": "stdout",
          "output_type": "stream",
          "text": [
            "0 1 1 2 3 5 8 \n",
            "None\n"
          ]
        }
      ],
      "source": [
        "print(f(10))"
      ]
    },
    {
      "cell_type": "markdown",
      "id": "e3eff6b0",
      "metadata": {
        "id": "e3eff6b0"
      },
      "source": [
        "It is simple to write a function that returns a list of the numbers of the Fibonacci series, instead of printing it:"
      ]
    },
    {
      "cell_type": "code",
      "execution_count": null,
      "id": "0b1d4bc3",
      "metadata": {
        "id": "0b1d4bc3"
      },
      "outputs": [],
      "source": [
        "def fib2(n):  # return Fibonacci series up to n\n",
        "    \"\"\"Return a list containing the Fibonacci series up to n.\"\"\"\n",
        "    result = []\n",
        "    a, b = 0, 1\n",
        "    while a < n:\n",
        "        result.append(a)   # see below\n",
        "        a, b = b, a+b\n",
        "    return result"
      ]
    },
    {
      "cell_type": "code",
      "execution_count": null,
      "id": "5fe28bf7",
      "metadata": {
        "id": "5fe28bf7"
      },
      "outputs": [],
      "source": [
        "f100 = fib2(100)    # call it"
      ]
    },
    {
      "cell_type": "code",
      "execution_count": null,
      "id": "f253f874",
      "metadata": {
        "id": "f253f874",
        "outputId": "d7c8cfa5-6aaa-45e5-e0f5-6cbc59847192"
      },
      "outputs": [
        {
          "data": {
            "text/plain": [
              "[0, 1, 1, 2, 3, 5, 8, 13, 21, 34, 55, 89]"
            ]
          },
          "execution_count": 10,
          "metadata": {},
          "output_type": "execute_result"
        }
      ],
      "source": [
        "f100"
      ]
    },
    {
      "cell_type": "markdown",
      "id": "3d89496a",
      "metadata": {
        "id": "3d89496a"
      },
      "source": [
        "It is possible to define your own object types and methods, using classes, see Classes"
      ]
    },
    {
      "cell_type": "markdown",
      "id": "c00bce42",
      "metadata": {
        "id": "c00bce42"
      },
      "source": [
        " The method append() shown in the example is defined for list objects; it adds a new element at the end of the list. In this example it is equivalent to result = result + [a], but more efficient."
      ]
    },
    {
      "cell_type": "markdown",
      "id": "5ed5fa83",
      "metadata": {
        "id": "5ed5fa83"
      },
      "source": [
        "# 4.8. More on Defining Functions"
      ]
    },
    {
      "cell_type": "markdown",
      "id": "ae955da1",
      "metadata": {
        "id": "ae955da1"
      },
      "source": [
        "It is also possible to define functions with a variable number of arguments. There are three forms, which can be combined."
      ]
    },
    {
      "cell_type": "markdown",
      "id": "89ff4cce",
      "metadata": {
        "id": "89ff4cce"
      },
      "source": [
        "# 4.8.1. Default Argument Values"
      ]
    },
    {
      "cell_type": "markdown",
      "id": "e1ce24de",
      "metadata": {
        "id": "e1ce24de"
      },
      "source": [
        "Python allows function arguments to have default values. If the function is called without the argument, the argument gets its default value."
      ]
    },
    {
      "cell_type": "code",
      "execution_count": null,
      "id": "88adf7f5",
      "metadata": {
        "id": "88adf7f5"
      },
      "outputs": [],
      "source": [
        "def ask_ok(retries=4, reminder='Please try again!'):\n",
        "     while True:\n",
        "        ok = input()\n",
        "        if ok in ('y', 'ye', 'yes'):\n",
        "            return True\n",
        "        if ok in ('n', 'no', 'nop', 'nope'):\n",
        "            return False\n",
        "        retries = retries - 1\n",
        "        if retries < 0:\n",
        "            raise ValueError('invalid user response')\n",
        "        print(reminder)"
      ]
    },
    {
      "cell_type": "code",
      "execution_count": null,
      "id": "1ef33f35",
      "metadata": {
        "scrolled": true,
        "id": "1ef33f35"
      },
      "outputs": [],
      "source": [
        "ask_ok()"
      ]
    },
    {
      "cell_type": "code",
      "execution_count": null,
      "id": "f531e291",
      "metadata": {
        "id": "f531e291",
        "outputId": "4b71dbb0-3ae4-42ab-8f8d-0e47b1d1f8cf"
      },
      "outputs": [
        {
          "name": "stdout",
          "output_type": "stream",
          "text": [
            "[5]\n"
          ]
        }
      ],
      "source": [
        "i = [5]\n",
        "\n",
        "def f(arg=i):\n",
        "    print(arg)\n",
        "    \n",
        "i = [6]\n",
        "f()\n"
      ]
    },
    {
      "cell_type": "markdown",
      "id": "d2153425",
      "metadata": {
        "id": "d2153425"
      },
      "source": [
        "Important warning: The default value is evaluated only once. This makes a difference when the default is a mutable object such as a list, dictionary, or instances of most classes. For example, the following function accumulates the arguments passed to it on subsequent calls:"
      ]
    },
    {
      "cell_type": "code",
      "execution_count": null,
      "id": "67e31e89",
      "metadata": {
        "id": "67e31e89",
        "outputId": "13cf86fd-f721-407a-d2a2-6539d50245a4"
      },
      "outputs": [
        {
          "name": "stdout",
          "output_type": "stream",
          "text": [
            "10\n"
          ]
        }
      ],
      "source": [
        "f(10)"
      ]
    },
    {
      "cell_type": "code",
      "execution_count": null,
      "id": "cc7781c1",
      "metadata": {
        "id": "cc7781c1",
        "outputId": "d56f6e2a-eb2f-499b-e6a9-04051ea0f0be"
      },
      "outputs": [
        {
          "name": "stdout",
          "output_type": "stream",
          "text": [
            "[1]\n",
            "[1, 2]\n",
            "[1, 2, 3]\n"
          ]
        }
      ],
      "source": [
        "def f(a, L=[]):\n",
        "    L.append(a)\n",
        "    return L\n",
        "\n",
        "print(f(1))\n",
        "print(f(2))\n",
        "print(f(3))"
      ]
    },
    {
      "cell_type": "markdown",
      "id": "e9f2bc43",
      "metadata": {
        "id": "e9f2bc43"
      },
      "source": [
        "# 4.8.2. Keyword Arguments"
      ]
    },
    {
      "cell_type": "markdown",
      "id": "880acc7e",
      "metadata": {
        "id": "880acc7e"
      },
      "source": [
        "Functions can also be called using keyword arguments of the form kwarg=value. For instance, the following function:"
      ]
    },
    {
      "cell_type": "code",
      "execution_count": null,
      "id": "c09f46af",
      "metadata": {
        "id": "c09f46af"
      },
      "outputs": [],
      "source": [
        "def funargs(normal,*args,**kwargs):\n",
        "    print(normal)\n",
        "    for item in args:\n",
        "        print(item)\n",
        "    print(\"\\nNow in kwargs\")\n",
        "    for key, value in kwargs.items():\n",
        "        print(f\"{key} is a {value}\")\n",
        "\n",
        "normal = \"this is a normal argument and the student are\"\n",
        "args = ['kashif','khan','allen','delhi']\n",
        "kwargs = {'kashif':'is a student','allen':'is a coaching'}\n"
      ]
    },
    {
      "cell_type": "code",
      "execution_count": null,
      "id": "c16bce87",
      "metadata": {
        "id": "c16bce87",
        "outputId": "29ffe57c-facf-4d03-d3be-dacbb5fa9227"
      },
      "outputs": [
        {
          "name": "stdout",
          "output_type": "stream",
          "text": [
            "this is a normal argument and the student are\n",
            "kashif\n",
            "khan\n",
            "allen\n",
            "delhi\n",
            "\n",
            "Now in kwargs\n",
            "kashif is a is a student\n",
            "allen is a is a coaching\n"
          ]
        }
      ],
      "source": [
        "funargs(normal,*args,**kwargs)"
      ]
    },
    {
      "cell_type": "code",
      "execution_count": null,
      "id": "f110e153",
      "metadata": {
        "id": "f110e153"
      },
      "outputs": [],
      "source": [
        "def parrot(voltage, state='a stiff', action='voom', type='Norwegian Blue'):\n",
        "    print(\"-- This parrot wouldn't\", action, end=' ')\n",
        "    print(\"if you put\", voltage, \"volts through it.\")\n",
        "    print(\"-- Lovely plumage, the\", type)\n",
        "    print(\"-- It's\", state, \"!\")"
      ]
    },
    {
      "cell_type": "markdown",
      "id": "584edad4",
      "metadata": {
        "id": "584edad4"
      },
      "source": [
        "accepts one required argument (voltage) and three optional arguments (state, action, and type). This function can be called in any of the following ways:"
      ]
    },
    {
      "cell_type": "code",
      "execution_count": null,
      "id": "226e6259",
      "metadata": {
        "id": "226e6259",
        "outputId": "d2182814-0bbd-4a6c-bc1d-175465445bc3"
      },
      "outputs": [
        {
          "name": "stdout",
          "output_type": "stream",
          "text": [
            "-- This parrot wouldn't jump if you put a million volts through it.\n",
            "-- Lovely plumage, the Norwegian Blue\n",
            "-- It's bereft of life !\n",
            "-- This parrot wouldn't voom if you put a thousand volts through it.\n",
            "-- Lovely plumage, the Norwegian Blue\n",
            "-- It's pushing up the daisies !\n"
          ]
        }
      ],
      "source": [
        "#parrot(1000)                                        # 1 positional argument\n",
        "#parrot(voltage=1000)                                  # 1 keyword argument\n",
        "#parrot(voltage=1000000, action='VOOOOOM')             # 2 keyword arguments\n",
        "#parrot(action='VOOOOOM', voltage=1000000)             # 2 keyword arguments\n",
        "parrot('a million', 'bereft of life', 'jump')         # 3 positional arguments\n",
        "parrot('a thousand', state='pushing up the daisies')  # 1 positional, 1 keyword"
      ]
    },
    {
      "cell_type": "markdown",
      "id": "c8766528",
      "metadata": {
        "id": "c8766528"
      },
      "source": [
        "but all the following calls would be invalid:"
      ]
    },
    {
      "cell_type": "code",
      "execution_count": null,
      "id": "30313849",
      "metadata": {
        "id": "30313849",
        "outputId": "dc18251e-5f9d-4c2b-9b63-f9b135db2028"
      },
      "outputs": [
        {
          "ename": "TypeError",
          "evalue": "parrot() missing 1 required positional argument: 'voltage'",
          "output_type": "error",
          "traceback": [
            "\u001b[1;31m---------------------------------------------------------------------------\u001b[0m",
            "\u001b[1;31mTypeError\u001b[0m                                 Traceback (most recent call last)",
            "\u001b[1;32m~\\AppData\\Local\\Temp\\ipykernel_21500\\1866325271.py\u001b[0m in \u001b[0;36m<module>\u001b[1;34m\u001b[0m\n\u001b[1;32m----> 1\u001b[1;33m \u001b[0mparrot\u001b[0m\u001b[1;33m(\u001b[0m\u001b[1;33m)\u001b[0m             \u001b[1;31m# required argument missing\u001b[0m\u001b[1;33m\u001b[0m\u001b[1;33m\u001b[0m\u001b[0m\n\u001b[0m",
            "\u001b[1;31mTypeError\u001b[0m: parrot() missing 1 required positional argument: 'voltage'"
          ]
        }
      ],
      "source": [
        "parrot()             # required argument missing   "
      ]
    },
    {
      "cell_type": "code",
      "execution_count": null,
      "id": "9aa34cf6",
      "metadata": {
        "id": "9aa34cf6",
        "outputId": "aceba509-5401-48e1-bd36-c6ec25b3f2a8"
      },
      "outputs": [
        {
          "ename": "SyntaxError",
          "evalue": "positional argument follows keyword argument (687679583.py, line 1)",
          "output_type": "error",
          "traceback": [
            "\u001b[1;36m  File \u001b[1;32m\"C:\\Users\\ak604\\AppData\\Local\\Temp\\ipykernel_21500\\687679583.py\"\u001b[1;36m, line \u001b[1;32m1\u001b[0m\n\u001b[1;33m    parrot(voltage=5.0, 'dead')  # non-keyword argument after a keyword argument\u001b[0m\n\u001b[1;37m                              ^\u001b[0m\n\u001b[1;31mSyntaxError\u001b[0m\u001b[1;31m:\u001b[0m positional argument follows keyword argument\n"
          ]
        }
      ],
      "source": [
        "parrot(voltage=5.0, 'dead')  # non-keyword argument after a keyword argument"
      ]
    },
    {
      "cell_type": "code",
      "execution_count": null,
      "id": "f8d0d5b2",
      "metadata": {
        "id": "f8d0d5b2",
        "outputId": "3ae5b684-4c2f-411f-b27a-0259218a84e4"
      },
      "outputs": [
        {
          "ename": "TypeError",
          "evalue": "parrot() got multiple values for argument 'voltage'",
          "output_type": "error",
          "traceback": [
            "\u001b[1;31m---------------------------------------------------------------------------\u001b[0m",
            "\u001b[1;31mTypeError\u001b[0m                                 Traceback (most recent call last)",
            "\u001b[1;32m~\\AppData\\Local\\Temp\\ipykernel_21500\\3696802954.py\u001b[0m in \u001b[0;36m<module>\u001b[1;34m\u001b[0m\n\u001b[1;32m----> 1\u001b[1;33m \u001b[0mparrot\u001b[0m\u001b[1;33m(\u001b[0m\u001b[1;36m110\u001b[0m\u001b[1;33m,\u001b[0m \u001b[0mvoltage\u001b[0m\u001b[1;33m=\u001b[0m\u001b[1;36m220\u001b[0m\u001b[1;33m)\u001b[0m         \u001b[1;31m# duplicate value for the same argument\u001b[0m\u001b[1;33m\u001b[0m\u001b[1;33m\u001b[0m\u001b[0m\n\u001b[0m",
            "\u001b[1;31mTypeError\u001b[0m: parrot() got multiple values for argument 'voltage'"
          ]
        }
      ],
      "source": [
        "parrot(110, voltage=220)         # duplicate value for the same argument"
      ]
    },
    {
      "cell_type": "code",
      "execution_count": null,
      "id": "d280045b",
      "metadata": {
        "id": "d280045b",
        "outputId": "03919a4c-d988-48ef-fc0b-39e370c75289"
      },
      "outputs": [
        {
          "ename": "TypeError",
          "evalue": "parrot() got an unexpected keyword argument 'actor'",
          "output_type": "error",
          "traceback": [
            "\u001b[1;31m---------------------------------------------------------------------------\u001b[0m",
            "\u001b[1;31mTypeError\u001b[0m                                 Traceback (most recent call last)",
            "\u001b[1;32m~\\AppData\\Local\\Temp\\ipykernel_21500\\908430912.py\u001b[0m in \u001b[0;36m<module>\u001b[1;34m\u001b[0m\n\u001b[1;32m----> 1\u001b[1;33m \u001b[0mparrot\u001b[0m\u001b[1;33m(\u001b[0m\u001b[0mactor\u001b[0m\u001b[1;33m=\u001b[0m\u001b[1;34m'John Cleese'\u001b[0m\u001b[1;33m)\u001b[0m      \u001b[1;31m# unknown keyword argument\u001b[0m\u001b[1;33m\u001b[0m\u001b[1;33m\u001b[0m\u001b[0m\n\u001b[0m",
            "\u001b[1;31mTypeError\u001b[0m: parrot() got an unexpected keyword argument 'actor'"
          ]
        }
      ],
      "source": [
        " parrot(actor='John Cleese')      # unknown keyword argument"
      ]
    },
    {
      "cell_type": "markdown",
      "id": "f7ae2bbe",
      "metadata": {
        "id": "f7ae2bbe"
      },
      "source": [
        "In a function call, keyword arguments must follow positional arguments."
      ]
    },
    {
      "cell_type": "markdown",
      "id": "da8e3f23",
      "metadata": {
        "id": "da8e3f23"
      },
      "source": [
        "When a final formal parameter of the form **name is present, it receives a dictionary (see Mapping Types — dict) containing all keyword arguments except for those corresponding to a formal parameter. This may be combined with a formal parameter of the form *name (described in the next subsection) which receives a tuple containing the positional arguments beyond the formal parameter list. (*name must occur before **name.) For example, if we define a function like this:"
      ]
    },
    {
      "cell_type": "code",
      "execution_count": null,
      "id": "1796f34d",
      "metadata": {
        "id": "1796f34d"
      },
      "outputs": [],
      "source": [
        "def cheeseshop(kind, *arguments, **keywords):\n",
        "    print(\"--Do you have any\", kind, \"?\")\n",
        "    print(\"--I'm sorry we're all out of\",kind)\n",
        "    for arg in arguments:\n",
        "        print(arg)\n",
        "    print(\"-\" * 10)\n",
        "    for kw in keywords:\n",
        "        print(kw,\":\",keywords[kw])"
      ]
    },
    {
      "cell_type": "code",
      "execution_count": null,
      "id": "f6bbab0b",
      "metadata": {
        "id": "f6bbab0b",
        "outputId": "e323e386-3688-454a-ba64-1979dcf3f5a1"
      },
      "outputs": [
        {
          "name": "stdout",
          "output_type": "stream",
          "text": [
            "--Do you have any Limburger ?\n",
            "--I'm sorry we're all out of Limburger\n",
            "It's very runny, sir.\n",
            "It's really very, VERY runny, sir.\n",
            "----------\n",
            "shopkeeper : Michael Palin\n",
            "client : John Cleese\n",
            "sketch : Cheese Shop Sketch\n"
          ]
        }
      ],
      "source": [
        "cheeseshop(\"Limburger\", \"It's very runny, sir.\",\n",
        "           \"It's really very, VERY runny, sir.\",\n",
        "           shopkeeper=\"Michael Palin\",\n",
        "           client=\"John Cleese\",\n",
        "           sketch=\"Cheese Shop Sketch\")"
      ]
    },
    {
      "cell_type": "markdown",
      "id": "4284f1a7",
      "metadata": {
        "id": "4284f1a7"
      },
      "source": [
        "# 4.8.3. Special parameters"
      ]
    },
    {
      "cell_type": "markdown",
      "id": "4963dee3",
      "metadata": {
        "id": "4963dee3"
      },
      "source": [
        "# def f(pos1, pos2, /, pos_or_kwd, *, kwd1, kwd2):\n",
        "             -----------                ----------         ----------\n",
        "               |                               |                  |\n",
        "               |                    Positional or keyword         |\n",
        "               |                                             - Keyword only\n",
        "             -- Positional only"
      ]
    },
    {
      "cell_type": "markdown",
      "id": "d13511cd",
      "metadata": {
        "id": "d13511cd"
      },
      "source": [
        "where / and * are optional."
      ]
    },
    {
      "cell_type": "markdown",
      "id": "f138fee1",
      "metadata": {
        "id": "f138fee1"
      },
      "source": [
        "# 4.8.3.1. Positional-or-Keyword Arguments"
      ]
    },
    {
      "cell_type": "markdown",
      "id": "645ee45b",
      "metadata": {
        "id": "645ee45b"
      },
      "source": [
        "If / and * are not present in the function definition, arguments may be passed to a function by position or by keyword."
      ]
    },
    {
      "cell_type": "markdown",
      "id": "7b605f60",
      "metadata": {
        "id": "7b605f60"
      },
      "source": [
        "# 4.8.3.4. Function Examples"
      ]
    },
    {
      "cell_type": "code",
      "execution_count": null,
      "id": "4d654ec5",
      "metadata": {
        "id": "4d654ec5"
      },
      "outputs": [],
      "source": [
        "def standard_arg(arg):\n",
        "    print(arg)\n",
        "\n",
        "def pos_only_arg(arg, /):\n",
        "    print(arg)\n",
        "    \n",
        "def kwd_only_arg(*, arg):\n",
        "    print(arg)\n",
        "    \n",
        "def combined_example(pos_only, /, standard, *, kwd_only):\n",
        "    print(pos_only, standard, kwd_only)"
      ]
    },
    {
      "cell_type": "markdown",
      "id": "2bac10d4",
      "metadata": {
        "id": "2bac10d4"
      },
      "source": [
        "The first function definition, standard_arg, the most familiar form, places no restrictions on the calling convention and arguments may be passed by position or keyword:"
      ]
    },
    {
      "cell_type": "code",
      "execution_count": null,
      "id": "61b5d8cb",
      "metadata": {
        "id": "61b5d8cb",
        "outputId": "a7755ab5-2520-4d0d-9b9e-c1c8a6ff1405"
      },
      "outputs": [
        {
          "name": "stdout",
          "output_type": "stream",
          "text": [
            "2\n"
          ]
        }
      ],
      "source": [
        "standard_arg(2)"
      ]
    },
    {
      "cell_type": "code",
      "execution_count": null,
      "id": "46db1991",
      "metadata": {
        "id": "46db1991",
        "outputId": "9dca5435-95f8-458b-f9f0-b83ba47d22ee"
      },
      "outputs": [
        {
          "name": "stdout",
          "output_type": "stream",
          "text": [
            "2\n"
          ]
        }
      ],
      "source": [
        "standard_arg(arg=2)"
      ]
    },
    {
      "cell_type": "markdown",
      "id": "1f156da6",
      "metadata": {
        "id": "1f156da6"
      },
      "source": [
        "The second function pos_only_arg is restricted to only use positional parameters as there is a / in the function definition:"
      ]
    },
    {
      "cell_type": "code",
      "execution_count": null,
      "id": "561f1b02",
      "metadata": {
        "id": "561f1b02",
        "outputId": "32148565-eede-429f-fe88-2e0288be16e7"
      },
      "outputs": [
        {
          "name": "stdout",
          "output_type": "stream",
          "text": [
            "1\n"
          ]
        }
      ],
      "source": [
        "pos_only_arg(1)"
      ]
    },
    {
      "cell_type": "code",
      "execution_count": null,
      "id": "7732e413",
      "metadata": {
        "id": "7732e413",
        "outputId": "ead974aa-d7b9-4dc4-8995-c5afabb94cb8"
      },
      "outputs": [
        {
          "ename": "TypeError",
          "evalue": "pos_only_arg() got some positional-only arguments passed as keyword arguments: 'arg'",
          "output_type": "error",
          "traceback": [
            "\u001b[1;31m---------------------------------------------------------------------------\u001b[0m",
            "\u001b[1;31mTypeError\u001b[0m                                 Traceback (most recent call last)",
            "\u001b[1;32m~\\AppData\\Local\\Temp\\ipykernel_21500\\2836004375.py\u001b[0m in \u001b[0;36m<module>\u001b[1;34m\u001b[0m\n\u001b[1;32m----> 1\u001b[1;33m \u001b[0mpos_only_arg\u001b[0m\u001b[1;33m(\u001b[0m\u001b[0marg\u001b[0m\u001b[1;33m=\u001b[0m\u001b[1;36m1\u001b[0m\u001b[1;33m)\u001b[0m\u001b[1;33m\u001b[0m\u001b[1;33m\u001b[0m\u001b[0m\n\u001b[0m",
            "\u001b[1;31mTypeError\u001b[0m: pos_only_arg() got some positional-only arguments passed as keyword arguments: 'arg'"
          ]
        }
      ],
      "source": [
        "pos_only_arg(arg=1)"
      ]
    },
    {
      "cell_type": "markdown",
      "id": "d259883e",
      "metadata": {
        "id": "d259883e"
      },
      "source": [
        "The third function kwd_only_args only allows keyword arguments as indicated by a * in the function definition:"
      ]
    },
    {
      "cell_type": "code",
      "execution_count": null,
      "id": "9d966111",
      "metadata": {
        "id": "9d966111",
        "outputId": "42d945d7-1ee0-4335-a691-a6dd0bdabbc5"
      },
      "outputs": [
        {
          "ename": "TypeError",
          "evalue": "kwd_only_arg() takes 0 positional arguments but 1 was given",
          "output_type": "error",
          "traceback": [
            "\u001b[1;31m---------------------------------------------------------------------------\u001b[0m",
            "\u001b[1;31mTypeError\u001b[0m                                 Traceback (most recent call last)",
            "\u001b[1;32m~\\AppData\\Local\\Temp\\ipykernel_21500\\3746133676.py\u001b[0m in \u001b[0;36m<module>\u001b[1;34m\u001b[0m\n\u001b[1;32m----> 1\u001b[1;33m \u001b[0mkwd_only_arg\u001b[0m\u001b[1;33m(\u001b[0m\u001b[1;36m3\u001b[0m\u001b[1;33m)\u001b[0m\u001b[1;33m\u001b[0m\u001b[1;33m\u001b[0m\u001b[0m\n\u001b[0m",
            "\u001b[1;31mTypeError\u001b[0m: kwd_only_arg() takes 0 positional arguments but 1 was given"
          ]
        }
      ],
      "source": [
        "kwd_only_arg(3)"
      ]
    },
    {
      "cell_type": "code",
      "execution_count": null,
      "id": "3fdbc641",
      "metadata": {
        "id": "3fdbc641",
        "outputId": "b1e0073d-8c1d-4f0a-c979-247b71004c26"
      },
      "outputs": [
        {
          "name": "stdout",
          "output_type": "stream",
          "text": [
            "3\n"
          ]
        }
      ],
      "source": [
        "kwd_only_arg(arg=3)"
      ]
    },
    {
      "cell_type": "markdown",
      "id": "602c5b41",
      "metadata": {
        "id": "602c5b41"
      },
      "source": [
        "And the last uses all three calling conventions in the same function definition:\n",
        "\n"
      ]
    },
    {
      "cell_type": "code",
      "execution_count": null,
      "id": "f0fa5b7b",
      "metadata": {
        "id": "f0fa5b7b",
        "outputId": "7cfdf73a-c1f4-470f-d29a-00b7801bc64e"
      },
      "outputs": [
        {
          "ename": "TypeError",
          "evalue": "combined_example() takes 2 positional arguments but 3 were given",
          "output_type": "error",
          "traceback": [
            "\u001b[1;31m---------------------------------------------------------------------------\u001b[0m",
            "\u001b[1;31mTypeError\u001b[0m                                 Traceback (most recent call last)",
            "\u001b[1;32m~\\AppData\\Local\\Temp\\ipykernel_21500\\2754851992.py\u001b[0m in \u001b[0;36m<module>\u001b[1;34m\u001b[0m\n\u001b[1;32m----> 1\u001b[1;33m \u001b[0mcombined_example\u001b[0m\u001b[1;33m(\u001b[0m\u001b[1;36m1\u001b[0m\u001b[1;33m,\u001b[0m \u001b[1;36m2\u001b[0m\u001b[1;33m,\u001b[0m \u001b[1;36m3\u001b[0m\u001b[1;33m)\u001b[0m\u001b[1;33m\u001b[0m\u001b[1;33m\u001b[0m\u001b[0m\n\u001b[0m",
            "\u001b[1;31mTypeError\u001b[0m: combined_example() takes 2 positional arguments but 3 were given"
          ]
        }
      ],
      "source": [
        "combined_example(1, 2, 3)"
      ]
    },
    {
      "cell_type": "code",
      "execution_count": null,
      "id": "476fbdbb",
      "metadata": {
        "id": "476fbdbb",
        "outputId": "ede4dfda-81c4-4b68-e1bf-5235568f2f36"
      },
      "outputs": [
        {
          "name": "stdout",
          "output_type": "stream",
          "text": [
            "1 2 3\n"
          ]
        }
      ],
      "source": [
        "combined_example(1, 2, kwd_only=3)"
      ]
    },
    {
      "cell_type": "code",
      "execution_count": null,
      "id": "90727951",
      "metadata": {
        "id": "90727951",
        "outputId": "d4f5f656-7026-4614-abee-a86c22ecfff6"
      },
      "outputs": [
        {
          "name": "stdout",
          "output_type": "stream",
          "text": [
            "1 2 3\n"
          ]
        }
      ],
      "source": [
        "combined_example(1, standard=2, kwd_only=3)"
      ]
    },
    {
      "cell_type": "code",
      "execution_count": null,
      "id": "c64acc3f",
      "metadata": {
        "id": "c64acc3f",
        "outputId": "51b52765-5809-4509-f781-1e8a168e673b"
      },
      "outputs": [
        {
          "ename": "TypeError",
          "evalue": "combined_example() got some positional-only arguments passed as keyword arguments: 'pos_only'",
          "output_type": "error",
          "traceback": [
            "\u001b[1;31m---------------------------------------------------------------------------\u001b[0m",
            "\u001b[1;31mTypeError\u001b[0m                                 Traceback (most recent call last)",
            "\u001b[1;32m~\\AppData\\Local\\Temp\\ipykernel_21500\\1715595389.py\u001b[0m in \u001b[0;36m<module>\u001b[1;34m\u001b[0m\n\u001b[1;32m----> 1\u001b[1;33m \u001b[0mcombined_example\u001b[0m\u001b[1;33m(\u001b[0m\u001b[0mpos_only\u001b[0m\u001b[1;33m=\u001b[0m\u001b[1;36m1\u001b[0m\u001b[1;33m,\u001b[0m \u001b[0mstandard\u001b[0m\u001b[1;33m=\u001b[0m\u001b[1;36m2\u001b[0m\u001b[1;33m,\u001b[0m \u001b[0mkwd_only\u001b[0m\u001b[1;33m=\u001b[0m\u001b[1;36m3\u001b[0m\u001b[1;33m)\u001b[0m\u001b[1;33m\u001b[0m\u001b[1;33m\u001b[0m\u001b[0m\n\u001b[0m",
            "\u001b[1;31mTypeError\u001b[0m: combined_example() got some positional-only arguments passed as keyword arguments: 'pos_only'"
          ]
        }
      ],
      "source": [
        "combined_example(pos_only=1, standard=2, kwd_only=3)"
      ]
    },
    {
      "cell_type": "markdown",
      "id": "b06ee1a0",
      "metadata": {
        "id": "b06ee1a0"
      },
      "source": [
        "Finally, consider this function definition which has a potential collision between the positional argument name and **kwds which has name as a key:\n",
        "    There is no possible call that will make it return True as the keyword 'name' will always bind to the first parameter. For example:\n",
        "    "
      ]
    },
    {
      "cell_type": "code",
      "execution_count": null,
      "id": "fd5faf3d",
      "metadata": {
        "id": "fd5faf3d"
      },
      "outputs": [],
      "source": [
        "def foo(name, **kwds):\n",
        "    return 'name' in kwds"
      ]
    },
    {
      "cell_type": "code",
      "execution_count": null,
      "id": "5ab73385",
      "metadata": {
        "id": "5ab73385",
        "outputId": "859c14b7-1f08-4a9e-f1fd-31229714a412"
      },
      "outputs": [
        {
          "ename": "TypeError",
          "evalue": "foo() got multiple values for argument 'name'",
          "output_type": "error",
          "traceback": [
            "\u001b[1;31m---------------------------------------------------------------------------\u001b[0m",
            "\u001b[1;31mTypeError\u001b[0m                                 Traceback (most recent call last)",
            "\u001b[1;32m~\\AppData\\Local\\Temp\\ipykernel_21500\\396501844.py\u001b[0m in \u001b[0;36m<module>\u001b[1;34m\u001b[0m\n\u001b[1;32m----> 1\u001b[1;33m \u001b[0mfoo\u001b[0m\u001b[1;33m(\u001b[0m\u001b[1;36m1\u001b[0m\u001b[1;33m,\u001b[0m \u001b[1;33m**\u001b[0m\u001b[1;33m{\u001b[0m\u001b[1;34m'name'\u001b[0m\u001b[1;33m:\u001b[0m \u001b[1;36m2\u001b[0m\u001b[1;33m}\u001b[0m\u001b[1;33m)\u001b[0m\u001b[1;33m\u001b[0m\u001b[1;33m\u001b[0m\u001b[0m\n\u001b[0m",
            "\u001b[1;31mTypeError\u001b[0m: foo() got multiple values for argument 'name'"
          ]
        }
      ],
      "source": [
        "foo(1, **{'name': 2})"
      ]
    },
    {
      "cell_type": "markdown",
      "id": "87d339cb",
      "metadata": {
        "id": "87d339cb"
      },
      "source": [
        "But using / (positional only arguments), it is possible since it allows name as a positional argument and 'name' as a key in the keyword arguments:"
      ]
    },
    {
      "cell_type": "code",
      "execution_count": null,
      "id": "29de64e7",
      "metadata": {
        "id": "29de64e7"
      },
      "outputs": [],
      "source": [
        "def foo(name, /, **kwds):\n",
        "    return 'name' in kwds"
      ]
    },
    {
      "cell_type": "code",
      "execution_count": null,
      "id": "c63127a8",
      "metadata": {
        "id": "c63127a8",
        "outputId": "b936d895-d85b-4945-be56-516e913184f4"
      },
      "outputs": [
        {
          "data": {
            "text/plain": [
              "True"
            ]
          },
          "execution_count": 91,
          "metadata": {},
          "output_type": "execute_result"
        }
      ],
      "source": [
        "foo(1, **{'name': 2})"
      ]
    },
    {
      "cell_type": "markdown",
      "id": "47a4cc17",
      "metadata": {
        "id": "47a4cc17"
      },
      "source": [
        "# 4.8.3.5. Recap"
      ]
    },
    {
      "cell_type": "markdown",
      "id": "af8339f2",
      "metadata": {
        "id": "af8339f2"
      },
      "source": [
        "The use case will determine which parameters to use in the function definition"
      ]
    },
    {
      "cell_type": "code",
      "execution_count": null,
      "id": "4374320a",
      "metadata": {
        "id": "4374320a",
        "outputId": "2dabcafd-64b0-44bb-c398-f1d0895ec4b4"
      },
      "outputs": [
        {
          "ename": "IndentationError",
          "evalue": "expected an indented block (155562420.py, line 1)",
          "output_type": "error",
          "traceback": [
            "\u001b[1;36m  File \u001b[1;32m\"C:\\Users\\ak604\\AppData\\Local\\Temp\\ipykernel_21500\\155562420.py\"\u001b[1;36m, line \u001b[1;32m1\u001b[0m\n\u001b[1;33m    def f(pos1, pos2, /, pos_or_kwd, *, kwd1, kwd2):\u001b[0m\n\u001b[1;37m                                                    ^\u001b[0m\n\u001b[1;31mIndentationError\u001b[0m\u001b[1;31m:\u001b[0m expected an indented block\n"
          ]
        }
      ],
      "source": [
        "def f(pos1, pos2, /, pos_or_kwd, *, kwd1, kwd2):"
      ]
    },
    {
      "cell_type": "markdown",
      "id": "7d22cb5c",
      "metadata": {
        "id": "7d22cb5c"
      },
      "source": [
        "# 4.8.4. Arbitrary Argument Lists"
      ]
    },
    {
      "cell_type": "markdown",
      "id": "32842496",
      "metadata": {
        "id": "32842496"
      },
      "source": [
        "arbitrary = मनमाना"
      ]
    },
    {
      "cell_type": "code",
      "execution_count": null,
      "id": "6cc7152d",
      "metadata": {
        "id": "6cc7152d"
      },
      "outputs": [],
      "source": [
        "def write_multiple_items(file, separator, *args):\n",
        "    file.write(separator.join(args))"
      ]
    },
    {
      "cell_type": "markdown",
      "id": "81a25b9a",
      "metadata": {
        "id": "81a25b9a"
      },
      "source": [
        " Any formal parameters which occur after the *args parameter are ‘keyword-only’ arguments, meaning that they can only be used as keywords rather than positional arguments."
      ]
    },
    {
      "cell_type": "code",
      "execution_count": null,
      "id": "bd30e0aa",
      "metadata": {
        "id": "bd30e0aa"
      },
      "outputs": [],
      "source": [
        "def concat(*args, sep=\"/\"):\n",
        "    return sep.join(args)"
      ]
    },
    {
      "cell_type": "code",
      "execution_count": null,
      "id": "76661927",
      "metadata": {
        "id": "76661927",
        "outputId": "0209e657-8747-4c18-a1bb-689f323df86c"
      },
      "outputs": [
        {
          "data": {
            "text/plain": [
              "'earth/mars/venus'"
            ]
          },
          "execution_count": 2,
          "metadata": {},
          "output_type": "execute_result"
        }
      ],
      "source": [
        "concat(\"earth\",\"mars\",\"venus\")"
      ]
    },
    {
      "cell_type": "code",
      "execution_count": null,
      "id": "5adca1dd",
      "metadata": {
        "id": "5adca1dd",
        "outputId": "0135dec8-a99f-44b2-ead0-a0d2c67f469f"
      },
      "outputs": [
        {
          "data": {
            "text/plain": [
              "'earth.mars.venus'"
            ]
          },
          "execution_count": 3,
          "metadata": {},
          "output_type": "execute_result"
        }
      ],
      "source": [
        "concat(\"earth\", \"mars\", \"venus\", sep=\".\")"
      ]
    },
    {
      "cell_type": "markdown",
      "id": "0743e206",
      "metadata": {
        "id": "0743e206"
      },
      "source": [
        "# 4.8.5. Unpacking Argument Lists"
      ]
    },
    {
      "cell_type": "markdown",
      "id": "5812dab9",
      "metadata": {
        "id": "5812dab9"
      },
      "source": [
        "Unpacking \n",
        "We can use * to unpack the list so that all elements of it can be passed as different parameters."
      ]
    },
    {
      "cell_type": "code",
      "execution_count": null,
      "id": "e9c379a5",
      "metadata": {
        "id": "e9c379a5",
        "outputId": "e87c02ef-c270-480d-afec-95a11e634f37"
      },
      "outputs": [
        {
          "data": {
            "text/plain": [
              "[3, 4, 5]"
            ]
          },
          "execution_count": 4,
          "metadata": {},
          "output_type": "execute_result"
        }
      ],
      "source": [
        "list(range(3,6))      # normal call with separate arguments"
      ]
    },
    {
      "cell_type": "code",
      "execution_count": null,
      "id": "fb7eb767",
      "metadata": {
        "id": "fb7eb767",
        "outputId": "e3d52da7-a16b-4221-e6fd-705d21ce2f03"
      },
      "outputs": [
        {
          "data": {
            "text/plain": [
              "[3, 4, 5]"
            ]
          },
          "execution_count": 7,
          "metadata": {},
          "output_type": "execute_result"
        }
      ],
      "source": [
        "args = [3,6]    # call with arguments unpacked from a list\n",
        "list(range(*args))"
      ]
    },
    {
      "cell_type": "markdown",
      "id": "4ded48ff",
      "metadata": {
        "id": "4ded48ff"
      },
      "source": [
        "In the same fashion, dictionaries can deliver keyword arguments with the **-operator"
      ]
    },
    {
      "cell_type": "code",
      "execution_count": null,
      "id": "3a3f7079",
      "metadata": {
        "id": "3a3f7079",
        "outputId": "976f3d98-1229-488a-c0ac-5f48d5c882fd"
      },
      "outputs": [
        {
          "name": "stdout",
          "output_type": "stream",
          "text": [
            "-- This parrot wouldn't VOOM if you put four million volts through it. E's bleedin' demised !\n"
          ]
        }
      ],
      "source": [
        "def parrot(voltage, state='a stiff', action='voom'):\n",
        "    print(\"-- This parrot wouldn't\", action, end=' ')\n",
        "    print(\"if you put\", voltage, \"volts through it.\", end=' ')\n",
        "    print(\"E's\", state, \"!\")\n",
        "    \n",
        "d = {\"voltage\": \"four million\", \"state\": \"bleedin' demised\", \"action\": \"VOOM\"}\n",
        "parrot(**d)"
      ]
    },
    {
      "cell_type": "markdown",
      "id": "00068c43",
      "metadata": {
        "id": "00068c43"
      },
      "source": [
        "# 4.8.6. Lambda Expressions"
      ]
    },
    {
      "cell_type": "code",
      "execution_count": null,
      "id": "c8396728",
      "metadata": {
        "id": "c8396728"
      },
      "outputs": [],
      "source": [
        "def make_incrementor(n):\n",
        "    return lambda x: x+n"
      ]
    },
    {
      "cell_type": "code",
      "execution_count": null,
      "id": "aa1d92c6",
      "metadata": {
        "id": "aa1d92c6",
        "outputId": "f391824f-58ea-451c-f681-00dce959ba70"
      },
      "outputs": [
        {
          "data": {
            "text/plain": [
              "42"
            ]
          },
          "execution_count": 16,
          "metadata": {},
          "output_type": "execute_result"
        }
      ],
      "source": [
        "f = make_incrementor(42)\n",
        "f(0)"
      ]
    },
    {
      "cell_type": "code",
      "execution_count": null,
      "id": "fff2977f",
      "metadata": {
        "id": "fff2977f",
        "outputId": "86b64829-bd07-4eb8-da89-923c33665a24"
      },
      "outputs": [
        {
          "data": {
            "text/plain": [
              "43"
            ]
          },
          "execution_count": 18,
          "metadata": {},
          "output_type": "execute_result"
        }
      ],
      "source": [
        "f(1)"
      ]
    },
    {
      "cell_type": "code",
      "execution_count": null,
      "id": "9df8f024",
      "metadata": {
        "id": "9df8f024",
        "outputId": "d4c36adc-3b79-4ae6-ac8a-b7976e93dd48"
      },
      "outputs": [
        {
          "data": {
            "text/plain": [
              "51"
            ]
          },
          "execution_count": 19,
          "metadata": {},
          "output_type": "execute_result"
        }
      ],
      "source": [
        "f(9)"
      ]
    },
    {
      "cell_type": "markdown",
      "id": "61b4f803",
      "metadata": {
        "id": "61b4f803"
      },
      "source": [
        "The above example uses a lambda expression to return a function. Another use is to pass a small function as an argument:"
      ]
    },
    {
      "cell_type": "code",
      "execution_count": null,
      "id": "45229ba4",
      "metadata": {
        "id": "45229ba4",
        "outputId": "39396989-09fc-41c0-8e1e-a66c1500f273"
      },
      "outputs": [
        {
          "data": {
            "text/plain": [
              "[(4, 'four'), (1, 'one'), (3, 'three'), (2, 'two')]"
            ]
          },
          "execution_count": 20,
          "metadata": {},
          "output_type": "execute_result"
        }
      ],
      "source": [
        "pairs = [(1, 'one'), (2, 'two'), (3, 'three'), (4, 'four')]\n",
        "pairs.sort(key=lambda pair: pair[1])\n",
        "pairs"
      ]
    },
    {
      "cell_type": "markdown",
      "id": "7017aad4",
      "metadata": {
        "id": "7017aad4"
      },
      "source": [
        "# 4.8.7. Documentation Strings"
      ]
    },
    {
      "cell_type": "code",
      "execution_count": null,
      "id": "9d95d5ba",
      "metadata": {
        "id": "9d95d5ba",
        "outputId": "b7c7455e-9837-4b46-e461-5d9716940121"
      },
      "outputs": [
        {
          "name": "stdout",
          "output_type": "stream",
          "text": [
            "do nothing, but document it.\n",
            "    No, really, it doesn't do anything.\n",
            "    \n"
          ]
        }
      ],
      "source": [
        "def my_function():\n",
        "    \"\"\"Do nothing, but document it.\n",
        "    \n",
        "    No, really, it doesn't do anything.\n",
        "    \"\"\"\n",
        "    pass\n",
        "\n",
        "print(my_function.__doc__)"
      ]
    },
    {
      "cell_type": "markdown",
      "id": "f35b2641",
      "metadata": {
        "id": "f35b2641"
      },
      "source": [
        "What should a docstring look like?\n",
        "\n",
        "The doc string line should begin with a capital letter and end with a period.\n",
        "The first line should be a short description.\n",
        "If there are more lines in the documentation string, the second line should be blank, visually separating the summary from the rest of the description.\n",
        "The following lines should be one or more paragraphs describing the object’s calling conventions, its side effects, etc.\n",
        "Declaring Docstrings: The docstrings are declared using ”’triple single quotes”’ or “””triple double quotes””” just below the class, method or function declaration. All functions should have a docstring."
      ]
    },
    {
      "cell_type": "markdown",
      "id": "c94c8607",
      "metadata": {
        "id": "c94c8607"
      },
      "source": [
        "Accessing Docstrings: The docstrings can be accessed using the __doc__ method of the object or using the help function.\n",
        "The below examples demonstrates how to declare and access a docstring."
      ]
    },
    {
      "cell_type": "code",
      "execution_count": null,
      "id": "d407e46c",
      "metadata": {
        "id": "d407e46c",
        "outputId": "f04dc723-4d30-4cda-f9b3-fafbed54723f"
      },
      "outputs": [
        {
          "name": "stdout",
          "output_type": "stream",
          "text": [
            "Returns arg1 raised to power arg2.\n"
          ]
        }
      ],
      "source": [
        "def power(a, b):\n",
        "    \"\"\"Returns arg1 raised to power arg2.\"\"\"\n",
        "   \n",
        "    return a**b\n",
        "  \n",
        "print(power.__doc__)"
      ]
    },
    {
      "cell_type": "markdown",
      "id": "5fb86698",
      "metadata": {
        "id": "5fb86698"
      },
      "source": [
        "# 5. Data Structures"
      ]
    },
    {
      "cell_type": "markdown",
      "id": "adc600af",
      "metadata": {
        "id": "adc600af"
      },
      "source": [
        "# 5.1. More on Lists"
      ]
    },
    {
      "cell_type": "code",
      "execution_count": null,
      "id": "9e2d9cad",
      "metadata": {
        "id": "9e2d9cad"
      },
      "outputs": [],
      "source": [
        "fruits = ['orange', 'apple', 'pear', 'banana', 'kiwi', 'apple', 'banana']"
      ]
    },
    {
      "cell_type": "code",
      "execution_count": null,
      "id": "397e299f",
      "metadata": {
        "id": "397e299f",
        "outputId": "c4170be0-f4ee-41fb-ce89-967b29256389"
      },
      "outputs": [
        {
          "data": {
            "text/plain": [
              "2"
            ]
          },
          "execution_count": 29,
          "metadata": {},
          "output_type": "execute_result"
        }
      ],
      "source": [
        "fruits.count('apple')"
      ]
    },
    {
      "cell_type": "code",
      "execution_count": null,
      "id": "c6fe4950",
      "metadata": {
        "id": "c6fe4950",
        "outputId": "afeb6729-0ded-4972-f0bf-60f04b627857"
      },
      "outputs": [
        {
          "data": {
            "text/plain": [
              "2"
            ]
          },
          "execution_count": 31,
          "metadata": {},
          "output_type": "execute_result"
        }
      ],
      "source": [
        "fruits.index(\"pear\")"
      ]
    },
    {
      "cell_type": "code",
      "execution_count": null,
      "id": "c158466f",
      "metadata": {
        "id": "c158466f",
        "outputId": "0773d7f0-043a-4080-dbee-02fa6486d679"
      },
      "outputs": [
        {
          "ename": "ValueError",
          "evalue": "'pear' is not in list",
          "output_type": "error",
          "traceback": [
            "\u001b[1;31m---------------------------------------------------------------------------\u001b[0m",
            "\u001b[1;31mValueError\u001b[0m                                Traceback (most recent call last)",
            "\u001b[1;32m~\\AppData\\Local\\Temp\\ipykernel_8188\\4149045085.py\u001b[0m in \u001b[0;36m<module>\u001b[1;34m\u001b[0m\n\u001b[1;32m----> 1\u001b[1;33m \u001b[0mfruits\u001b[0m\u001b[1;33m.\u001b[0m\u001b[0mindex\u001b[0m\u001b[1;33m(\u001b[0m\u001b[1;34m\"pear\"\u001b[0m\u001b[1;33m,\u001b[0m\u001b[1;36m3\u001b[0m\u001b[1;33m)\u001b[0m    \u001b[1;31m# Find next pear starting a position 3\u001b[0m\u001b[1;33m\u001b[0m\u001b[1;33m\u001b[0m\u001b[0m\n\u001b[0m",
            "\u001b[1;31mValueError\u001b[0m: 'pear' is not in list"
          ]
        }
      ],
      "source": [
        "fruits.index(\"pear\",3)    # Find next pear starting a position 3"
      ]
    },
    {
      "cell_type": "code",
      "execution_count": null,
      "id": "bb3c77b3",
      "metadata": {
        "id": "bb3c77b3"
      },
      "outputs": [],
      "source": [
        "fruits.reverse()"
      ]
    },
    {
      "cell_type": "code",
      "execution_count": null,
      "id": "2f6bd95e",
      "metadata": {
        "id": "2f6bd95e",
        "outputId": "6111ed6f-8b21-4d1c-c211-06ab642355d6"
      },
      "outputs": [
        {
          "data": {
            "text/plain": [
              "['banana', 'apple', 'kiwi', 'banana', 'pear', 'apple', 'orange']"
            ]
          },
          "execution_count": 41,
          "metadata": {},
          "output_type": "execute_result"
        }
      ],
      "source": [
        "fruits"
      ]
    },
    {
      "cell_type": "code",
      "execution_count": null,
      "id": "220516c1",
      "metadata": {
        "id": "220516c1"
      },
      "outputs": [],
      "source": [
        "fruits.append(\"grape\")"
      ]
    },
    {
      "cell_type": "code",
      "execution_count": null,
      "id": "2d54b0c1",
      "metadata": {
        "id": "2d54b0c1",
        "outputId": "dceb60fd-f861-4de4-bc12-a647dc19dc11"
      },
      "outputs": [
        {
          "data": {
            "text/plain": [
              "['banana', 'apple', 'kiwi', 'banana', 'pear', 'apple', 'orange', 'grape']"
            ]
          },
          "execution_count": 43,
          "metadata": {},
          "output_type": "execute_result"
        }
      ],
      "source": [
        "fruits"
      ]
    },
    {
      "cell_type": "code",
      "execution_count": null,
      "id": "c142323c",
      "metadata": {
        "id": "c142323c",
        "outputId": "bc2d86d8-fcd0-42ca-9df1-cccd71f237e4"
      },
      "outputs": [
        {
          "data": {
            "text/plain": [
              "['apple', 'apple', 'banana', 'banana', 'grape', 'kiwi', 'orange', 'pear']"
            ]
          },
          "execution_count": 45,
          "metadata": {},
          "output_type": "execute_result"
        }
      ],
      "source": [
        "fruits.sort()\n",
        "fruits"
      ]
    },
    {
      "cell_type": "code",
      "execution_count": null,
      "id": "9646211c",
      "metadata": {
        "id": "9646211c",
        "outputId": "889d0377-cda3-4b0c-c3bf-1190f63b2f76"
      },
      "outputs": [
        {
          "data": {
            "text/plain": [
              "'pear'"
            ]
          },
          "execution_count": 46,
          "metadata": {},
          "output_type": "execute_result"
        }
      ],
      "source": [
        "fruits.pop()"
      ]
    },
    {
      "cell_type": "markdown",
      "id": "ab86e1c4",
      "metadata": {
        "id": "ab86e1c4"
      },
      "source": [
        "# 5.1.1. Using Lists as Stacks"
      ]
    },
    {
      "cell_type": "markdown",
      "id": "7366306d",
      "metadata": {
        "id": "7366306d"
      },
      "source": [
        "retrieve = फिर से प्राप्त करना"
      ]
    },
    {
      "cell_type": "markdown",
      "id": "cedceaca",
      "metadata": {
        "id": "cedceaca"
      },
      "source": [
        "To add an item to the top of the stack, use append(). To retrieve an item from the top of the stack, use pop() without an explicit index. For example:"
      ]
    },
    {
      "cell_type": "code",
      "execution_count": null,
      "id": "750e8fa2",
      "metadata": {
        "id": "750e8fa2"
      },
      "outputs": [],
      "source": [
        "stack = [3, 4, 5]"
      ]
    },
    {
      "cell_type": "code",
      "execution_count": null,
      "id": "cdbf33a8",
      "metadata": {
        "id": "cdbf33a8"
      },
      "outputs": [],
      "source": [
        "stack.append(6)"
      ]
    },
    {
      "cell_type": "code",
      "execution_count": null,
      "id": "587752d5",
      "metadata": {
        "id": "587752d5"
      },
      "outputs": [],
      "source": [
        "stack.append(8)"
      ]
    },
    {
      "cell_type": "code",
      "execution_count": null,
      "id": "7d4eba70",
      "metadata": {
        "id": "7d4eba70",
        "outputId": "66a61242-51af-4fb6-8f35-40768e5b9e83"
      },
      "outputs": [
        {
          "data": {
            "text/plain": [
              "[3, 4, 5, 6, 8]"
            ]
          },
          "execution_count": 50,
          "metadata": {},
          "output_type": "execute_result"
        }
      ],
      "source": [
        "stack"
      ]
    },
    {
      "cell_type": "code",
      "execution_count": null,
      "id": "1ae51782",
      "metadata": {
        "id": "1ae51782",
        "outputId": "dc51ec42-aa6e-44a0-aae9-4436ccf7481d"
      },
      "outputs": [
        {
          "data": {
            "text/plain": [
              "8"
            ]
          },
          "execution_count": 51,
          "metadata": {},
          "output_type": "execute_result"
        }
      ],
      "source": [
        "stack.pop()"
      ]
    },
    {
      "cell_type": "code",
      "execution_count": null,
      "id": "e8498b66",
      "metadata": {
        "id": "e8498b66",
        "outputId": "48d2bc3d-d858-4d38-bb21-2d0471e2f28d"
      },
      "outputs": [
        {
          "data": {
            "text/plain": [
              "[3, 4, 5, 6]"
            ]
          },
          "execution_count": 52,
          "metadata": {},
          "output_type": "execute_result"
        }
      ],
      "source": [
        "stack"
      ]
    },
    {
      "cell_type": "markdown",
      "id": "7e857e36",
      "metadata": {
        "id": "7e857e36"
      },
      "source": [
        "# 5.1.2. Using Lists as Queues"
      ]
    },
    {
      "cell_type": "markdown",
      "id": "6402a6e9",
      "metadata": {
        "id": "6402a6e9"
      },
      "source": [
        "To implement a queue, use collections.deque which was designed to have fast appends and pops from both ends. For example:"
      ]
    },
    {
      "cell_type": "code",
      "execution_count": null,
      "id": "bc6388fa",
      "metadata": {
        "id": "bc6388fa"
      },
      "outputs": [],
      "source": [
        "from collections import deque\n",
        "queue = deque([\"Eric\", \"John\", \"Michael\"])\n",
        "queue.append(\"Terry\")           # Terry arrives\n",
        "queue.append(\"Graham\")          # Graham arrives"
      ]
    },
    {
      "cell_type": "code",
      "execution_count": null,
      "id": "64f3cab0",
      "metadata": {
        "id": "64f3cab0",
        "outputId": "88403b59-1b02-4d1e-b37d-1a973ec8f742"
      },
      "outputs": [
        {
          "data": {
            "text/plain": [
              "deque(['Eric', 'John', 'Michael', 'Terry', 'Graham'])"
            ]
          },
          "execution_count": 54,
          "metadata": {},
          "output_type": "execute_result"
        }
      ],
      "source": [
        "queue"
      ]
    },
    {
      "cell_type": "code",
      "execution_count": null,
      "id": "bdd5226a",
      "metadata": {
        "id": "bdd5226a",
        "outputId": "3b4d7069-134d-4e89-f03c-c2acc4ff019a"
      },
      "outputs": [
        {
          "data": {
            "text/plain": [
              "deque(['John', 'Michael', 'Terry'])"
            ]
          },
          "execution_count": 56,
          "metadata": {},
          "output_type": "execute_result"
        }
      ],
      "source": [
        "queue.popleft()\n",
        "queue"
      ]
    },
    {
      "cell_type": "markdown",
      "id": "b7e9ff74",
      "metadata": {
        "id": "b7e9ff74"
      },
      "source": [
        "# 5.1.3. List Comprehensions"
      ]
    },
    {
      "cell_type": "markdown",
      "id": "fa0b2e59",
      "metadata": {
        "id": "fa0b2e59"
      },
      "source": [
        "Comprehensions = समझ"
      ]
    },
    {
      "cell_type": "markdown",
      "id": "ecef9ca1",
      "metadata": {
        "id": "ecef9ca1"
      },
      "source": [
        " Common applications are to make new lists where each element is the result of some operations applied to each member of another sequence or iterable, or to create a subsequence of those elements that satisfy a certain condition."
      ]
    },
    {
      "cell_type": "code",
      "execution_count": null,
      "id": "3a79757f",
      "metadata": {
        "id": "3a79757f"
      },
      "outputs": [],
      "source": [
        "squares = []\n",
        "for x in range(10):\n",
        "    squares.append(x**2)"
      ]
    },
    {
      "cell_type": "code",
      "execution_count": null,
      "id": "5deb859b",
      "metadata": {
        "id": "5deb859b",
        "outputId": "c2d82575-67d4-4459-f6c1-b56209f746c7"
      },
      "outputs": [
        {
          "data": {
            "text/plain": [
              "[0, 1, 4, 9, 16, 25, 36, 49, 64, 81]"
            ]
          },
          "execution_count": 58,
          "metadata": {},
          "output_type": "execute_result"
        }
      ],
      "source": [
        "squares"
      ]
    },
    {
      "cell_type": "markdown",
      "id": "18910d77",
      "metadata": {
        "id": "18910d77"
      },
      "source": [
        "Note that this creates (or overwrites) a variable named x that still exists after the loop completes. We can calculate the list of squares without any side effects using:"
      ]
    },
    {
      "cell_type": "code",
      "execution_count": null,
      "id": "301e0f79",
      "metadata": {
        "id": "301e0f79"
      },
      "outputs": [],
      "source": [
        "squares = list(map(lambda x: x**2, range(11)))"
      ]
    },
    {
      "cell_type": "code",
      "execution_count": null,
      "id": "dbe42d8a",
      "metadata": {
        "id": "dbe42d8a",
        "outputId": "62d7082e-b969-4c98-f731-c0aafa68261a"
      },
      "outputs": [
        {
          "data": {
            "text/plain": [
              "[0, 1, 4, 9, 16, 25, 36, 49, 64, 81, 100]"
            ]
          },
          "execution_count": 66,
          "metadata": {},
          "output_type": "execute_result"
        }
      ],
      "source": [
        "squares"
      ]
    },
    {
      "cell_type": "code",
      "execution_count": null,
      "id": "8f77e78c",
      "metadata": {
        "id": "8f77e78c",
        "outputId": "b6fd5e73-7596-4849-c5e9-8888a6f53a62"
      },
      "outputs": [
        {
          "data": {
            "text/plain": [
              "[0, 1, 4, 9, 16, 25, 36, 49, 64]"
            ]
          },
          "execution_count": 67,
          "metadata": {},
          "output_type": "execute_result"
        }
      ],
      "source": [
        "squares = [x**2 for x in range(9)]\n",
        "squares"
      ]
    },
    {
      "cell_type": "markdown",
      "id": "fbc8bd7f",
      "metadata": {
        "id": "fbc8bd7f"
      },
      "source": [
        " this listcomp combines the elements of two lists if they are not equal:"
      ]
    },
    {
      "cell_type": "code",
      "execution_count": null,
      "id": "88293332",
      "metadata": {
        "id": "88293332",
        "outputId": "ed1c5c41-e385-4d4b-8288-90574c606f78"
      },
      "outputs": [
        {
          "data": {
            "text/plain": [
              "[(1, 3), (1, 4), (2, 3), (2, 1), (2, 4), (3, 1), (3, 4)]"
            ]
          },
          "execution_count": 68,
          "metadata": {},
          "output_type": "execute_result"
        }
      ],
      "source": [
        "[(x, y) for x in [1,2,3] for y in [3,1,4] if x != y]"
      ]
    },
    {
      "cell_type": "code",
      "execution_count": null,
      "id": "c9a4bd57",
      "metadata": {
        "id": "c9a4bd57"
      },
      "outputs": [],
      "source": [
        "combs = []\n",
        "for x in [1,2,3]:\n",
        "    for y in [3,1,4]:\n",
        "        if x != y:\n",
        "            combs.append((x,y))"
      ]
    },
    {
      "cell_type": "code",
      "execution_count": null,
      "id": "dd958d04",
      "metadata": {
        "id": "dd958d04",
        "outputId": "dced8e05-5886-49d4-93a4-955db1570f7b"
      },
      "outputs": [
        {
          "data": {
            "text/plain": [
              "[(1, 3), (1, 4), (2, 3), (2, 1), (2, 4), (3, 1), (3, 4)]"
            ]
          },
          "execution_count": 73,
          "metadata": {},
          "output_type": "execute_result"
        }
      ],
      "source": [
        "combs"
      ]
    },
    {
      "cell_type": "markdown",
      "id": "553cab4b",
      "metadata": {
        "id": "553cab4b"
      },
      "source": [
        "parenthesize = बीच में लिखना"
      ]
    },
    {
      "cell_type": "code",
      "execution_count": null,
      "id": "59d1b45a",
      "metadata": {
        "id": "59d1b45a"
      },
      "outputs": [],
      "source": [
        "vec = [-4, -2, 0, 2, 4]   # create a new list with the values doubled"
      ]
    },
    {
      "cell_type": "code",
      "execution_count": null,
      "id": "68fc4e24",
      "metadata": {
        "id": "68fc4e24",
        "outputId": "73de5a98-bca8-414b-e6a2-020df1f8d923"
      },
      "outputs": [
        {
          "data": {
            "text/plain": [
              "[-8, -4, 0, 4, 8]"
            ]
          },
          "execution_count": 76,
          "metadata": {},
          "output_type": "execute_result"
        }
      ],
      "source": [
        "[x*2 for x in vec]"
      ]
    },
    {
      "cell_type": "code",
      "execution_count": null,
      "id": "5745cf34",
      "metadata": {
        "id": "5745cf34",
        "outputId": "b163cec9-030a-4264-d76b-6cd030bbbfb7"
      },
      "outputs": [
        {
          "data": {
            "text/plain": [
              "[0, 2, 4]"
            ]
          },
          "execution_count": 78,
          "metadata": {},
          "output_type": "execute_result"
        }
      ],
      "source": [
        "[x for x in vec if x >= 0]  # filter the list to exclude negative numbers"
      ]
    },
    {
      "cell_type": "code",
      "execution_count": null,
      "id": "204039aa",
      "metadata": {
        "id": "204039aa",
        "outputId": "f5a40686-79e7-4c9f-ce45-f8c9b345b54a"
      },
      "outputs": [
        {
          "data": {
            "text/plain": [
              "[4, 2, 0, 2, 4]"
            ]
          },
          "execution_count": 79,
          "metadata": {},
          "output_type": "execute_result"
        }
      ],
      "source": [
        "[abs(x) for x in vec]  # apply a function to all the elements"
      ]
    },
    {
      "cell_type": "code",
      "execution_count": null,
      "id": "decfa2f6",
      "metadata": {
        "id": "decfa2f6"
      },
      "outputs": [],
      "source": [
        "freshfruit = ['  banana', '  loganberry ', 'passion fruit  ']\n",
        " # call a method on each element"
      ]
    },
    {
      "cell_type": "code",
      "execution_count": null,
      "id": "35b77f58",
      "metadata": {
        "id": "35b77f58",
        "outputId": "8e1f5299-be43-4019-92c4-dcdb0cad1de3"
      },
      "outputs": [
        {
          "data": {
            "text/plain": [
              "['banana', 'loganberry', 'passion fruit']"
            ]
          },
          "execution_count": 81,
          "metadata": {},
          "output_type": "execute_result"
        }
      ],
      "source": [
        "[weapon.strip() for weapon in freshfruit]"
      ]
    },
    {
      "cell_type": "markdown",
      "id": "80908301",
      "metadata": {
        "id": "80908301"
      },
      "source": [
        "Remove spaces at the beginning and at the end of the string: by .strip()"
      ]
    },
    {
      "cell_type": "code",
      "execution_count": null,
      "id": "fd824890",
      "metadata": {
        "id": "fd824890",
        "outputId": "d030d210-b81c-41b3-e361-1fb22f3ce4c8"
      },
      "outputs": [
        {
          "data": {
            "text/plain": [
              "[(0, 0), (1, 1), (2, 4), (3, 9), (4, 16)]"
            ]
          },
          "execution_count": 83,
          "metadata": {},
          "output_type": "execute_result"
        }
      ],
      "source": [
        "# create a list of 2-tuples like (number, square)\n",
        "[(x, x**2) for x in range(5)]"
      ]
    },
    {
      "cell_type": "code",
      "execution_count": null,
      "id": "2411f93f",
      "metadata": {
        "id": "2411f93f",
        "outputId": "51d240c4-b1e3-4ff6-d972-e21b98237646"
      },
      "outputs": [
        {
          "ename": "SyntaxError",
          "evalue": "invalid syntax (3265058268.py, line 2)",
          "output_type": "error",
          "traceback": [
            "\u001b[1;36m  File \u001b[1;32m\"C:\\Users\\ak604\\AppData\\Local\\Temp\\ipykernel_8188\\3265058268.py\"\u001b[1;36m, line \u001b[1;32m2\u001b[0m\n\u001b[1;33m    [x, x**2 for x in range(6)]\u001b[0m\n\u001b[1;37m             ^\u001b[0m\n\u001b[1;31mSyntaxError\u001b[0m\u001b[1;31m:\u001b[0m invalid syntax\n"
          ]
        }
      ],
      "source": [
        "# the tuple must be parenthesized, otherwise an error is raised\n",
        "[x, x**2 for x in range(6)]"
      ]
    },
    {
      "cell_type": "code",
      "execution_count": null,
      "id": "7213bc0a",
      "metadata": {
        "id": "7213bc0a",
        "outputId": "d91de681-e9e6-4a5a-b1a9-092fdda5c1fa"
      },
      "outputs": [
        {
          "data": {
            "text/plain": [
              "[1, 2, 3, 4, 5, 6, 7, 8, 9]"
            ]
          },
          "execution_count": 87,
          "metadata": {},
          "output_type": "execute_result"
        }
      ],
      "source": [
        "# flatten a list using a listcomp with two 'for'\n",
        "vec = [[1,2,3], [4,5,6], [7,8,9]]\n",
        "[num for elem in vec for num in elem]"
      ]
    },
    {
      "cell_type": "markdown",
      "id": "e3d97b1a",
      "metadata": {
        "id": "e3d97b1a"
      },
      "source": [
        "List comprehensions can contain complex expressions and nested functions:\n",
        "\n"
      ]
    },
    {
      "cell_type": "code",
      "execution_count": null,
      "id": "c0153934",
      "metadata": {
        "id": "c0153934",
        "outputId": "b18dee3e-c183-447f-e04e-61b3dce46e0c"
      },
      "outputs": [
        {
          "data": {
            "text/plain": [
              "['3.1', '3.14', '3.142', '3.1416', '3.14159']"
            ]
          },
          "execution_count": 3,
          "metadata": {},
          "output_type": "execute_result"
        }
      ],
      "source": [
        "from math import pi\n",
        "[str(round(pi,i)) for i in range(1, 6)]"
      ]
    },
    {
      "cell_type": "markdown",
      "id": "cf61ce31",
      "metadata": {
        "id": "cf61ce31"
      },
      "source": [
        "# 5.1.4. Nested List Comprehensions"
      ]
    },
    {
      "cell_type": "code",
      "execution_count": null,
      "id": "716f21e6",
      "metadata": {
        "id": "716f21e6",
        "outputId": "79d60068-e6df-4fa4-8a88-979d0689b796"
      },
      "outputs": [
        {
          "data": {
            "text/plain": [
              "[[1, 2, 3, 4], [5, 6, 7, 8], [9, 10, 11, 12]]"
            ]
          },
          "execution_count": 8,
          "metadata": {},
          "output_type": "execute_result"
        }
      ],
      "source": [
        "matrix = [\n",
        "   [1, 2, 3, 4],\n",
        "    [5, 6, 7, 8],\n",
        "    [9, 10, 11, 12],\n",
        "]\n",
        "matrix"
      ]
    },
    {
      "cell_type": "markdown",
      "id": "8b71c25c",
      "metadata": {
        "id": "8b71c25c"
      },
      "source": [
        "The following list comprehension will transpose rows and columns:"
      ]
    },
    {
      "cell_type": "code",
      "execution_count": null,
      "id": "e7a99307",
      "metadata": {
        "id": "e7a99307",
        "outputId": "ff6a1588-45d6-47c4-933b-2bfdb44863f7"
      },
      "outputs": [
        {
          "data": {
            "text/plain": [
              "[[1, 5, 9], [2, 6, 10], [3, 7, 11], [4, 8, 12]]"
            ]
          },
          "execution_count": 9,
          "metadata": {},
          "output_type": "execute_result"
        }
      ],
      "source": [
        "[[row[i] for row in matrix] for i in range(4)]\n"
      ]
    },
    {
      "cell_type": "code",
      "execution_count": null,
      "id": "ac43aa7c",
      "metadata": {
        "id": "ac43aa7c",
        "outputId": "3823491c-7856-44a8-89ee-2499aab53f24"
      },
      "outputs": [
        {
          "data": {
            "text/plain": [
              "[[1, 5, 9], [2, 6, 10], [3, 7, 11], [4, 8, 12]]"
            ]
          },
          "execution_count": 12,
          "metadata": {},
          "output_type": "execute_result"
        }
      ],
      "source": [
        "transposed = []\n",
        "for i in range (4):\n",
        "    transposed.append([row[i] for row in matrix])\n",
        "    \n",
        "transposed"
      ]
    },
    {
      "cell_type": "code",
      "execution_count": null,
      "id": "f3b3b266",
      "metadata": {
        "id": "f3b3b266",
        "outputId": "de5902f8-cc5d-4c72-fe68-8c5433b7b6d7"
      },
      "outputs": [
        {
          "data": {
            "text/plain": [
              "[[1, 5, 9], [2, 6, 10], [3, 7, 11], [4, 8, 12]]"
            ]
          },
          "execution_count": 14,
          "metadata": {},
          "output_type": "execute_result"
        }
      ],
      "source": [
        "transposed = []\n",
        "for i in range(4):\n",
        "    # the following 3 lines implement the nested listcomp\n",
        "    transposed_row = []\n",
        "    for row in matrix:\n",
        "        transposed_row.append(row[i])\n",
        "    transposed.append(transposed_row)\n",
        "    \n",
        "transposed"
      ]
    },
    {
      "cell_type": "markdown",
      "id": "c80d6ffa",
      "metadata": {
        "id": "c80d6ffa"
      },
      "source": [
        "In the real world, you should prefer built-in functions to complex flow statements. The zip() function would do a great job for this use case:\n",
        "\n"
      ]
    },
    {
      "cell_type": "code",
      "execution_count": null,
      "id": "89bfe6cb",
      "metadata": {
        "id": "89bfe6cb",
        "outputId": "304ba917-3904-4af6-f8e5-b104293dbca3"
      },
      "outputs": [
        {
          "data": {
            "text/plain": [
              "[(1, 5, 9), (2, 6, 10), (3, 7, 11), (4, 8, 12)]"
            ]
          },
          "execution_count": 16,
          "metadata": {},
          "output_type": "execute_result"
        }
      ],
      "source": [
        "list(zip(*matrix))"
      ]
    },
    {
      "cell_type": "markdown",
      "id": "95e62ef2",
      "metadata": {
        "id": "95e62ef2"
      },
      "source": [
        "# 5.2. The del statement"
      ]
    },
    {
      "cell_type": "markdown",
      "id": "b92981d8",
      "metadata": {
        "id": "b92981d8"
      },
      "source": [
        "There is a way to remove an item from a list given its index instead of its value: the del statement. This differs from the pop() method which returns a value. The del statement can also be used to remove slices from a list or clear the entire list (which we did earlier by assignment of an empty list to the slice). For example:"
      ]
    },
    {
      "cell_type": "code",
      "execution_count": null,
      "id": "a3b996d5",
      "metadata": {
        "id": "a3b996d5"
      },
      "outputs": [],
      "source": [
        "a = [-1, 1, 66.25, 333, 333, 1234.5]"
      ]
    },
    {
      "cell_type": "code",
      "execution_count": null,
      "id": "2bfede66",
      "metadata": {
        "id": "2bfede66"
      },
      "outputs": [],
      "source": [
        "del a[0]"
      ]
    },
    {
      "cell_type": "code",
      "execution_count": null,
      "id": "7bdeaa33",
      "metadata": {
        "id": "7bdeaa33",
        "outputId": "d7233db7-1e63-4182-d771-e847edaae28b"
      },
      "outputs": [
        {
          "data": {
            "text/plain": [
              "[1, 66.25, 333, 333, 1234.5]"
            ]
          },
          "execution_count": 19,
          "metadata": {},
          "output_type": "execute_result"
        }
      ],
      "source": [
        "a"
      ]
    },
    {
      "cell_type": "code",
      "execution_count": null,
      "id": "d202ba49",
      "metadata": {
        "id": "d202ba49",
        "outputId": "c8c2a356-0ef2-4af0-902c-94c23f47f1b3"
      },
      "outputs": [
        {
          "data": {
            "text/plain": [
              "[1, 66.25, 1234.5]"
            ]
          },
          "execution_count": 22,
          "metadata": {},
          "output_type": "execute_result"
        }
      ],
      "source": [
        "del a[2:4]\n",
        "a"
      ]
    },
    {
      "cell_type": "code",
      "execution_count": null,
      "id": "c9de944f",
      "metadata": {
        "id": "c9de944f",
        "outputId": "2a816643-cd7e-42e9-ee58-6d969267c2be"
      },
      "outputs": [
        {
          "data": {
            "text/plain": [
              "[]"
            ]
          },
          "execution_count": 24,
          "metadata": {},
          "output_type": "execute_result"
        }
      ],
      "source": [
        "del a[:]\n",
        "a"
      ]
    },
    {
      "cell_type": "markdown",
      "id": "8b07749b",
      "metadata": {
        "id": "8b07749b"
      },
      "source": [
        "del can also be used to delete entire variables:"
      ]
    },
    {
      "cell_type": "code",
      "execution_count": null,
      "id": "7a29df58",
      "metadata": {
        "id": "7a29df58"
      },
      "outputs": [],
      "source": [
        "del a"
      ]
    },
    {
      "cell_type": "markdown",
      "id": "75bb74f3",
      "metadata": {
        "id": "75bb74f3"
      },
      "source": [
        "# 5.3. Tuples and Sequences"
      ]
    },
    {
      "cell_type": "markdown",
      "id": "c97672ab",
      "metadata": {
        "id": "c97672ab"
      },
      "source": [
        "We saw that lists and strings have many common properties, such as indexing and slicing operations."
      ]
    },
    {
      "cell_type": "markdown",
      "id": "68779acb",
      "metadata": {
        "id": "68779acb"
      },
      "source": [
        "A tuple consists of a number of values separated by commas, for instance:"
      ]
    },
    {
      "cell_type": "code",
      "execution_count": null,
      "id": "93649470",
      "metadata": {
        "id": "93649470",
        "outputId": "3960e2eb-137d-44f4-ee65-ca94892843fc"
      },
      "outputs": [
        {
          "data": {
            "text/plain": [
              "12345"
            ]
          },
          "execution_count": 27,
          "metadata": {},
          "output_type": "execute_result"
        }
      ],
      "source": [
        "t = 12345, 54321, 'hello!'\n",
        "t[0]"
      ]
    },
    {
      "cell_type": "code",
      "execution_count": null,
      "id": "c1512f3a",
      "metadata": {
        "id": "c1512f3a",
        "outputId": "6d3c3f14-8672-4084-d63f-abd651f9d9cc"
      },
      "outputs": [
        {
          "data": {
            "text/plain": [
              "(12345, 54321, 'hello!')"
            ]
          },
          "execution_count": 28,
          "metadata": {},
          "output_type": "execute_result"
        }
      ],
      "source": [
        "t"
      ]
    },
    {
      "cell_type": "code",
      "execution_count": null,
      "id": "7b8b59be",
      "metadata": {
        "id": "7b8b59be",
        "outputId": "c5628716-37ba-4d79-8ec2-4c018742ce87"
      },
      "outputs": [
        {
          "data": {
            "text/plain": [
              "((12345, 54321, 'hello!'), (1, 2, 3, 4, 5))"
            ]
          },
          "execution_count": 29,
          "metadata": {},
          "output_type": "execute_result"
        }
      ],
      "source": [
        "# Tuples may be nested:\n",
        "u = t, (1, 2, 3, 4, 5)\n",
        "u"
      ]
    },
    {
      "cell_type": "code",
      "execution_count": null,
      "id": "c089446e",
      "metadata": {
        "id": "c089446e",
        "outputId": "85255251-2731-4c84-c31a-6545d3048074"
      },
      "outputs": [
        {
          "ename": "TypeError",
          "evalue": "'tuple' object does not support item assignment",
          "output_type": "error",
          "traceback": [
            "\u001b[1;31m---------------------------------------------------------------------------\u001b[0m",
            "\u001b[1;31mTypeError\u001b[0m                                 Traceback (most recent call last)",
            "\u001b[1;32m~\\AppData\\Local\\Temp\\ipykernel_9812\\1224713047.py\u001b[0m in \u001b[0;36m<module>\u001b[1;34m\u001b[0m\n\u001b[0;32m      1\u001b[0m \u001b[1;31m# Tuples are immutable:\u001b[0m\u001b[1;33m\u001b[0m\u001b[1;33m\u001b[0m\u001b[0m\n\u001b[1;32m----> 2\u001b[1;33m \u001b[0mt\u001b[0m\u001b[1;33m[\u001b[0m\u001b[1;36m0\u001b[0m\u001b[1;33m]\u001b[0m \u001b[1;33m=\u001b[0m \u001b[1;36m100\u001b[0m\u001b[1;33m\u001b[0m\u001b[1;33m\u001b[0m\u001b[0m\n\u001b[0m",
            "\u001b[1;31mTypeError\u001b[0m: 'tuple' object does not support item assignment"
          ]
        }
      ],
      "source": [
        "# Tuples are immutable:\n",
        "t[0] = 100"
      ]
    },
    {
      "cell_type": "code",
      "execution_count": null,
      "id": "13a0af75",
      "metadata": {
        "id": "13a0af75",
        "outputId": "aba1a855-0bbc-4ad3-be41-ecb75c61c22c"
      },
      "outputs": [
        {
          "data": {
            "text/plain": [
              "([1, 2, 3], [3, 2, 1])"
            ]
          },
          "execution_count": 31,
          "metadata": {},
          "output_type": "execute_result"
        }
      ],
      "source": [
        "# but they can contain mutable objects:\n",
        "v = ([1, 2, 3], [3, 2, 1])\n",
        "v"
      ]
    },
    {
      "cell_type": "code",
      "execution_count": null,
      "id": "36ae20c7",
      "metadata": {
        "id": "36ae20c7",
        "outputId": "87c57e92-a356-41b7-97d3-91a91c0ac800"
      },
      "outputs": [
        {
          "data": {
            "text/plain": [
              "(1, 1, 2, 3, 3, 'kashif', 3.4)"
            ]
          },
          "execution_count": 32,
          "metadata": {},
          "output_type": "execute_result"
        }
      ],
      "source": [
        "a=(1,1,2,3,3,'kashif',3.4)\n",
        "a"
      ]
    },
    {
      "cell_type": "markdown",
      "id": "8fee6fd3",
      "metadata": {
        "id": "8fee6fd3"
      },
      "source": [
        " Empty tuples are constructed by an empty pair of parentheses; a tuple with one item is constructed by following a value with a comma (it is not sufficient to enclose a single value in parentheses). Ugly, but effective. For example:\n"
      ]
    },
    {
      "cell_type": "code",
      "execution_count": null,
      "id": "947d0d79",
      "metadata": {
        "id": "947d0d79",
        "outputId": "a01980ca-a610-41a7-882c-5b92e8e024f8"
      },
      "outputs": [
        {
          "data": {
            "text/plain": [
              "0"
            ]
          },
          "execution_count": 38,
          "metadata": {},
          "output_type": "execute_result"
        }
      ],
      "source": [
        "empty = ()\n",
        "singleton = 'hello',  # <-- note trailing comma\n",
        "len(empty)"
      ]
    },
    {
      "cell_type": "code",
      "execution_count": null,
      "id": "435b4252",
      "metadata": {
        "id": "435b4252",
        "outputId": "05eabcba-d086-4a3a-ccb7-d3f87a7d8e8b"
      },
      "outputs": [
        {
          "data": {
            "text/plain": [
              "1"
            ]
          },
          "execution_count": 39,
          "metadata": {},
          "output_type": "execute_result"
        }
      ],
      "source": [
        "len(singleton)"
      ]
    },
    {
      "cell_type": "code",
      "execution_count": null,
      "id": "5dffc85b",
      "metadata": {
        "id": "5dffc85b",
        "outputId": "4a034d0f-65df-4fff-9fca-8c7ef867821f"
      },
      "outputs": [
        {
          "data": {
            "text/plain": [
              "('hello',)"
            ]
          },
          "execution_count": 40,
          "metadata": {},
          "output_type": "execute_result"
        }
      ],
      "source": [
        "singleton"
      ]
    },
    {
      "cell_type": "code",
      "execution_count": null,
      "id": "99530c33",
      "metadata": {
        "id": "99530c33",
        "outputId": "61e50baf-b416-4738-b03f-94fb079f9aaa"
      },
      "outputs": [
        {
          "data": {
            "text/plain": [
              "tuple"
            ]
          },
          "execution_count": 41,
          "metadata": {},
          "output_type": "execute_result"
        }
      ],
      "source": [
        "t = \"kk\",\"kl\"\n",
        "type(t)"
      ]
    },
    {
      "cell_type": "markdown",
      "id": "fef04818",
      "metadata": {
        "id": "fef04818"
      },
      "source": [
        "# 5.4. Sets"
      ]
    },
    {
      "cell_type": "markdown",
      "id": "88cc2910",
      "metadata": {
        "id": "88cc2910"
      },
      "source": [
        ". A set is an unordered collection with no duplicate elements. Basic uses include membership testing and eliminating duplicate entries. Set objects also support mathematical operations like union, intersection, difference, and symmetric difference.\n",
        "\n"
      ]
    },
    {
      "cell_type": "markdown",
      "id": "b8564d77",
      "metadata": {
        "id": "b8564d77"
      },
      "source": [
        "Curly braces or the set() function can be used to create sets. Note: to create an empty set you have to use set(), not {}; the latter creates an empty dictionary"
      ]
    },
    {
      "cell_type": "code",
      "execution_count": null,
      "id": "c4d7536f",
      "metadata": {
        "id": "c4d7536f",
        "outputId": "d7ee20dd-f857-44fa-a84a-a55ba399f350"
      },
      "outputs": [
        {
          "name": "stdout",
          "output_type": "stream",
          "text": [
            "{'apple', 'orange', 'banana', 'pear'}\n"
          ]
        }
      ],
      "source": [
        "basket = {'apple', 'orange', 'apple', 'pear', 'orange', 'banana'}\n",
        "print(basket) # show that duplicates have been removed "
      ]
    },
    {
      "cell_type": "code",
      "execution_count": null,
      "id": "6ac1a2e3",
      "metadata": {
        "id": "6ac1a2e3",
        "outputId": "914f0d71-709d-4fdc-fbe4-68fee13a7c4a"
      },
      "outputs": [
        {
          "data": {
            "text/plain": [
              "True"
            ]
          },
          "execution_count": 44,
          "metadata": {},
          "output_type": "execute_result"
        }
      ],
      "source": [
        "'orange' in basket   # fast membership testing"
      ]
    },
    {
      "cell_type": "code",
      "execution_count": null,
      "id": "4f93cc49",
      "metadata": {
        "id": "4f93cc49",
        "outputId": "44cd5636-2f3a-488c-f9d5-2479db1009a0"
      },
      "outputs": [
        {
          "data": {
            "text/plain": [
              "False"
            ]
          },
          "execution_count": 45,
          "metadata": {},
          "output_type": "execute_result"
        }
      ],
      "source": [
        "'crabgrass' in basket"
      ]
    },
    {
      "cell_type": "code",
      "execution_count": null,
      "id": "0f67aa1d",
      "metadata": {
        "id": "0f67aa1d"
      },
      "outputs": [],
      "source": [
        "# Demonstrate set operations on unique letters from two words"
      ]
    },
    {
      "cell_type": "code",
      "execution_count": null,
      "id": "0206e675",
      "metadata": {
        "id": "0206e675"
      },
      "outputs": [],
      "source": [
        "a = set('abracadabra')\n",
        "b = set('alacazam')"
      ]
    },
    {
      "cell_type": "code",
      "execution_count": null,
      "id": "d7c79355",
      "metadata": {
        "id": "d7c79355",
        "outputId": "9ff95dc8-7161-4ed2-8298-4796a8ad4ca7"
      },
      "outputs": [
        {
          "data": {
            "text/plain": [
              "{'a', 'b', 'c', 'd', 'r'}"
            ]
          },
          "execution_count": 48,
          "metadata": {},
          "output_type": "execute_result"
        }
      ],
      "source": [
        "a   # unique letters in a"
      ]
    },
    {
      "cell_type": "code",
      "execution_count": null,
      "id": "8eb9c86c",
      "metadata": {
        "id": "8eb9c86c",
        "outputId": "6bc39ef6-6ec6-4646-f0e9-c98286441956"
      },
      "outputs": [
        {
          "data": {
            "text/plain": [
              "{'b', 'd', 'r'}"
            ]
          },
          "execution_count": 49,
          "metadata": {},
          "output_type": "execute_result"
        }
      ],
      "source": [
        "a - b   # letters in a but not in b"
      ]
    },
    {
      "cell_type": "code",
      "execution_count": null,
      "id": "20a40bcc",
      "metadata": {
        "id": "20a40bcc",
        "outputId": "baee4183-8bd4-4154-ff95-c2994ee3cabf"
      },
      "outputs": [
        {
          "data": {
            "text/plain": [
              "{'a', 'b', 'c', 'd', 'l', 'm', 'r', 'z'}"
            ]
          },
          "execution_count": 50,
          "metadata": {},
          "output_type": "execute_result"
        }
      ],
      "source": [
        "a | b   # letters in a or b or both"
      ]
    },
    {
      "cell_type": "code",
      "execution_count": null,
      "id": "91de95f7",
      "metadata": {
        "id": "91de95f7",
        "outputId": "29a8167e-3146-4e4c-a863-5e7c828fc04b"
      },
      "outputs": [
        {
          "data": {
            "text/plain": [
              "{'a', 'c'}"
            ]
          },
          "execution_count": 51,
          "metadata": {},
          "output_type": "execute_result"
        }
      ],
      "source": [
        "a & b   # letters in both a and b"
      ]
    },
    {
      "cell_type": "code",
      "execution_count": null,
      "id": "bd13c1d7",
      "metadata": {
        "id": "bd13c1d7",
        "outputId": "fe3fd37f-beae-48e2-9dbb-2f428b3557fe"
      },
      "outputs": [
        {
          "data": {
            "text/plain": [
              "{'b', 'd', 'l', 'm', 'r', 'z'}"
            ]
          },
          "execution_count": 52,
          "metadata": {},
          "output_type": "execute_result"
        }
      ],
      "source": [
        "a ^ b   # letters in a or b but not both"
      ]
    },
    {
      "cell_type": "markdown",
      "id": "694f6496",
      "metadata": {
        "id": "694f6496"
      },
      "source": [
        "Similarly to list comprehensions, set comprehensions are also supported:\n",
        "\n"
      ]
    },
    {
      "cell_type": "code",
      "execution_count": null,
      "id": "f60ec18a",
      "metadata": {
        "id": "f60ec18a",
        "outputId": "0303f90c-a9c9-41c9-f871-9e53de008115"
      },
      "outputs": [
        {
          "data": {
            "text/plain": [
              "{'d', 'r'}"
            ]
          },
          "execution_count": 53,
          "metadata": {},
          "output_type": "execute_result"
        }
      ],
      "source": [
        "a = {x for x in 'abracadabra' if x not in 'abc'}\n",
        "a"
      ]
    },
    {
      "cell_type": "markdown",
      "id": "767e7197",
      "metadata": {
        "id": "767e7197"
      },
      "source": [
        "# 5.5. Dictionaries"
      ]
    },
    {
      "cell_type": "code",
      "execution_count": null,
      "id": "506b519e",
      "metadata": {
        "id": "506b519e"
      },
      "outputs": [],
      "source": [
        "tel = {'jack': 4098, 'sape': 4139}"
      ]
    },
    {
      "cell_type": "code",
      "execution_count": null,
      "id": "77b2788b",
      "metadata": {
        "id": "77b2788b",
        "outputId": "06769b82-1742-4b16-afe7-3d06d67bde99"
      },
      "outputs": [
        {
          "data": {
            "text/plain": [
              "{'jack': 4098, 'sape': 4139, 'kashif': 4100}"
            ]
          },
          "execution_count": 3,
          "metadata": {},
          "output_type": "execute_result"
        }
      ],
      "source": [
        "tel['kashif']=4100\n",
        "tel"
      ]
    },
    {
      "cell_type": "code",
      "execution_count": null,
      "id": "9e426978",
      "metadata": {
        "id": "9e426978",
        "outputId": "91510fe4-a057-423e-9de7-a9195b74d433"
      },
      "outputs": [
        {
          "data": {
            "text/plain": [
              "{'sape': 4139, 'kashif': 4100}"
            ]
          },
          "execution_count": 4,
          "metadata": {},
          "output_type": "execute_result"
        }
      ],
      "source": [
        "del tel['jack']\n",
        "tel"
      ]
    },
    {
      "cell_type": "code",
      "execution_count": null,
      "id": "32b977e7",
      "metadata": {
        "id": "32b977e7",
        "outputId": "e4b8c036-59c6-4082-97b5-e1b4fe4c9005"
      },
      "outputs": [
        {
          "data": {
            "text/plain": [
              "['sape', 'kashif']"
            ]
          },
          "execution_count": 5,
          "metadata": {},
          "output_type": "execute_result"
        }
      ],
      "source": [
        "list(tel)"
      ]
    },
    {
      "cell_type": "code",
      "execution_count": null,
      "id": "8e8cb022",
      "metadata": {
        "id": "8e8cb022",
        "outputId": "c064e2eb-612b-40e8-f041-c90c2490add9"
      },
      "outputs": [
        {
          "data": {
            "text/plain": [
              "['kashif', 'sape']"
            ]
          },
          "execution_count": 6,
          "metadata": {},
          "output_type": "execute_result"
        }
      ],
      "source": [
        "sorted(tel)"
      ]
    },
    {
      "cell_type": "code",
      "execution_count": null,
      "id": "590dbdde",
      "metadata": {
        "id": "590dbdde",
        "outputId": "5a774ae0-2ab3-41e7-d323-2fcbc9292510"
      },
      "outputs": [
        {
          "data": {
            "text/plain": [
              "True"
            ]
          },
          "execution_count": 7,
          "metadata": {},
          "output_type": "execute_result"
        }
      ],
      "source": [
        "'kashif' in tel"
      ]
    },
    {
      "cell_type": "code",
      "execution_count": null,
      "id": "3ddcbdc4",
      "metadata": {
        "id": "3ddcbdc4",
        "outputId": "c93c60e3-64fc-4ed5-d82b-bdb486e7f0c7"
      },
      "outputs": [
        {
          "data": {
            "text/plain": [
              "False"
            ]
          },
          "execution_count": 8,
          "metadata": {},
          "output_type": "execute_result"
        }
      ],
      "source": [
        "'khan' in tel"
      ]
    },
    {
      "cell_type": "markdown",
      "id": "0b571d6f",
      "metadata": {
        "id": "0b571d6f"
      },
      "source": [
        "The dict() constructor builds dictionaries directly from sequences of key-value pairs:\n",
        "\n"
      ]
    },
    {
      "cell_type": "code",
      "execution_count": null,
      "id": "1cbc684a",
      "metadata": {
        "id": "1cbc684a",
        "outputId": "b1cf86ba-067d-4312-bbca-32f1532037b8"
      },
      "outputs": [
        {
          "data": {
            "text/plain": [
              "{'sape': 4139, 'guido': 4127, 'jack': 4098}"
            ]
          },
          "execution_count": 11,
          "metadata": {},
          "output_type": "execute_result"
        }
      ],
      "source": [
        "dict([('sape', 4139), ('guido', 4127), ('jack', 4098)])"
      ]
    },
    {
      "cell_type": "markdown",
      "id": "9f6198aa",
      "metadata": {
        "id": "9f6198aa"
      },
      "source": [
        "In addition, dict comprehensions can be used to create dictionaries from arbitrary key and value expressions:"
      ]
    },
    {
      "cell_type": "code",
      "execution_count": null,
      "id": "f68699cb",
      "metadata": {
        "id": "f68699cb",
        "outputId": "420125fc-edc2-47e1-b6b9-6d5359c9932a"
      },
      "outputs": [
        {
          "data": {
            "text/plain": [
              "{2: 4, 4: 16, 6: 36}"
            ]
          },
          "execution_count": 12,
          "metadata": {},
          "output_type": "execute_result"
        }
      ],
      "source": [
        "{x: x**2 for x in (2, 4, 6)}"
      ]
    },
    {
      "cell_type": "markdown",
      "id": "70acee9c",
      "metadata": {
        "id": "70acee9c"
      },
      "source": [
        "When the keys are simple strings, it is sometimes easier to specify pairs using keyword arguments:"
      ]
    },
    {
      "cell_type": "code",
      "execution_count": null,
      "id": "7cb9e399",
      "metadata": {
        "id": "7cb9e399",
        "outputId": "111cb0ef-55e0-42cb-f6d3-4a6e9d2255e3"
      },
      "outputs": [
        {
          "data": {
            "text/plain": [
              "{'sape': 4139, 'guido': 4127, 'jack': 4098}"
            ]
          },
          "execution_count": 13,
          "metadata": {},
          "output_type": "execute_result"
        }
      ],
      "source": [
        "dict(sape=4139, guido=4127, jack=4098)"
      ]
    },
    {
      "cell_type": "markdown",
      "id": "04112eb2",
      "metadata": {
        "id": "04112eb2"
      },
      "source": [
        "# 5.6. Looping Techniques"
      ]
    },
    {
      "cell_type": "markdown",
      "id": "beb443de",
      "metadata": {
        "id": "beb443de"
      },
      "source": [
        "retrieved = पुनः प्राप्त किया"
      ]
    },
    {
      "cell_type": "markdown",
      "id": "b042bd66",
      "metadata": {
        "id": "b042bd66"
      },
      "source": [
        "When looping through dictionaries, the key and corresponding value can be retrieved at the same time using the items() method."
      ]
    },
    {
      "cell_type": "code",
      "execution_count": null,
      "id": "be092840",
      "metadata": {
        "id": "be092840",
        "outputId": "0faa5419-82b6-4fb0-fe98-07210fc0bcae"
      },
      "outputs": [
        {
          "name": "stdout",
          "output_type": "stream",
          "text": [
            "gallahad the pure robin the brave "
          ]
        }
      ],
      "source": [
        "d = {'gallahad': 'the pure', 'robin': 'the brave'}\n",
        "for k, v in d.items():\n",
        "    print(k, v ,end=\" \")"
      ]
    },
    {
      "cell_type": "markdown",
      "id": "d0abcf2b",
      "metadata": {
        "id": "d0abcf2b"
      },
      "source": [
        "When looping through a sequence, the position index and corresponding value can be retrieved at the same time using the enumerate() function."
      ]
    },
    {
      "cell_type": "code",
      "execution_count": null,
      "id": "d8e63b8b",
      "metadata": {
        "id": "d8e63b8b",
        "outputId": "095d2564-77db-4dc6-ec8b-9494e364e3ef"
      },
      "outputs": [
        {
          "name": "stdout",
          "output_type": "stream",
          "text": [
            "0 tic\n",
            "1 tac\n",
            "2 toe\n"
          ]
        }
      ],
      "source": [
        "for i, v in enumerate(['tic', 'tac', 'toe']):\n",
        "    print(i, v)"
      ]
    },
    {
      "cell_type": "markdown",
      "id": "351eff92",
      "metadata": {
        "id": "351eff92"
      },
      "source": [
        "To loop over two or more sequences at the same time, the entries can be paired with the zip() function."
      ]
    },
    {
      "cell_type": "code",
      "execution_count": null,
      "id": "84322dc4",
      "metadata": {
        "id": "84322dc4",
        "outputId": "ebf1a3ca-d683-40f4-bdc1-fc5c8bffc67d"
      },
      "outputs": [
        {
          "name": "stdout",
          "output_type": "stream",
          "text": [
            "what is your name? It is lancelot.\n",
            "what is your quest? It is the holy grail.\n",
            "what is your favorite color? It is blue.\n"
          ]
        }
      ],
      "source": [
        "questions = ['name', 'quest', 'favorite color']\n",
        "answers = ['lancelot', 'the holy grail', 'blue']\n",
        "for q, a in zip(questions, answers):\n",
        "    print('what is your {0}? It is {1}.' .format(q, a))"
      ]
    },
    {
      "cell_type": "markdown",
      "id": "15e1e8d2",
      "metadata": {
        "id": "15e1e8d2"
      },
      "source": [
        "To loop over a sequence in reverse, first specify the sequence in a forward direction and then call the reversed() function."
      ]
    },
    {
      "cell_type": "code",
      "execution_count": null,
      "id": "9fefb7cb",
      "metadata": {
        "id": "9fefb7cb",
        "outputId": "fbe04793-3f7b-448d-e34d-a2625d9aafdd"
      },
      "outputs": [
        {
          "name": "stdout",
          "output_type": "stream",
          "text": [
            "9\n",
            "7\n",
            "5\n",
            "3\n",
            "1\n"
          ]
        }
      ],
      "source": [
        "for i in reversed(range(1,10,2)):\n",
        "    print(i)"
      ]
    },
    {
      "cell_type": "markdown",
      "id": "46895a5e",
      "metadata": {
        "id": "46895a5e"
      },
      "source": [
        "To loop over a sequence in sorted order, use the sorted() function which returns a new sorted list while leaving the source unaltered."
      ]
    },
    {
      "cell_type": "code",
      "execution_count": null,
      "id": "b2f67a8b",
      "metadata": {
        "id": "b2f67a8b",
        "outputId": "85b4403b-f506-43b3-e6ac-81d59711da85"
      },
      "outputs": [
        {
          "name": "stdout",
          "output_type": "stream",
          "text": [
            "apple\n",
            "apple\n",
            "banana\n",
            "orange\n",
            "orange\n",
            "pear\n"
          ]
        }
      ],
      "source": [
        "basket = ['apple', 'orange', 'apple', 'pear', 'orange', 'banana']\n",
        "for i in sorted(basket):\n",
        "    print(i)"
      ]
    },
    {
      "cell_type": "markdown",
      "id": "1eb98ee0",
      "metadata": {
        "id": "1eb98ee0"
      },
      "source": [
        "Using set() on a sequence eliminates duplicate elements. The use of sorted() in combination with set() over a sequence is an idiomatic way to loop over unique elements of the sequence in sorted order."
      ]
    },
    {
      "cell_type": "code",
      "execution_count": null,
      "id": "efaf55b4",
      "metadata": {
        "id": "efaf55b4",
        "outputId": "1b00062c-18e7-4080-9667-801c9e1110c4"
      },
      "outputs": [
        {
          "name": "stdout",
          "output_type": "stream",
          "text": [
            "apple\n",
            "banana\n",
            "orange\n",
            "pear\n"
          ]
        }
      ],
      "source": [
        "basket = ['apple', 'orange', 'apple', 'pear', 'orange', 'banana']\n",
        "for kk in sorted(set(basket)):\n",
        "    print(kk)"
      ]
    },
    {
      "cell_type": "markdown",
      "id": "1c7dcdbe",
      "metadata": {
        "id": "1c7dcdbe"
      },
      "source": [
        "tempting = आकर्षक"
      ]
    },
    {
      "cell_type": "markdown",
      "id": "72fcc1ed",
      "metadata": {
        "id": "72fcc1ed"
      },
      "source": [
        "It is sometimes tempting to change a list while you are looping over it; however, it is often simpler and safer to create a new list instead."
      ]
    },
    {
      "cell_type": "markdown",
      "id": "ba1e6d6f",
      "metadata": {
        "id": "ba1e6d6f"
      },
      "source": [
        "The math.isnan() method checks whether a value is NaN (Not a Number), or not.\n",
        "\n",
        "This method returns True if the specified value is a NaN, otherwise it returns False.\n",
        "Syntax\n",
        "math.isnan(x)"
      ]
    },
    {
      "cell_type": "code",
      "execution_count": null,
      "id": "492ce5f0",
      "metadata": {
        "id": "492ce5f0",
        "outputId": "4a6980cd-e6d0-4486-b354-ae6fa339a3c2"
      },
      "outputs": [
        {
          "data": {
            "text/plain": [
              "[56.2, 51.7, 55.3, 52.5, 47.8]"
            ]
          },
          "execution_count": 25,
          "metadata": {},
          "output_type": "execute_result"
        }
      ],
      "source": [
        "import math\n",
        "raw_data = [56.2, float('NaN'), 51.7, 55.3, 52.5, float('NaN'), 47.8]\n",
        "filtered_data = []\n",
        "for value in raw_data:\n",
        "    if not math.isnan(value):\n",
        "        filtered_data.append(value)\n",
        "        \n",
        "filtered_data"
      ]
    },
    {
      "cell_type": "markdown",
      "id": "5fa84b8e",
      "metadata": {
        "id": "5fa84b8e"
      },
      "source": [
        "# 6. Modules"
      ]
    },
    {
      "cell_type": "markdown",
      "id": "1ac836b4",
      "metadata": {
        "id": "1ac836b4"
      },
      "source": [
        "A module is a file containing Python definitions and statements.\n",
        "The file name is the module name with the suffix .py appended. "
      ]
    },
    {
      "cell_type": "code",
      "execution_count": null,
      "id": "650faf7e",
      "metadata": {
        "id": "650faf7e"
      },
      "outputs": [],
      "source": [
        "# Fibonacci numbers module\n",
        "\n",
        "def fib(n):    # write Fibonacci series up to n\n",
        "    a, b =0, 1\n",
        "    while a < n:\n",
        "        print(a, end=' ')\n",
        "        a, b = b, a+b\n",
        "    print()"
      ]
    },
    {
      "cell_type": "code",
      "execution_count": null,
      "id": "eee67358",
      "metadata": {
        "id": "eee67358",
        "outputId": "3146af99-9cb6-4e20-d763-3ec82b779181"
      },
      "outputs": [
        {
          "name": "stdout",
          "output_type": "stream",
          "text": [
            "0 1 1 2 3 5 8 13 \n"
          ]
        }
      ],
      "source": [
        "fib(14)"
      ]
    },
    {
      "cell_type": "code",
      "execution_count": null,
      "id": "5d2288d9",
      "metadata": {
        "id": "5d2288d9"
      },
      "outputs": [],
      "source": [
        "def fib2(n):   # return Fibonacci series up to n\n",
        "    result = []\n",
        "    a, b = 0, 1\n",
        "    while a < n:\n",
        "        result.append(a)\n",
        "        a, b = b, a+b\n",
        "    return result"
      ]
    },
    {
      "cell_type": "code",
      "execution_count": null,
      "id": "8173c978",
      "metadata": {
        "id": "8173c978",
        "outputId": "166a83ef-e9d0-4dc6-8f95-7deee4459f09"
      },
      "outputs": [
        {
          "data": {
            "text/plain": [
              "[0, 1, 1, 2, 3, 5, 8, 13]"
            ]
          },
          "execution_count": 37,
          "metadata": {},
          "output_type": "execute_result"
        }
      ],
      "source": [
        "fib2(14)"
      ]
    },
    {
      "cell_type": "code",
      "execution_count": null,
      "id": "b1d6b493",
      "metadata": {
        "id": "b1d6b493",
        "outputId": "a6f298af-060e-4779-bde1-b303f4008436"
      },
      "outputs": [
        {
          "ename": "ModuleNotFoundError",
          "evalue": "No module named 'fibo'",
          "output_type": "error",
          "traceback": [
            "\u001b[1;31m---------------------------------------------------------------------------\u001b[0m",
            "\u001b[1;31mModuleNotFoundError\u001b[0m                       Traceback (most recent call last)",
            "\u001b[1;32m~\\AppData\\Local\\Temp\\ipykernel_260\\3741931745.py\u001b[0m in \u001b[0;36m<module>\u001b[1;34m\u001b[0m\n\u001b[1;32m----> 1\u001b[1;33m \u001b[1;32mfrom\u001b[0m \u001b[0mfibo\u001b[0m \u001b[1;32mimport\u001b[0m \u001b[0mfib\u001b[0m\u001b[1;33m\u001b[0m\u001b[1;33m\u001b[0m\u001b[0m\n\u001b[0m\u001b[0;32m      2\u001b[0m \u001b[0mprint\u001b[0m\u001b[1;33m(\u001b[0m\u001b[1;34m\"foo\"\u001b[0m\u001b[1;33m)\u001b[0m\u001b[1;33m\u001b[0m\u001b[1;33m\u001b[0m\u001b[0m\n\u001b[0;32m      3\u001b[0m \u001b[1;32mimport\u001b[0m \u001b[0mfibo\u001b[0m\u001b[1;33m\u001b[0m\u001b[1;33m\u001b[0m\u001b[0m\n",
            "\u001b[1;31mModuleNotFoundError\u001b[0m: No module named 'fibo'"
          ]
        }
      ],
      "source": [
        "from fibo import fib\n",
        "print(\"foo\")\n",
        "import fibo"
      ]
    },
    {
      "cell_type": "code",
      "execution_count": null,
      "id": "9fdc93c6",
      "metadata": {
        "id": "9fdc93c6"
      },
      "outputs": [],
      "source": []
    }
  ],
  "metadata": {
    "kernelspec": {
      "display_name": "Python 3 (ipykernel)",
      "language": "python",
      "name": "python3"
    },
    "language_info": {
      "codemirror_mode": {
        "name": "ipython",
        "version": 3
      },
      "file_extension": ".py",
      "mimetype": "text/x-python",
      "name": "python",
      "nbconvert_exporter": "python",
      "pygments_lexer": "ipython3",
      "version": "3.9.13"
    },
    "colab": {
      "provenance": [],
      "include_colab_link": true
    }
  },
  "nbformat": 4,
  "nbformat_minor": 5
}