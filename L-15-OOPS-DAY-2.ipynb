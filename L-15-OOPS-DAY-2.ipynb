{
  "cells": [
    {
      "cell_type": "markdown",
      "metadata": {
        "id": "view-in-github",
        "colab_type": "text"
      },
      "source": [
        "<a href=\"https://colab.research.google.com/github/kkvk001/iNeuron/blob/main/L-15-OOPS-DAY-2.ipynb\" target=\"_parent\"><img src=\"https://colab.research.google.com/assets/colab-badge.svg\" alt=\"Open In Colab\"/></a>"
      ]
    },
    {
      "cell_type": "code",
      "execution_count": null,
      "id": "6ae58afc",
      "metadata": {
        "id": "6ae58afc"
      },
      "outputs": [],
      "source": [
        "class Car:\n",
        "    pass"
      ]
    },
    {
      "cell_type": "code",
      "execution_count": null,
      "id": "7ab5c0a0",
      "metadata": {
        "id": "7ab5c0a0"
      },
      "outputs": [],
      "source": [
        "audi= Car()"
      ]
    },
    {
      "cell_type": "code",
      "execution_count": null,
      "id": "3e228e57",
      "metadata": {
        "id": "3e228e57"
      },
      "outputs": [],
      "source": [
        "audi.milage=10\n",
        "audi.year=2006\n",
        "audi.make=345\n",
        "audi.model=\"abc\""
      ]
    },
    {
      "cell_type": "code",
      "execution_count": null,
      "id": "11eaee45",
      "metadata": {
        "id": "11eaee45",
        "outputId": "849d6794-9564-4dc5-b7cf-097fcadad5f7"
      },
      "outputs": [
        {
          "data": {
            "text/plain": [
              "345"
            ]
          },
          "execution_count": 4,
          "metadata": {},
          "output_type": "execute_result"
        }
      ],
      "source": [
        "audi.make"
      ]
    },
    {
      "cell_type": "code",
      "execution_count": null,
      "id": "0ca7a9f2",
      "metadata": {
        "id": "0ca7a9f2",
        "outputId": "de1c7dd4-9ea9-4c78-da7f-dba464a5a82d"
      },
      "outputs": [
        {
          "data": {
            "text/plain": [
              "10"
            ]
          },
          "execution_count": 5,
          "metadata": {},
          "output_type": "execute_result"
        }
      ],
      "source": [
        "audi.milage"
      ]
    },
    {
      "cell_type": "code",
      "execution_count": null,
      "id": "70c6d42b",
      "metadata": {
        "id": "70c6d42b",
        "outputId": "01cd93d8-0d50-4092-b2b9-da906335b041"
      },
      "outputs": [
        {
          "data": {
            "text/plain": [
              "'abc'"
            ]
          },
          "execution_count": 6,
          "metadata": {},
          "output_type": "execute_result"
        }
      ],
      "source": [
        "audi.model"
      ]
    },
    {
      "cell_type": "code",
      "execution_count": null,
      "id": "e9998fd8",
      "metadata": {
        "id": "e9998fd8"
      },
      "outputs": [],
      "source": [
        "nano= Car()"
      ]
    },
    {
      "cell_type": "code",
      "execution_count": null,
      "id": "666de646",
      "metadata": {
        "id": "666de646"
      },
      "outputs": [],
      "source": [
        "nano.milage=67\n",
        "nano.year=2007\n",
        "nano.make=67\n",
        "nano.model=\"xyz\""
      ]
    },
    {
      "cell_type": "code",
      "execution_count": null,
      "id": "7599ed48",
      "metadata": {
        "id": "7599ed48"
      },
      "outputs": [],
      "source": [
        "class Car:\n",
        "    def __init__(self,milage,year,make,model):\n",
        "        self.milage=milage\n",
        "        self.year=year\n",
        "        self.make=make\n",
        "        self.model=model"
      ]
    },
    {
      "cell_type": "code",
      "execution_count": null,
      "id": "b502fdf5",
      "metadata": {
        "id": "b502fdf5"
      },
      "outputs": [],
      "source": [
        "nano1=Car(10,2009,45,\"jbdjs\")\n",
        "nano2=Car(10,2009,45,\"jbdjs\")\n",
        "nano3=Car(10,2009,45,\"jbdjs\")\n",
        "nano4=Car(10,2009,45,\"jbdjs\")\n",
        "nano5=Car(10,2009,45,\"jbdjs\")\n",
        "nano6=Car(10,2009,45,\"jbdjs\")\n"
      ]
    },
    {
      "cell_type": "code",
      "execution_count": null,
      "id": "d7f1ac95",
      "metadata": {
        "id": "d7f1ac95"
      },
      "outputs": [],
      "source": [
        "class Car:\n",
        "    def __init__(a,m,y,ma,mo):\n",
        "        a.milage=m\n",
        "        a.year=y\n",
        "        a.make=ma\n",
        "        a.model=mo\n",
        "        \n",
        "    def age(a,current_year):\n",
        "        return current_year-a.year\n",
        "    \n",
        "    def milage1(self):\n",
        "        return(\"Print a milage of the call\", self.milage)\n",
        "    \n",
        "    def __str__(c):\n",
        "        return \"this is from class i have created\"\n",
        "        "
      ]
    },
    {
      "cell_type": "code",
      "execution_count": null,
      "id": "9b521133",
      "metadata": {
        "id": "9b521133"
      },
      "outputs": [],
      "source": [
        "nano23=Car(10,2009,45,\"bhjagudbs\")"
      ]
    },
    {
      "cell_type": "code",
      "execution_count": null,
      "id": "ed94b8d4",
      "metadata": {
        "id": "ed94b8d4",
        "outputId": "200cb0ed-dfa0-41c3-fd39-bf2f8bd16942"
      },
      "outputs": [
        {
          "data": {
            "text/plain": [
              "11"
            ]
          },
          "execution_count": 46,
          "metadata": {},
          "output_type": "execute_result"
        }
      ],
      "source": [
        "nano23.age(2020)"
      ]
    },
    {
      "cell_type": "code",
      "execution_count": null,
      "id": "3aebf8bc",
      "metadata": {
        "id": "3aebf8bc",
        "outputId": "76a0f473-b59d-4838-fd2b-cc1487d08984"
      },
      "outputs": [
        {
          "data": {
            "text/plain": [
              "('Print a milage of the call', 10)"
            ]
          },
          "execution_count": 39,
          "metadata": {},
          "output_type": "execute_result"
        }
      ],
      "source": [
        "nano23.milage1()"
      ]
    },
    {
      "cell_type": "code",
      "execution_count": null,
      "id": "a8b98eb8",
      "metadata": {
        "id": "a8b98eb8",
        "outputId": "19b55302-4c94-49f5-bdd3-9d7618aa0273"
      },
      "outputs": [
        {
          "name": "stdout",
          "output_type": "stream",
          "text": [
            "this is from class i have created\n"
          ]
        }
      ],
      "source": [
        "print(nano23)"
      ]
    },
    {
      "cell_type": "code",
      "execution_count": null,
      "id": "6d9ae194",
      "metadata": {
        "id": "6d9ae194"
      },
      "outputs": [],
      "source": [
        "class Person:\n",
        "    \n",
        "    def __init__(self,first_name,last_name,age):\n",
        "        self.first_name=first_name\n",
        "        self.last_name=last_name\n",
        "        self.age=age\n",
        "        \n",
        "    def __str__(self):\n",
        "        return \" this is the person class\"\n",
        "    "
      ]
    },
    {
      "cell_type": "code",
      "execution_count": null,
      "id": "b6a7ddb1",
      "metadata": {
        "id": "b6a7ddb1"
      },
      "outputs": [],
      "source": [
        "person=Person(\"imran\",\"a\",27)"
      ]
    },
    {
      "cell_type": "code",
      "execution_count": null,
      "id": "7c3098dd",
      "metadata": {
        "id": "7c3098dd",
        "outputId": "66478ab7-011e-4134-f6d4-9544470ce981"
      },
      "outputs": [
        {
          "name": "stdout",
          "output_type": "stream",
          "text": [
            " this is the person class\n"
          ]
        }
      ],
      "source": [
        "print(person)"
      ]
    },
    {
      "cell_type": "code",
      "execution_count": null,
      "id": "2b3d5460",
      "metadata": {
        "id": "2b3d5460",
        "outputId": "3e9eac07-6f0e-4fa6-a27d-2319e794238f"
      },
      "outputs": [
        {
          "data": {
            "text/plain": [
              "27"
            ]
          },
          "execution_count": 54,
          "metadata": {},
          "output_type": "execute_result"
        }
      ],
      "source": [
        "person.age"
      ]
    },
    {
      "cell_type": "code",
      "execution_count": null,
      "id": "01fa3c83",
      "metadata": {
        "id": "01fa3c83",
        "outputId": "06876642-d54a-4338-c233-8e712f6e8814"
      },
      "outputs": [
        {
          "data": {
            "text/plain": [
              "'imran'"
            ]
          },
          "execution_count": 55,
          "metadata": {},
          "output_type": "execute_result"
        }
      ],
      "source": [
        "person.first_name"
      ]
    },
    {
      "cell_type": "code",
      "execution_count": null,
      "id": "4aa6178b",
      "metadata": {
        "id": "4aa6178b"
      },
      "outputs": [],
      "source": [
        "class Student:\n",
        "    \n",
        "    def __init__(self,name,rollno,joining_date,current_topic):\n",
        "        self.name=name\n",
        "        self.rollno=rollno\n",
        "        self.joining_date=joining_date\n",
        "        self.current_topic=current_topic\n",
        "        \n",
        "        \n",
        "    def cur_topic(self):\n",
        "        print(\"current topic dicussed in class is \", self.current_topic)\n",
        "    \n",
        "    def str_rollno(self):\n",
        "        \n",
        "        try:\n",
        "            if type(self.rollno)==str:\n",
        "                print(\"do nothing\")\n",
        "            \n",
        "            else:\n",
        "                return str(self.rollno)\n",
        "        except Exception as e:\n",
        "            \n",
        "            print(\"this is my error message\", e)\n",
        "            \n",
        "    def duration(self,current_date):\n",
        "        \n",
        "        print(\"durration of student in my class is \", current_date - self.joining_date)\n",
        "        \n",
        "    \n",
        "    def __str__(self):\n",
        "        \n",
        "        return \" this is student class\"\n",
        "        "
      ]
    },
    {
      "cell_type": "code",
      "execution_count": null,
      "id": "926dff11",
      "metadata": {
        "id": "926dff11"
      },
      "outputs": [],
      "source": [
        "s1= Student(\"imran\",'45',2007,\"data science\")"
      ]
    },
    {
      "cell_type": "code",
      "execution_count": null,
      "id": "3f684b54",
      "metadata": {
        "id": "3f684b54",
        "outputId": "a1d461e6-60e5-4351-e3b7-d937e77ba17d"
      },
      "outputs": [
        {
          "name": "stdout",
          "output_type": "stream",
          "text": [
            " this is student class\n"
          ]
        }
      ],
      "source": [
        "print(s1)"
      ]
    },
    {
      "cell_type": "code",
      "execution_count": null,
      "id": "97b3723a",
      "metadata": {
        "id": "97b3723a",
        "outputId": "629cdd4e-3639-428e-f504-9f99bd936493"
      },
      "outputs": [
        {
          "name": "stdout",
          "output_type": "stream",
          "text": [
            "durration of student in my class is  1\n"
          ]
        }
      ],
      "source": [
        "s1.duration(2008)"
      ]
    },
    {
      "cell_type": "code",
      "execution_count": null,
      "id": "9558dcf0",
      "metadata": {
        "id": "9558dcf0",
        "outputId": "9ebb22d7-b81c-41bc-b080-20db9e9417cf"
      },
      "outputs": [
        {
          "name": "stdout",
          "output_type": "stream",
          "text": [
            "do nothing\n"
          ]
        }
      ],
      "source": [
        "s1.str_rollno()"
      ]
    },
    {
      "cell_type": "code",
      "execution_count": null,
      "id": "e38fe289",
      "metadata": {
        "id": "e38fe289",
        "outputId": "581e8343-a735-449e-a60c-b8823a577ecd"
      },
      "outputs": [
        {
          "name": "stdout",
          "output_type": "stream",
          "text": [
            "current topic dicussed in class is  data science\n"
          ]
        }
      ],
      "source": [
        "s1.cur_topic()"
      ]
    },
    {
      "cell_type": "code",
      "execution_count": null,
      "id": "784ee5ef",
      "metadata": {
        "id": "784ee5ef"
      },
      "outputs": [],
      "source": []
    },
    {
      "cell_type": "code",
      "execution_count": null,
      "id": "f3739d21",
      "metadata": {
        "id": "f3739d21"
      },
      "outputs": [],
      "source": [
        "class calculator:\n",
        "    def  __init__(self,a,b):\n",
        "        self.a=a\n",
        "        self.b=b\n",
        "    \n",
        "    def add(self):\n",
        "        return self.a+self.b\n",
        "\n",
        "    def sub(self):\n",
        "        return self.a-self.b\n",
        "    \n",
        "    def mul(self):\n",
        "        return self.a*self.b\n",
        "    \n",
        "    def div(self):\n",
        "        return self.a/self.b\n"
      ]
    },
    {
      "cell_type": "code",
      "execution_count": null,
      "id": "d87223b7",
      "metadata": {
        "id": "d87223b7"
      },
      "outputs": [],
      "source": [
        "c1=calculator(3,4)"
      ]
    },
    {
      "cell_type": "code",
      "execution_count": null,
      "id": "c477a0b2",
      "metadata": {
        "id": "c477a0b2",
        "outputId": "33909f4d-4435-4dd0-e63b-d56b2b3b0d7f"
      },
      "outputs": [
        {
          "data": {
            "text/plain": [
              "7"
            ]
          },
          "execution_count": 72,
          "metadata": {},
          "output_type": "execute_result"
        }
      ],
      "source": [
        "c1.add()"
      ]
    },
    {
      "cell_type": "code",
      "execution_count": null,
      "id": "5e642982",
      "metadata": {
        "id": "5e642982"
      },
      "outputs": [],
      "source": []
    },
    {
      "cell_type": "code",
      "execution_count": null,
      "id": "0160f2e9",
      "metadata": {
        "id": "0160f2e9"
      },
      "outputs": [],
      "source": [
        "class Calculator:\n",
        "    def __init__(self,a,b):\n",
        "        self.a=a\n",
        "        self.b=b\n",
        "        \n",
        "    def sum(self):\n",
        "        return self.a+self.b\n",
        "    \n",
        "    def subt(self):\n",
        "        return self.a-self.b\n",
        "    \n",
        "    def mul(self):\n",
        "        return self.a*self.b\n",
        "    def div(self):\n",
        "        return self.a/self.b\n",
        "    \n",
        "    \n",
        "c=Calculator(5,6)\n",
        "print(c.sum())\n",
        "print(c.subt())\n",
        "print(c.mul())\n",
        "print(c.div())\n",
        "    \n"
      ]
    },
    {
      "cell_type": "code",
      "execution_count": null,
      "id": "514edd61",
      "metadata": {
        "id": "514edd61"
      },
      "outputs": [],
      "source": [
        "class calculater():\n",
        "\n",
        "  def __init(self,a,b):\n",
        "    self.a = a\n",
        "    self.b = b\n",
        "\n",
        "  def multiply():\n",
        "    return self.a * self.b\n",
        "\n",
        "  def substract(self,a,b):\n",
        "    return self.a - self.b\n",
        "\n",
        "  def division(self,a,b):\n",
        "    return self.a / self.b\n",
        "\n",
        "  def addition(self,a,b):\n",
        "    return self.a + self.b\n",
        "\n",
        "  def __str__():\n",
        "    reutn \"its calling\"\n",
        "\n",
        "s1 = claculater(2,3)\n",
        "\n",
        "print(s1.multiply())\n",
        "\n",
        "print(s1.substract())\n",
        "\n",
        "print(s1.division())\n",
        "\n",
        "print(s1.addition())\n"
      ]
    },
    {
      "cell_type": "code",
      "execution_count": null,
      "id": "bf1e1cf4",
      "metadata": {
        "id": "bf1e1cf4"
      },
      "outputs": [],
      "source": [
        "#Default Constructor\n",
        "\n",
        "class Student:\n",
        "    \n",
        "    def who(self):\n",
        "        print(\"iam a student\")"
      ]
    },
    {
      "cell_type": "code",
      "execution_count": null,
      "id": "4a336009",
      "metadata": {
        "id": "4a336009"
      },
      "outputs": [],
      "source": [
        "s1=Student()"
      ]
    },
    {
      "cell_type": "code",
      "execution_count": null,
      "id": "fc9ae8b1",
      "metadata": {
        "id": "fc9ae8b1",
        "outputId": "91c1c5a6-8f74-4e2e-fe7e-d20c00bf3874"
      },
      "outputs": [
        {
          "name": "stdout",
          "output_type": "stream",
          "text": [
            "iam a student\n"
          ]
        }
      ],
      "source": [
        "s1.who()"
      ]
    },
    {
      "cell_type": "code",
      "execution_count": null,
      "id": "98120584",
      "metadata": {
        "id": "98120584"
      },
      "outputs": [],
      "source": [
        "#non parametized constructor\n",
        "class Company:\n",
        "    \n",
        "    def __init__(self):\n",
        "        self.name=\"ineuron\"\n",
        "        self.address=\"Bnagalore\"\n",
        "        \n",
        "        \n",
        "    def show(self):\n",
        "        print(\"name\",self.name,\"address\",self.address)"
      ]
    },
    {
      "cell_type": "code",
      "execution_count": null,
      "id": "6cc6e61b",
      "metadata": {
        "id": "6cc6e61b"
      },
      "outputs": [],
      "source": [
        "cmp=Company()"
      ]
    },
    {
      "cell_type": "code",
      "execution_count": null,
      "id": "3b3eb675",
      "metadata": {
        "id": "3b3eb675",
        "outputId": "6a3d4a8f-2e2e-4577-c145-250bbfa8fa40"
      },
      "outputs": [
        {
          "name": "stdout",
          "output_type": "stream",
          "text": [
            "name ineuron address Bnagalore\n"
          ]
        }
      ],
      "source": [
        "cmp.show()"
      ]
    },
    {
      "cell_type": "code",
      "execution_count": null,
      "id": "74f973e7",
      "metadata": {
        "id": "74f973e7"
      },
      "outputs": [],
      "source": [
        "#parametized constructor"
      ]
    },
    {
      "cell_type": "code",
      "execution_count": null,
      "id": "7302a033",
      "metadata": {
        "id": "7302a033"
      },
      "outputs": [],
      "source": [
        "class Pub_mod:\n",
        "    \n",
        "    def __init__(self,name,age):\n",
        "        \n",
        "        self._name=name\n",
        "        self.age=age\n",
        "        \n",
        "    def age1(self):\n",
        "        print(\"age1\",self.age)\n",
        "        \n",
        "    "
      ]
    },
    {
      "cell_type": "code",
      "execution_count": null,
      "id": "1549d398",
      "metadata": {
        "id": "1549d398"
      },
      "outputs": [],
      "source": [
        "c1=Pub_mod(\"imran\",27)"
      ]
    },
    {
      "cell_type": "code",
      "execution_count": null,
      "id": "c16226e8",
      "metadata": {
        "id": "c16226e8",
        "outputId": "8d130d5b-5ed2-4803-98bf-f85ff7b28a43"
      },
      "outputs": [
        {
          "name": "stdout",
          "output_type": "stream",
          "text": [
            "age1 27\n"
          ]
        }
      ],
      "source": [
        "c1.age1()"
      ]
    },
    {
      "cell_type": "code",
      "execution_count": null,
      "id": "280f6b89",
      "metadata": {
        "id": "280f6b89"
      },
      "outputs": [],
      "source": [
        "class Rectangle:\n",
        "    #__length = 0\n",
        "    #__breadth=0\n",
        "    \n",
        "    def __init__(self):\n",
        "        self.length=5\n",
        "        self.__breadth=3\n",
        "        \n",
        "        print(self.length)\n",
        "        print(self.__breadth)"
      ]
    },
    {
      "cell_type": "code",
      "execution_count": null,
      "id": "6dcbff41",
      "metadata": {
        "id": "6dcbff41",
        "outputId": "d158a4b4-ef99-404a-b5cb-42ffed5d22fd"
      },
      "outputs": [
        {
          "name": "stdout",
          "output_type": "stream",
          "text": [
            "5\n",
            "3\n"
          ]
        }
      ],
      "source": [
        "r1=Rectangle()"
      ]
    },
    {
      "cell_type": "code",
      "execution_count": null,
      "id": "d2ccea0a",
      "metadata": {
        "id": "d2ccea0a",
        "outputId": "c2adfa88-1cf0-46ff-b0fd-b980c6bd734a"
      },
      "outputs": [
        {
          "data": {
            "text/plain": [
              "5"
            ]
          },
          "execution_count": 101,
          "metadata": {},
          "output_type": "execute_result"
        }
      ],
      "source": [
        "r1.length"
      ]
    },
    {
      "cell_type": "code",
      "execution_count": null,
      "id": "92a709a1",
      "metadata": {
        "id": "92a709a1",
        "outputId": "3c8c1a97-a88d-46f6-b594-142ac5febf18"
      },
      "outputs": [
        {
          "name": "stdout",
          "output_type": "stream",
          "text": [
            "5\n",
            "3\n",
            "5\n"
          ]
        },
        {
          "ename": "AttributeError",
          "evalue": "'Rectangle' object has no attribute '__breadth'",
          "output_type": "error",
          "traceback": [
            "\u001b[1;31m---------------------------------------------------------------------------\u001b[0m",
            "\u001b[1;31mAttributeError\u001b[0m                            Traceback (most recent call last)",
            "Input \u001b[1;32mIn [106]\u001b[0m, in \u001b[0;36m<cell line: 19>\u001b[1;34m()\u001b[0m\n\u001b[0;32m     17\u001b[0m rect\u001b[38;5;241m=\u001b[39mRectangle()\n\u001b[0;32m     18\u001b[0m \u001b[38;5;28mprint\u001b[39m(rect\u001b[38;5;241m.\u001b[39mlength)\n\u001b[1;32m---> 19\u001b[0m \u001b[38;5;28mprint\u001b[39m(\u001b[43mrect\u001b[49m\u001b[38;5;241;43m.\u001b[39;49m\u001b[43m__breadth\u001b[49m)\n",
            "\u001b[1;31mAttributeError\u001b[0m: 'Rectangle' object has no attribute '__breadth'"
          ]
        }
      ],
      "source": [
        "class Rectangle:\n",
        "    #__length = 0\n",
        "    #__breadth=0\n",
        "    \n",
        "    def __init__(self):\n",
        "        self.length=5\n",
        "        self.__breadth=3\n",
        "        \n",
        "        print(self.length)\n",
        "        print(self.__breadth)\n",
        "        \n",
        "    def show(self):\n",
        "        print(\"this is printing private varaivle\", self.__breadth)\n",
        "        \n",
        "\n",
        "        \n",
        "rect=Rectangle()\n",
        "print(rect.length)\n",
        "print(rect.__breadth)"
      ]
    },
    {
      "cell_type": "code",
      "execution_count": null,
      "id": "bcf6112c",
      "metadata": {
        "id": "bcf6112c",
        "outputId": "10c8e37f-d964-4b29-cd9f-1a6f8f6d11dc"
      },
      "outputs": [
        {
          "name": "stdout",
          "output_type": "stream",
          "text": [
            "this is printing private varaivle 3\n"
          ]
        }
      ],
      "source": [
        "rect.show()"
      ]
    },
    {
      "cell_type": "code",
      "execution_count": null,
      "id": "59225671",
      "metadata": {
        "id": "59225671",
        "outputId": "72b91d76-5f0a-4df5-9c87-4692a02f778e"
      },
      "outputs": [
        {
          "data": {
            "text/plain": [
              "3"
            ]
          },
          "execution_count": 107,
          "metadata": {},
          "output_type": "execute_result"
        }
      ],
      "source": [
        "rect._Rectangle__breadth"
      ]
    },
    {
      "cell_type": "code",
      "execution_count": null,
      "id": "5642545d",
      "metadata": {
        "id": "5642545d"
      },
      "outputs": [],
      "source": [
        "class test:\n",
        "    \n",
        "    def __init__(self):\n",
        "        self.a=6\n",
        "        self._b=5\n",
        "        self.__c=8\n",
        "        \n",
        "        print(\"public:\",self.a,\"protected:\",self._b,\"private:\",self.__c)"
      ]
    },
    {
      "cell_type": "code",
      "execution_count": null,
      "id": "78fb277a",
      "metadata": {
        "id": "78fb277a",
        "outputId": "28b479bc-d482-4116-878f-dd3c97e959be"
      },
      "outputs": [
        {
          "name": "stdout",
          "output_type": "stream",
          "text": [
            "public: 6 protected: 5 private: 8\n"
          ]
        }
      ],
      "source": [
        "t1=test()"
      ]
    },
    {
      "cell_type": "code",
      "execution_count": null,
      "id": "3ad6ab22",
      "metadata": {
        "id": "3ad6ab22",
        "outputId": "29956ae6-ac25-4681-9795-577370e9ec9c"
      },
      "outputs": [
        {
          "data": {
            "text/plain": [
              "6"
            ]
          },
          "execution_count": 111,
          "metadata": {},
          "output_type": "execute_result"
        }
      ],
      "source": [
        "t1.a"
      ]
    },
    {
      "cell_type": "code",
      "execution_count": null,
      "id": "ebd639ca",
      "metadata": {
        "id": "ebd639ca",
        "outputId": "cbf6711f-3ecf-488f-80c6-7d62809b136b"
      },
      "outputs": [
        {
          "data": {
            "text/plain": [
              "8"
            ]
          },
          "execution_count": 140,
          "metadata": {},
          "output_type": "execute_result"
        }
      ],
      "source": [
        "t1._test__c"
      ]
    },
    {
      "cell_type": "code",
      "execution_count": null,
      "id": "cb05c29d",
      "metadata": {
        "id": "cb05c29d",
        "outputId": "491cc55b-c722-45b5-f015-69b7dff9cef5"
      },
      "outputs": [
        {
          "ename": "AttributeError",
          "evalue": "'test' object has no attribute 'c'",
          "output_type": "error",
          "traceback": [
            "\u001b[1;31m---------------------------------------------------------------------------\u001b[0m",
            "\u001b[1;31mAttributeError\u001b[0m                            Traceback (most recent call last)",
            "Input \u001b[1;32mIn [113]\u001b[0m, in \u001b[0;36m<cell line: 1>\u001b[1;34m()\u001b[0m\n\u001b[1;32m----> 1\u001b[0m \u001b[43mt1\u001b[49m\u001b[38;5;241;43m.\u001b[39;49m\u001b[43mc\u001b[49m\n",
            "\u001b[1;31mAttributeError\u001b[0m: 'test' object has no attribute 'c'"
          ]
        }
      ],
      "source": [
        "t1.c"
      ]
    },
    {
      "cell_type": "code",
      "execution_count": null,
      "id": "d3848f18",
      "metadata": {
        "id": "d3848f18"
      },
      "outputs": [],
      "source": [
        "class test:\n",
        "    \n",
        "    def __init__(self):\n",
        "        self.a=6\n",
        "        self._b=5\n",
        "        self.__c=8\n",
        "        \n",
        "        print(\"public:\",self.a,\"protected:\",self._b,\"private:\",self.__c)\n",
        "        \n",
        "    def show(self):\n",
        "        \n",
        "        print(\"protected:\",self._b ,\"private:\",self.__c)"
      ]
    },
    {
      "cell_type": "code",
      "execution_count": null,
      "id": "ee8a4ce4",
      "metadata": {
        "id": "ee8a4ce4",
        "outputId": "6deff012-e51d-4241-b033-bf597d214def"
      },
      "outputs": [
        {
          "name": "stdout",
          "output_type": "stream",
          "text": [
            "public: 6 protected: 5 private: 8\n"
          ]
        }
      ],
      "source": [
        "t2=test()"
      ]
    },
    {
      "cell_type": "code",
      "execution_count": null,
      "id": "0aa3a1e8",
      "metadata": {
        "id": "0aa3a1e8",
        "outputId": "30ee501b-8a36-45c2-8972-18b293738a73"
      },
      "outputs": [
        {
          "name": "stdout",
          "output_type": "stream",
          "text": [
            "protected: 5 private: 8\n"
          ]
        }
      ],
      "source": [
        "t2.show()"
      ]
    },
    {
      "cell_type": "code",
      "execution_count": null,
      "id": "1a51a6b6",
      "metadata": {
        "id": "1a51a6b6",
        "outputId": "00e20866-48d8-493f-f630-287834b5776f"
      },
      "outputs": [
        {
          "data": {
            "text/plain": [
              "8"
            ]
          },
          "execution_count": 129,
          "metadata": {},
          "output_type": "execute_result"
        }
      ],
      "source": [
        "t2._test__c"
      ]
    },
    {
      "cell_type": "code",
      "execution_count": null,
      "id": "e6d75137",
      "metadata": {
        "id": "e6d75137",
        "outputId": "84c8b1a0-3d2e-4627-cd36-a9dd3f0e3b03"
      },
      "outputs": [
        {
          "ename": "AttributeError",
          "evalue": "'test' object has no attribute '__c'",
          "output_type": "error",
          "traceback": [
            "\u001b[1;31m---------------------------------------------------------------------------\u001b[0m",
            "\u001b[1;31mAttributeError\u001b[0m                            Traceback (most recent call last)",
            "Input \u001b[1;32mIn [137]\u001b[0m, in \u001b[0;36m<cell line: 1>\u001b[1;34m()\u001b[0m\n\u001b[1;32m----> 1\u001b[0m \u001b[43mt2\u001b[49m\u001b[38;5;241;43m.\u001b[39;49m\u001b[43m__c\u001b[49m\n",
            "\u001b[1;31mAttributeError\u001b[0m: 'test' object has no attribute '__c'"
          ]
        }
      ],
      "source": [
        "t2.__c"
      ]
    },
    {
      "cell_type": "code",
      "execution_count": null,
      "id": "b09ab297",
      "metadata": {
        "id": "b09ab297",
        "outputId": "af2d5a56-ff17-49f8-a51c-7a1adf406945"
      },
      "outputs": [
        {
          "data": {
            "text/plain": [
              "5"
            ]
          },
          "execution_count": 132,
          "metadata": {},
          "output_type": "execute_result"
        }
      ],
      "source": [
        "t2._b"
      ]
    },
    {
      "cell_type": "code",
      "execution_count": null,
      "id": "527a7a7e",
      "metadata": {
        "id": "527a7a7e",
        "outputId": "572921d0-4ab4-4fa2-c7ea-7c9b008e3511"
      },
      "outputs": [
        {
          "name": "stdout",
          "output_type": "stream",
          "text": [
            "public: 6 protected: 5 private: 8\n"
          ]
        }
      ],
      "source": [
        "t3=test()"
      ]
    },
    {
      "cell_type": "code",
      "execution_count": null,
      "id": "bbd9be5a",
      "metadata": {
        "id": "bbd9be5a",
        "outputId": "4ae92495-ef4e-4f45-a746-f0d836ed627c"
      },
      "outputs": [
        {
          "data": {
            "text/plain": [
              "5"
            ]
          },
          "execution_count": 136,
          "metadata": {},
          "output_type": "execute_result"
        }
      ],
      "source": [
        "t3._b"
      ]
    },
    {
      "cell_type": "code",
      "execution_count": null,
      "id": "869c63e1",
      "metadata": {
        "id": "869c63e1"
      },
      "outputs": [],
      "source": [
        "class Tyres:\n",
        "    def __init__(self,branch,belted_bias,opt_pressure):\n",
        "        self.branch=branch\n",
        "        self.belted_bias=belted_bias\n",
        "        self.opt_pressure=opt_pressure\n",
        "        \n",
        "    def __str__(self):\n",
        "        return (\"Tyres: \\n \\tBranch\" + self.branch +\n",
        "               \"\\n \\t Belted-bias\" + str(self.belted_bias) +\n",
        "               \"\\n \\t optimal pressure\" + str(self.opt_pressure))\n",
        "    \n",
        "    \n",
        "    \n",
        "    \n",
        "class Engine:\n",
        "    def __init__(self,fuel_type,noise_level):\n",
        "        self.fuel_type=fuel_type\n",
        "        self.noise_level=noise_level\n",
        "        \n",
        "    def __str__(self):\n",
        "        return (\"Engine: \\n \\tFuel type\" + self.fuel_type +\n",
        "               \"\\n \\t Noise level:\" + str(self.noise_level))\n",
        "    \n",
        "\n",
        "    \n",
        "class Body:\n",
        "    \n",
        "    def __init__(self,size):\n",
        "        self.size=size\n",
        "        \n",
        "    def __str__(self):\n",
        "        return (\"Body:\\n \\t size\" + self.size)\n",
        "    \n",
        "\n",
        "\n",
        "    \n",
        "class Car:\n",
        "    \n",
        "    def __init__(self,tyres,engine,body):\n",
        "        \n",
        "        self.tyres=tyres\n",
        "        self.engine=engine\n",
        "        self.body=body\n",
        "        \n",
        "    def __str__(self):\n",
        "        return (str(self.tyres) + \"\\n\" + str(self.engine) + \"\\n\" + str(self.body))\n",
        "        \n",
        "        \n",
        "        \n",
        "\n",
        "\n",
        "        \n",
        "    \n",
        "                \n",
        "                \n",
        "                \n",
        "\n",
        "                "
      ]
    },
    {
      "cell_type": "code",
      "execution_count": null,
      "id": "acc5951a",
      "metadata": {
        "id": "acc5951a"
      },
      "outputs": [],
      "source": [
        "t=Tyres('banaglore',True,2.0)\n",
        "e=Engine('Desel',3)\n",
        "b=Body('Medium')\n"
      ]
    },
    {
      "cell_type": "code",
      "execution_count": null,
      "id": "9060d583",
      "metadata": {
        "id": "9060d583",
        "outputId": "74239e5b-fd6c-4edf-88a1-3dcda0bbd859"
      },
      "outputs": [
        {
          "name": "stdout",
          "output_type": "stream",
          "text": [
            "Tyres: \n",
            " \tBranchbanaglore\n",
            " \t Belted-biasTrue\n",
            " \t optimal pressure2.0\n",
            "Engine: \n",
            " \tFuel typeDesel\n",
            " \t Noise level:3\n",
            "Body:\n",
            " \t sizeMedium\n"
          ]
        }
      ],
      "source": [
        "c=Car(t,e,b)\n",
        "print(c)"
      ]
    },
    {
      "cell_type": "code",
      "execution_count": null,
      "id": "3e0fc462",
      "metadata": {
        "id": "3e0fc462",
        "outputId": "6a628c77-5f7c-4e87-c8cb-5ee358a845d4"
      },
      "outputs": [
        {
          "name": "stdout",
          "output_type": "stream",
          "text": [
            "Tyres: \n",
            " \tBranchbanaglore\n",
            " \t Belted-biasTrue\n",
            " \t optimal pressure2.0\n"
          ]
        }
      ],
      "source": [
        "print(t)"
      ]
    },
    {
      "cell_type": "code",
      "execution_count": null,
      "id": "3a822f54",
      "metadata": {
        "id": "3a822f54",
        "outputId": "4020c9aa-ce22-423a-c9f9-a53b9e11bf65"
      },
      "outputs": [
        {
          "data": {
            "text/plain": [
              "'banaglore'"
            ]
          },
          "execution_count": 145,
          "metadata": {},
          "output_type": "execute_result"
        }
      ],
      "source": [
        "t.branch"
      ]
    },
    {
      "cell_type": "code",
      "execution_count": null,
      "id": "b5ef2bce",
      "metadata": {
        "id": "b5ef2bce",
        "outputId": "fef530c4-ae5e-4019-9398-7708d94ab08a"
      },
      "outputs": [
        {
          "data": {
            "text/plain": [
              "['__call__',\n",
              " '__class__',\n",
              " '__delattr__',\n",
              " '__dir__',\n",
              " '__doc__',\n",
              " '__eq__',\n",
              " '__format__',\n",
              " '__ge__',\n",
              " '__getattribute__',\n",
              " '__gt__',\n",
              " '__hash__',\n",
              " '__init__',\n",
              " '__init_subclass__',\n",
              " '__le__',\n",
              " '__lt__',\n",
              " '__module__',\n",
              " '__name__',\n",
              " '__ne__',\n",
              " '__new__',\n",
              " '__qualname__',\n",
              " '__reduce__',\n",
              " '__reduce_ex__',\n",
              " '__repr__',\n",
              " '__self__',\n",
              " '__setattr__',\n",
              " '__sizeof__',\n",
              " '__str__',\n",
              " '__subclasshook__',\n",
              " '__text_signature__']"
            ]
          },
          "execution_count": 146,
          "metadata": {},
          "output_type": "execute_result"
        }
      ],
      "source": [
        "dir(print)"
      ]
    },
    {
      "cell_type": "code",
      "execution_count": null,
      "id": "51c43ed1",
      "metadata": {
        "id": "51c43ed1"
      },
      "outputs": [],
      "source": [
        "imran@ineuron.ai"
      ]
    }
  ],
  "metadata": {
    "kernelspec": {
      "display_name": "Python 3 (ipykernel)",
      "language": "python",
      "name": "python3"
    },
    "language_info": {
      "codemirror_mode": {
        "name": "ipython",
        "version": 3
      },
      "file_extension": ".py",
      "mimetype": "text/x-python",
      "name": "python",
      "nbconvert_exporter": "python",
      "pygments_lexer": "ipython3",
      "version": "3.9.12"
    },
    "colab": {
      "provenance": [],
      "include_colab_link": true
    }
  },
  "nbformat": 4,
  "nbformat_minor": 5
}