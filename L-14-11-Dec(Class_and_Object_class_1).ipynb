{
  "cells": [
    {
      "cell_type": "markdown",
      "metadata": {
        "id": "view-in-github",
        "colab_type": "text"
      },
      "source": [
        "<a href=\"https://colab.research.google.com/github/kkvk001/iNeuron/blob/main/L-14-11-Dec(Class_and_Object_class_1).ipynb\" target=\"_parent\"><img src=\"https://colab.research.google.com/assets/colab-badge.svg\" alt=\"Open In Colab\"/></a>"
      ]
    },
    {
      "cell_type": "markdown",
      "id": "ba9b7377",
      "metadata": {
        "id": "ba9b7377"
      },
      "source": [
        "# class"
      ]
    },
    {
      "cell_type": "code",
      "execution_count": null,
      "id": "b77318c6",
      "metadata": {
        "id": "b77318c6"
      },
      "outputs": [],
      "source": [
        "class Emp:\n",
        "    pass"
      ]
    },
    {
      "cell_type": "code",
      "execution_count": null,
      "id": "02c0fd58",
      "metadata": {
        "id": "02c0fd58"
      },
      "outputs": [],
      "source": [
        "e=Emp()"
      ]
    },
    {
      "cell_type": "code",
      "execution_count": null,
      "id": "7b7b86ff",
      "metadata": {
        "id": "7b7b86ff",
        "outputId": "77852abd-1553-4a55-a4d6-9e33cfc9cde1"
      },
      "outputs": [
        {
          "name": "stdout",
          "output_type": "stream",
          "text": [
            "<class '__main__.Emp'>\n"
          ]
        }
      ],
      "source": [
        "print(type(e))"
      ]
    },
    {
      "cell_type": "raw",
      "id": "a60c4149",
      "metadata": {
        "id": "a60c4149"
      },
      "source": [
        "__main__ is the name of the environment where top-level code is run. “Top-level code” is the first user-specified Python module that starts running. It’s “top-level” because it imports all other modules that the program needs. Sometimes “top-level code” is called an entry point to the application."
      ]
    },
    {
      "cell_type": "code",
      "execution_count": null,
      "id": "65a12d9f",
      "metadata": {
        "id": "65a12d9f",
        "outputId": "f4261208-90b3-4516-8e16-0069299f45cb"
      },
      "outputs": [
        {
          "name": "stdout",
          "output_type": "stream",
          "text": [
            "<__main__.Emp object at 0x00000259E0F07EB0>\n"
          ]
        }
      ],
      "source": [
        "print(e) "
      ]
    },
    {
      "cell_type": "code",
      "execution_count": null,
      "id": "3caaa61e",
      "metadata": {
        "id": "3caaa61e",
        "outputId": "8cacf595-b924-4b61-9121-ce72cd72ed0b"
      },
      "outputs": [
        {
          "data": {
            "text/plain": [
              "2585049202352"
            ]
          },
          "execution_count": 22,
          "metadata": {},
          "output_type": "execute_result"
        }
      ],
      "source": [
        "id(e)"
      ]
    },
    {
      "cell_type": "raw",
      "id": "92125228",
      "metadata": {
        "id": "92125228"
      },
      "source": [
        "In Python , a class can have 3 types of variables:\n",
        "\n",
        "Instance Variables: Created per instance basis\n",
        "\n",
        "Local Variables: Created locally inside a method and destroyed when the method execution is over\n",
        "\n",
        "Class Variables: Created inside a class and shared by every object of that class. Sometimes also called as static variables"
      ]
    },
    {
      "cell_type": "code",
      "execution_count": null,
      "id": "69a7c66c",
      "metadata": {
        "id": "69a7c66c"
      },
      "outputs": [],
      "source": [
        "class Robot:\n",
        "    \n",
        "\n",
        "    def introduce_self(self):\n",
        "        print(\"My name is \" + self.name) # this in Java"
      ]
    },
    {
      "cell_type": "code",
      "execution_count": null,
      "id": "d94be36c",
      "metadata": {
        "id": "d94be36c"
      },
      "outputs": [],
      "source": [
        "r1 = Robot()\n",
        "r1.name = \"Tom\"\n",
        "r1.color = \"red\"\n",
        "r1.weight = 30"
      ]
    },
    {
      "cell_type": "code",
      "execution_count": null,
      "id": "7e3a33de",
      "metadata": {
        "id": "7e3a33de",
        "outputId": "98550042-23b8-4157-b92a-acbf53fedae5"
      },
      "outputs": [
        {
          "name": "stdout",
          "output_type": "stream",
          "text": [
            "My name is Tom\n"
          ]
        }
      ],
      "source": [
        "r1.introduce_self()"
      ]
    },
    {
      "cell_type": "code",
      "execution_count": null,
      "id": "4361849f",
      "metadata": {
        "id": "4361849f"
      },
      "outputs": [],
      "source": [
        "r2 = Robot()\n",
        "r2.name = \"Jerry\"\n",
        "r2.color = \"blue\"\n",
        "r2.weight = 40"
      ]
    },
    {
      "cell_type": "code",
      "execution_count": null,
      "id": "ef2ee3bc",
      "metadata": {
        "id": "ef2ee3bc",
        "outputId": "d0580f01-f8a4-4e2f-a03b-391f0ecb9d79"
      },
      "outputs": [
        {
          "name": "stdout",
          "output_type": "stream",
          "text": [
            "My name is Jerry\n"
          ]
        }
      ],
      "source": [
        "r2.introduce_self()"
      ]
    },
    {
      "cell_type": "code",
      "execution_count": null,
      "id": "8b2ab188",
      "metadata": {
        "id": "8b2ab188"
      },
      "outputs": [],
      "source": [
        "class Robot:\n",
        "    def __init__(self, name, color, weight):\n",
        "        self.name = name\n",
        "        self.color = color\n",
        "        self.weight = weight\n",
        "\n",
        "    def introduce_self(self):\n",
        "        print(\"My name is \" + self.name) # this in Java"
      ]
    },
    {
      "cell_type": "code",
      "execution_count": null,
      "id": "9027aa5c",
      "metadata": {
        "id": "9027aa5c"
      },
      "outputs": [],
      "source": [
        "r1 = Robot(\"Tom\", \"red\", 30)\n",
        "r2 = Robot(\"Jerry\", \"blue\", 40)"
      ]
    },
    {
      "cell_type": "raw",
      "id": "21b9859a",
      "metadata": {
        "id": "21b9859a"
      },
      "source": [
        "Use the __init__() method to initialize the object’s attributes.\n",
        "The __init__() doesn’t create an object but is automatically called after the object is created."
      ]
    },
    {
      "cell_type": "code",
      "execution_count": null,
      "id": "877149dd",
      "metadata": {
        "id": "877149dd",
        "outputId": "4862fe2e-58aa-49d9-87c1-2ba2ff924df3"
      },
      "outputs": [
        {
          "data": {
            "text/plain": [
              "['__class__',\n",
              " '__delattr__',\n",
              " '__dict__',\n",
              " '__dir__',\n",
              " '__doc__',\n",
              " '__eq__',\n",
              " '__format__',\n",
              " '__ge__',\n",
              " '__getattribute__',\n",
              " '__gt__',\n",
              " '__hash__',\n",
              " '__init__',\n",
              " '__init_subclass__',\n",
              " '__le__',\n",
              " '__lt__',\n",
              " '__module__',\n",
              " '__ne__',\n",
              " '__new__',\n",
              " '__reduce__',\n",
              " '__reduce_ex__',\n",
              " '__repr__',\n",
              " '__setattr__',\n",
              " '__sizeof__',\n",
              " '__str__',\n",
              " '__subclasshook__',\n",
              " '__weakref__',\n",
              " 'color',\n",
              " 'introduce_self',\n",
              " 'name',\n",
              " 'weight']"
            ]
          },
          "execution_count": 15,
          "metadata": {},
          "output_type": "execute_result"
        }
      ],
      "source": [
        "dir(r1)"
      ]
    },
    {
      "cell_type": "code",
      "execution_count": null,
      "id": "fa16391a",
      "metadata": {
        "id": "fa16391a",
        "outputId": "f9dd52ad-8aed-4241-efcc-c02d7267f574"
      },
      "outputs": [
        {
          "name": "stdout",
          "output_type": "stream",
          "text": [
            "My name is Tom\n",
            "My name is Jerry\n"
          ]
        }
      ],
      "source": [
        "r1.introduce_self()\n",
        "r2.introduce_self()"
      ]
    },
    {
      "cell_type": "code",
      "execution_count": null,
      "id": "c9dc43d8",
      "metadata": {
        "id": "c9dc43d8"
      },
      "outputs": [],
      "source": [
        "class Person:\n",
        "    def __init__(self, name, sex, profession):\n",
        "        # data members (instance variables)\n",
        "        self.name = name\n",
        "        self.sex = sex\n",
        "        self.profession = profession\n",
        "\n",
        "    # Behavior (instance methods)\n",
        "    def show(self):\n",
        "        print('Name:', self.name, 'Sex:', self.sex, 'Profession:', self.profession)\n",
        "\n",
        "    # Behavior (instance methods)\n",
        "    def work(self):\n",
        "        print(self.name, 'working as a', self.profession)"
      ]
    },
    {
      "cell_type": "code",
      "execution_count": null,
      "id": "4f3a5f89",
      "metadata": {
        "id": "4f3a5f89"
      },
      "outputs": [],
      "source": [
        "jessa = Person('Jessa', 'Female', 'Software Engineer')"
      ]
    },
    {
      "cell_type": "code",
      "execution_count": null,
      "id": "65f98f98",
      "metadata": {
        "id": "65f98f98",
        "outputId": "c0369932-3862-40c6-f020-6f139e615151"
      },
      "outputs": [
        {
          "name": "stdout",
          "output_type": "stream",
          "text": [
            "Name: Jessa Sex: Female Profession: Software Engineer\n"
          ]
        }
      ],
      "source": [
        "jessa.show()"
      ]
    },
    {
      "cell_type": "code",
      "execution_count": null,
      "id": "f1679cb9",
      "metadata": {
        "id": "f1679cb9",
        "outputId": "a237ff9c-245b-4ea5-af10-cc7fc7640891"
      },
      "outputs": [
        {
          "name": "stdout",
          "output_type": "stream",
          "text": [
            "Jessa working as a Software Engineer\n"
          ]
        }
      ],
      "source": [
        "jessa.work()"
      ]
    },
    {
      "cell_type": "code",
      "execution_count": null,
      "id": "31845a26",
      "metadata": {
        "id": "31845a26",
        "outputId": "8e405a7f-6c09-4b48-83ab-4a36cc8949a0"
      },
      "outputs": [
        {
          "name": "stdout",
          "output_type": "stream",
          "text": [
            "2585051326304\n",
            "2585051326304\n",
            "Age: 25 Name: Rahul Salary: 30000.0\n"
          ]
        }
      ],
      "source": [
        "class Emp:\n",
        "    def __init__(self):\n",
        "        print(id(self))\n",
        "        self.age=25\n",
        "        self.name=\"Rahul\"\n",
        "        self.salary=30000.0\n",
        "\n",
        "e=Emp()\n",
        "print(id(e))\n",
        "print(\"Age:\",e.age,\"Name:\",e.name,\"Salary:\",e.salary)"
      ]
    },
    {
      "cell_type": "code",
      "execution_count": null,
      "id": "b14bcd98",
      "metadata": {
        "id": "b14bcd98"
      },
      "outputs": [],
      "source": [
        "class Emp:\n",
        "    def __init__(self):\n",
        "        self.age=25\n",
        "        self.name=\"Rahul\"\n",
        "        self.salary=30000\n",
        "    def show(self):\n",
        "        print(self.age,self.name,self.salary)"
      ]
    },
    {
      "cell_type": "code",
      "execution_count": null,
      "id": "ba79e153",
      "metadata": {
        "id": "ba79e153"
      },
      "outputs": [],
      "source": [
        "e=Emp()"
      ]
    },
    {
      "cell_type": "code",
      "execution_count": null,
      "id": "e99d453a",
      "metadata": {
        "id": "e99d453a",
        "outputId": "df3bf41f-d72c-4523-a98f-3fe8e3683945"
      },
      "outputs": [
        {
          "name": "stdout",
          "output_type": "stream",
          "text": [
            "25 Rahul 30000\n"
          ]
        }
      ],
      "source": [
        "e.show()"
      ]
    },
    {
      "cell_type": "code",
      "execution_count": null,
      "id": "0aa23ca4",
      "metadata": {
        "id": "0aa23ca4"
      },
      "outputs": [],
      "source": [
        "class Circle:\n",
        "    pi = 3.14159\n",
        "\n",
        "    def __init__(self, radius):\n",
        "        self.radius = radius\n",
        "\n",
        "    def area(self):\n",
        "        return self.pi * self.radius**2\n",
        "\n",
        "    def circumference(self):\n",
        "        return 2 * self.pi * self.radius\n"
      ]
    },
    {
      "cell_type": "code",
      "execution_count": null,
      "id": "8f03fcb9",
      "metadata": {
        "id": "8f03fcb9",
        "outputId": "96c3134d-3999-472e-cd85-4560220edb73"
      },
      "outputs": [
        {
          "name": "stdout",
          "output_type": "stream",
          "text": [
            "3.14159\n",
            "3.14159\n"
          ]
        }
      ],
      "source": [
        "c = Circle(10)\n",
        "print(c.pi)\n",
        "print(Circle.pi)\n",
        "#object_name.class_attribute\n",
        "#class_name.class_attribute"
      ]
    },
    {
      "cell_type": "code",
      "execution_count": null,
      "id": "6e30de54",
      "metadata": {
        "id": "6e30de54",
        "outputId": "d64fea7b-c2e2-472e-d7bb-ad2fed54ad18"
      },
      "outputs": [
        {
          "data": {
            "text/plain": [
              "62.8318"
            ]
          },
          "execution_count": 43,
          "metadata": {},
          "output_type": "execute_result"
        }
      ],
      "source": [
        "c.circumference()"
      ]
    },
    {
      "cell_type": "code",
      "execution_count": null,
      "id": "c0e18aca",
      "metadata": {
        "id": "c0e18aca",
        "outputId": "130d8ecd-7b31-4117-92e3-663b0d7b6277"
      },
      "outputs": [
        {
          "data": {
            "text/plain": [
              "314.159"
            ]
          },
          "execution_count": 46,
          "metadata": {},
          "output_type": "execute_result"
        }
      ],
      "source": [
        "c.area()"
      ]
    },
    {
      "cell_type": "code",
      "execution_count": null,
      "id": "cda84671",
      "metadata": {
        "id": "cda84671"
      },
      "outputs": [],
      "source": [
        "class BankAccount:\n",
        "    def __init__(self,account_number, name, balance):\n",
        "        self.account_number = account_number\n",
        "        self.name = name\n",
        "        self.balance = balance\n",
        "   \n",
        "    def deposit(self,d_amount):\n",
        "        self.d_amount = d_amount\n",
        "        self.balance += self.d_amount\n",
        "        print(self.d_amount, ' is credited into your bank account')\n",
        "        print(f'your current balance is {self.balance}')\n",
        "\n",
        "    def withdraw(self,w_amount):\n",
        "        self.w_amount = w_amount\n",
        "        self.balance -= self.w_amount\n",
        "        print(self.w_amount, ' is debited into your bank account')\n",
        "        print(f'your current balance is {self.balance}')\n",
        "   \n",
        "    def account_details(self):\n",
        "        print(f'Your name is {self.name}')\n",
        "       \n",
        "        print(f'Your account number is {self.account_number}')\n",
        "        print(f'Your balance is {self.balance}')"
      ]
    },
    {
      "cell_type": "markdown",
      "source": [
        "1. Write a class called BankAccount that has the following:\n",
        "        • A field called name that stores the name of the account holder.\n",
        "        • A field called amount that stores the amount of money in the account.\n",
        "        • A field called interest_rate that stores the account’s interest rate (as a percentage).\n",
        "        • A constructor that just sets the values of the three fields above.\n",
        "        • A method called apply_interest() that takes no arguments and applies the interest to the\n",
        "        account. It should just modify the amount field and not return anything. For instance, if the\n",
        "        account has $1000 in it and the interest rate is 3%, then the amount variable should be changed\n",
        "        to $1030 ($1000 + 3% interest).\n",
        "        Then test the class, by creating a new BankAccount object for a user named Juan De Hattatime who\n",
        "        has $1000 at 3% interest. Then do the following:\n",
        "        • Use the apply_interest() method to apply the interest to the account.\n",
        "        • Print out how much money is now in the account after applying the interest.\n",
        "        • Change the account’s interest rate to 2%.\n",
        "        • Use the apply_interest() method to apply the interest to the account again.\n",
        "        • Print out how much money is now in the account after applying the interest again.\n",
        "        \n",
        " ----------------------------------------------------------------------------------------------------------------------------------------------------------------\n",
        " \n",
        " \n",
        " 2. Write a class called Item that represents an item for sale. It should have the following:\n",
        "      • Fields representing the name and price of the item\n",
        "      • A constructor that sets those fields,\n",
        "      • A __str__() method that returns a string containing the item name and price, with the price\n",
        "      formatted to exactly 2 decimal places\n",
        "      Test the class by creating a new item object and printing it out\n",
        "      \n",
        "      \n",
        "-----------------------------------------------------------------------------------------------------------------------------------------------------------------\n",
        "\n",
        "\n",
        "3. Write a class called ShoppingCart that might be used in an online store. It should have the following:\n",
        "      • A list of Item objects that represents the items in the shopping cart\n",
        "      • A constructor that creates an empty list of items (the constructor should take no arguments ex cept self)\n",
        "      • A method called add() that takes a name and a price and adds an Item object with that name\n",
        "      and price to the shopping cart\n",
        "      • A method called total() that takes no arguments and returns the total cost of the items in the\n",
        "      cart\n",
        "      34\n",
        "      • A method called remove_items() that takes an item name (a string) and removes any Item\n",
        "      objects with that name from the shopping cart. It shouldn’t return anything.\n",
        "      • A __str__() method that returns a string containing info on all the items in the shopping cart\n",
        "      Then test out the shopping cart as follows: (1) create a shopping cart; (2) add several items to it; (3)\n",
        "      print the cart’s total cost (using the total() method); (4) remove one of the items types; (5) print out\n",
        "      the cart\n",
        "      \n",
        "----------------------------------------------------------------------------------------------------------------------------------------------------------------\n",
        "\n",
        "4. Write a class called RestaurantCheck. It should have the following:\n",
        "      • Fields called check_number, sales_tax_percent, subtotal, table_number, and server_name\n",
        "      representing an identification for the check, the bill without tax added, the sales tax percentage,\n",
        "      the table number, and the name of the server.\n",
        "      • A constructor that sets the values of all four fields\n",
        "      • A method called calculate_total that takes no arguments (besides self) and returns the total\n",
        "      bill including sales tax.\n",
        "      • A method called print_check that writes to a file called check###.txt, where ### is the check\n",
        "      number and writes information about the check to that file, formatted like below:\n",
        "      Check Number: 443\n",
        "      Sales tax: 6.0%\n",
        "      Subtotal: $23.14\n",
        "      Total: $24.53\n",
        "      Table Number: 17\n",
        "      Server: Sonic the Hedgehog\n",
        "      Test the class by creating a RestaurantCheck object and calling the print_check() method\n",
        "      \n",
        "      \n",
        "      -----------------------------------------------------------------------------------------------------------------------------------------------------\n",
        "      \n",
        "      \n",
        "      \n",
        "5. Write a class called Ticket that has the following:\n",
        "      • A field cost for the price of the ticket and a string field time for the start time of the event\n",
        "      (assume times are in 24-hour format, like '18:35')\n",
        "      • A constructor that sets those variables\n",
        "      • A __str__() method that returns a string of the form Ticket(<cost>, <time>), where\n",
        "      <cost> and <time> are replaced with the values of the cost and time fields.\n",
        "      • A method called is_evening_time() that returns True or False, depending on whether the\n",
        "      time falls in the range from 18:00 to 23:59.\n",
        "      • A method called bulk_discount() that takes an integer n and returns the discount for buying n\n",
        "      tickets. There should be a 10% discount for buying 5 to 9 tickets, and a 20% discount for buying\n",
        "      10 or more. Otherwise, there is no discount. Return these percentages as integers.\n",
        "      Test the class by creating a Ticket item, printing it, calling the is_evening_time() method, and\n",
        "      calling the bulk_discount() method\n"
      ],
      "metadata": {
        "id": "E0L03G4JfrmR"
      },
      "id": "E0L03G4JfrmR"
    }
  ],
  "metadata": {
    "kernelspec": {
      "display_name": "Python 3 (ipykernel)",
      "language": "python",
      "name": "python3"
    },
    "language_info": {
      "codemirror_mode": {
        "name": "ipython",
        "version": 3
      },
      "file_extension": ".py",
      "mimetype": "text/x-python",
      "name": "python",
      "nbconvert_exporter": "python",
      "pygments_lexer": "ipython3",
      "version": "3.9.12"
    },
    "colab": {
      "provenance": [],
      "include_colab_link": true
    }
  },
  "nbformat": 4,
  "nbformat_minor": 5
}