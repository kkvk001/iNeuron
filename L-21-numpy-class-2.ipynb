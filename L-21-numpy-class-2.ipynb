{
  "cells": [
    {
      "cell_type": "markdown",
      "metadata": {
        "id": "view-in-github",
        "colab_type": "text"
      },
      "source": [
        "<a href=\"https://colab.research.google.com/github/kkvk001/iNeuron/blob/main/L-21-numpy-class-2.ipynb\" target=\"_parent\"><img src=\"https://colab.research.google.com/assets/colab-badge.svg\" alt=\"Open In Colab\"/></a>"
      ]
    },
    {
      "cell_type": "code",
      "execution_count": null,
      "id": "5804152f-c5b8-4623-8671-67fc013dc72a",
      "metadata": {
        "id": "5804152f-c5b8-4623-8671-67fc013dc72a"
      },
      "outputs": [],
      "source": [
        "import numpy as np "
      ]
    },
    {
      "cell_type": "code",
      "execution_count": null,
      "id": "ff52c252-f36e-488c-ad36-52711409d61b",
      "metadata": {
        "id": "ff52c252-f36e-488c-ad36-52711409d61b",
        "outputId": "d934eb94-752c-48eb-da0a-b8703125ea58"
      },
      "outputs": [
        {
          "data": {
            "text/plain": [
              "range(0, 10)"
            ]
          },
          "execution_count": 2,
          "metadata": {},
          "output_type": "execute_result"
        }
      ],
      "source": [
        "range(10)"
      ]
    },
    {
      "cell_type": "code",
      "execution_count": null,
      "id": "672688a9-64ca-4f4b-bdcd-980d5d882554",
      "metadata": {
        "id": "672688a9-64ca-4f4b-bdcd-980d5d882554",
        "outputId": "4b4dc58d-6688-40d2-a2b4-f6590a7cb118"
      },
      "outputs": [
        {
          "data": {
            "text/plain": [
              "[0, 1, 2, 3, 4, 5, 6, 7, 8, 9]"
            ]
          },
          "execution_count": 3,
          "metadata": {},
          "output_type": "execute_result"
        }
      ],
      "source": [
        "list(range(10))"
      ]
    },
    {
      "cell_type": "code",
      "execution_count": null,
      "id": "48907ed3-2c0c-4c00-89cc-d4f230c29c2b",
      "metadata": {
        "id": "48907ed3-2c0c-4c00-89cc-d4f230c29c2b",
        "outputId": "493b8e1c-f715-40c3-f7e7-36fc713e1b22"
      },
      "outputs": [
        {
          "data": {
            "text/plain": [
              "[3, 4, 5, 6, 7, 8, 9]"
            ]
          },
          "execution_count": 4,
          "metadata": {},
          "output_type": "execute_result"
        }
      ],
      "source": [
        "list(range(3 ,10))"
      ]
    },
    {
      "cell_type": "code",
      "execution_count": null,
      "id": "cc17611d-ee3f-4f23-acc1-0e80c7500277",
      "metadata": {
        "id": "cc17611d-ee3f-4f23-acc1-0e80c7500277",
        "outputId": "d6237036-093a-4e12-fcb3-c12ba33c0658"
      },
      "outputs": [
        {
          "ename": "TypeError",
          "evalue": "'float' object cannot be interpreted as an integer",
          "output_type": "error",
          "traceback": [
            "\u001b[0;31m---------------------------------------------------------------------------\u001b[0m",
            "\u001b[0;31mTypeError\u001b[0m                                 Traceback (most recent call last)",
            "Cell \u001b[0;32mIn [5], line 1\u001b[0m\n\u001b[0;32m----> 1\u001b[0m \u001b[38;5;28mlist\u001b[39m(\u001b[38;5;28;43mrange\u001b[39;49m\u001b[43m(\u001b[49m\u001b[38;5;241;43m3\u001b[39;49m\u001b[43m \u001b[49m\u001b[43m,\u001b[49m\u001b[38;5;241;43m10.5\u001b[39;49m\u001b[43m)\u001b[49m)\n",
            "\u001b[0;31mTypeError\u001b[0m: 'float' object cannot be interpreted as an integer"
          ]
        }
      ],
      "source": [
        "list(range(3 ,10.5))"
      ]
    },
    {
      "cell_type": "code",
      "execution_count": null,
      "id": "6568e437-8bfe-40be-b081-d21f89d654e5",
      "metadata": {
        "id": "6568e437-8bfe-40be-b081-d21f89d654e5",
        "outputId": "8ad10bf0-4629-4803-cede-a2d0ba6a0f2d"
      },
      "outputs": [
        {
          "data": {
            "text/plain": [
              "array([0, 1, 2, 3, 4, 5, 6, 7, 8, 9])"
            ]
          },
          "execution_count": 8,
          "metadata": {},
          "output_type": "execute_result"
        }
      ],
      "source": [
        "np.arange(10)"
      ]
    },
    {
      "cell_type": "code",
      "execution_count": null,
      "id": "5181317e-34a5-4c76-8ae1-802beaa6e796",
      "metadata": {
        "id": "5181317e-34a5-4c76-8ae1-802beaa6e796",
        "outputId": "a4cf73bc-1ffc-4e25-9589-e28da6315985"
      },
      "outputs": [
        {
          "data": {
            "text/plain": [
              "array([0.5, 1.5, 2.5, 3.5, 4.5, 5.5, 6.5, 7.5, 8.5, 9.5])"
            ]
          },
          "execution_count": 9,
          "metadata": {},
          "output_type": "execute_result"
        }
      ],
      "source": [
        "np.arange(.5 , 10)"
      ]
    },
    {
      "cell_type": "code",
      "execution_count": null,
      "id": "603dfdea-adde-43f2-8442-67eb9d36c1e6",
      "metadata": {
        "id": "603dfdea-adde-43f2-8442-67eb9d36c1e6",
        "outputId": "dfd034b1-43d1-4949-d42f-630a588746b6"
      },
      "outputs": [
        {
          "data": {
            "text/plain": [
              "array([ 5,  4,  3,  2,  1,  0, -1, -2, -3])"
            ]
          },
          "execution_count": 10,
          "metadata": {},
          "output_type": "execute_result"
        }
      ],
      "source": [
        "np.arange(5 ,-4, -1)"
      ]
    },
    {
      "cell_type": "code",
      "execution_count": null,
      "id": "8817d1da-8c6c-4cd5-8e2e-17d8fc18e554",
      "metadata": {
        "id": "8817d1da-8c6c-4cd5-8e2e-17d8fc18e554",
        "outputId": "b8b28a7a-bd26-450f-ead8-04e59cfc014e"
      },
      "outputs": [
        {
          "data": {
            "text/plain": [
              "array([ 5. ,  4.5,  4. ,  3.5,  3. ,  2.5,  2. ,  1.5,  1. ,  0.5,  0. ,\n",
              "       -0.5, -1. , -1.5, -2. , -2.5, -3. , -3.5])"
            ]
          },
          "execution_count": 11,
          "metadata": {},
          "output_type": "execute_result"
        }
      ],
      "source": [
        "np.arange(5 ,-4, -.5)"
      ]
    },
    {
      "cell_type": "code",
      "execution_count": null,
      "id": "8358f606-642b-4c80-b209-ce282f4c9b29",
      "metadata": {
        "id": "8358f606-642b-4c80-b209-ce282f4c9b29",
        "outputId": "04ce13fb-2471-4fe0-abf7-3fbb0a4ed961"
      },
      "outputs": [
        {
          "data": {
            "text/plain": [
              "[array([1.        , 1.21052632, 1.42105263, 1.63157895, 1.84210526,\n",
              "        2.05263158, 2.26315789, 2.47368421, 2.68421053, 2.89473684,\n",
              "        3.10526316, 3.31578947, 3.52631579, 3.73684211, 3.94736842,\n",
              "        4.15789474, 4.36842105, 4.57894737, 4.78947368, 5.        ]),\n",
              " 0.21052631578947367]"
            ]
          },
          "execution_count": 14,
          "metadata": {},
          "output_type": "execute_result"
        }
      ],
      "source": [
        "list(np.linspace(1,5,20,retstep=True))"
      ]
    },
    {
      "cell_type": "code",
      "execution_count": null,
      "id": "c72f8380-35e9-4a6b-8f1e-34459e9ce93a",
      "metadata": {
        "id": "c72f8380-35e9-4a6b-8f1e-34459e9ce93a",
        "outputId": "17291601-11cb-4e56-80ec-25a872cccfae"
      },
      "outputs": [
        {
          "data": {
            "text/plain": [
              "array([1.00000000e+01, 2.78255940e+06, 7.74263683e+11, 2.15443469e+17,\n",
              "       5.99484250e+22, 1.66810054e+28, 4.64158883e+33, 1.29154967e+39,\n",
              "       3.59381366e+44, 1.00000000e+50])"
            ]
          },
          "execution_count": 16,
          "metadata": {},
          "output_type": "execute_result"
        }
      ],
      "source": [
        "np.logspace(1,50,10)"
      ]
    },
    {
      "cell_type": "code",
      "execution_count": null,
      "id": "f7c28959-a428-4b41-9e79-4c87baf1c62a",
      "metadata": {
        "id": "f7c28959-a428-4b41-9e79-4c87baf1c62a",
        "outputId": "c4525687-dc1f-44a9-f028-0cd70cefcf75"
      },
      "outputs": [
        {
          "data": {
            "text/plain": [
              "array([0., 0., 0., 0., 0.])"
            ]
          },
          "execution_count": 17,
          "metadata": {},
          "output_type": "execute_result"
        }
      ],
      "source": [
        "np.zeros(5)"
      ]
    },
    {
      "cell_type": "code",
      "execution_count": null,
      "id": "9a45cda7-8726-466b-815d-a45de01b36c9",
      "metadata": {
        "id": "9a45cda7-8726-466b-815d-a45de01b36c9",
        "outputId": "4e8d4eb7-7239-4895-f9b6-e0e9b9ac7d87"
      },
      "outputs": [
        {
          "data": {
            "text/plain": [
              "array([[0., 0., 0., 0., 0.],\n",
              "       [0., 0., 0., 0., 0.],\n",
              "       [0., 0., 0., 0., 0.]])"
            ]
          },
          "execution_count": 19,
          "metadata": {},
          "output_type": "execute_result"
        }
      ],
      "source": [
        "np.zeros((3,5))"
      ]
    },
    {
      "cell_type": "code",
      "execution_count": null,
      "id": "5b65cf0d-d977-4e57-a125-3ac7f0e0d81e",
      "metadata": {
        "id": "5b65cf0d-d977-4e57-a125-3ac7f0e0d81e",
        "outputId": "21f0bb54-4064-4a29-9f67-62f9f32d15cc"
      },
      "outputs": [
        {
          "data": {
            "text/plain": [
              "array([[[0., 0.],\n",
              "        [0., 0.],\n",
              "        [0., 0.],\n",
              "        [0., 0.],\n",
              "        [0., 0.]],\n",
              "\n",
              "       [[0., 0.],\n",
              "        [0., 0.],\n",
              "        [0., 0.],\n",
              "        [0., 0.],\n",
              "        [0., 0.]],\n",
              "\n",
              "       [[0., 0.],\n",
              "        [0., 0.],\n",
              "        [0., 0.],\n",
              "        [0., 0.],\n",
              "        [0., 0.]]])"
            ]
          },
          "execution_count": 20,
          "metadata": {},
          "output_type": "execute_result"
        }
      ],
      "source": [
        "np.zeros((3,5,2))"
      ]
    },
    {
      "cell_type": "code",
      "execution_count": null,
      "id": "9c95b291-d808-4a70-a842-631fe6709534",
      "metadata": {
        "id": "9c95b291-d808-4a70-a842-631fe6709534",
        "outputId": "f8bed770-2b27-49c5-cff6-0ef857ba86f0"
      },
      "outputs": [
        {
          "data": {
            "text/plain": [
              "array([1., 1., 1., 1., 1.])"
            ]
          },
          "execution_count": 21,
          "metadata": {},
          "output_type": "execute_result"
        }
      ],
      "source": [
        "np.ones(5)"
      ]
    },
    {
      "cell_type": "code",
      "execution_count": null,
      "id": "adf7e081-ac70-4691-9bd4-2c4557726d2b",
      "metadata": {
        "id": "adf7e081-ac70-4691-9bd4-2c4557726d2b",
        "outputId": "0cab84af-954d-43f1-d788-bef601cb0829"
      },
      "outputs": [
        {
          "data": {
            "text/plain": [
              "array([[[5., 5.],\n",
              "        [5., 5.],\n",
              "        [5., 5.],\n",
              "        [5., 5.]],\n",
              "\n",
              "       [[5., 5.],\n",
              "        [5., 5.],\n",
              "        [5., 5.],\n",
              "        [5., 5.]],\n",
              "\n",
              "       [[5., 5.],\n",
              "        [5., 5.],\n",
              "        [5., 5.],\n",
              "        [5., 5.]]])"
            ]
          },
          "execution_count": 25,
          "metadata": {},
          "output_type": "execute_result"
        }
      ],
      "source": [
        "np.ones((3,4,2)) *5 "
      ]
    },
    {
      "cell_type": "code",
      "execution_count": null,
      "id": "cc096e3e-935a-4d4e-ba8f-4dd9639c1311",
      "metadata": {
        "id": "cc096e3e-935a-4d4e-ba8f-4dd9639c1311",
        "outputId": "32fd8a09-a661-4885-fda6-fa67d96cae78"
      },
      "outputs": [
        {
          "data": {
            "text/plain": [
              "array([[4.65789755e-310, 0.00000000e+000, 0.00000000e+000],\n",
              "       [0.00000000e+000, 0.00000000e+000, 0.00000000e+000]])"
            ]
          },
          "execution_count": 27,
          "metadata": {},
          "output_type": "execute_result"
        }
      ],
      "source": [
        "np.empty((2,3))"
      ]
    },
    {
      "cell_type": "code",
      "execution_count": null,
      "id": "58784092-9a64-480c-845b-a3c4c45ca845",
      "metadata": {
        "id": "58784092-9a64-480c-845b-a3c4c45ca845"
      },
      "outputs": [],
      "source": [
        "a = np.eye(4)"
      ]
    },
    {
      "cell_type": "code",
      "execution_count": null,
      "id": "2ad775ac-0f00-4194-94df-0c647d8151ab",
      "metadata": {
        "id": "2ad775ac-0f00-4194-94df-0c647d8151ab",
        "outputId": "15573548-07f8-4fb0-e68d-609b21249223"
      },
      "outputs": [
        {
          "data": {
            "text/plain": [
              "(4, 4)"
            ]
          },
          "execution_count": 30,
          "metadata": {},
          "output_type": "execute_result"
        }
      ],
      "source": [
        "a.shape"
      ]
    },
    {
      "cell_type": "code",
      "execution_count": null,
      "id": "970ebb8d-585a-4410-a1ba-82201f1542d1",
      "metadata": {
        "id": "970ebb8d-585a-4410-a1ba-82201f1542d1",
        "outputId": "b86510fe-c5b0-47af-d6ad-a53381cb1ef6"
      },
      "outputs": [
        {
          "data": {
            "text/plain": [
              "array([[1., 0., 0., 0.],\n",
              "       [0., 1., 0., 0.],\n",
              "       [0., 0., 1., 0.],\n",
              "       [0., 0., 0., 1.]])"
            ]
          },
          "execution_count": 31,
          "metadata": {},
          "output_type": "execute_result"
        }
      ],
      "source": [
        "a"
      ]
    },
    {
      "cell_type": "code",
      "execution_count": null,
      "id": "e75a5683-3431-4f35-aa94-c59c7069c2d5",
      "metadata": {
        "id": "e75a5683-3431-4f35-aa94-c59c7069c2d5",
        "outputId": "35fca494-7ba8-43d7-c057-624245f7745a"
      },
      "outputs": [
        {
          "data": {
            "text/plain": [
              "16"
            ]
          },
          "execution_count": 32,
          "metadata": {},
          "output_type": "execute_result"
        }
      ],
      "source": [
        "a.size"
      ]
    },
    {
      "cell_type": "code",
      "execution_count": null,
      "id": "f62d13dc-25cc-4de1-9ec5-c85e4aa1a34e",
      "metadata": {
        "id": "f62d13dc-25cc-4de1-9ec5-c85e4aa1a34e",
        "outputId": "982eaf6c-3a6f-45f5-d5fd-49f2c0acd018"
      },
      "outputs": [
        {
          "data": {
            "text/plain": [
              "2"
            ]
          },
          "execution_count": 34,
          "metadata": {},
          "output_type": "execute_result"
        }
      ],
      "source": [
        "a.ndim"
      ]
    },
    {
      "cell_type": "code",
      "execution_count": null,
      "id": "68f11878-09e1-49a8-b8fd-0be93c308eba",
      "metadata": {
        "id": "68f11878-09e1-49a8-b8fd-0be93c308eba"
      },
      "outputs": [],
      "source": [
        "a1 = np.random.randn(3,4)"
      ]
    },
    {
      "cell_type": "code",
      "execution_count": null,
      "id": "57a25d56-aa8e-4e0b-b588-da0c7e256e06",
      "metadata": {
        "id": "57a25d56-aa8e-4e0b-b588-da0c7e256e06",
        "outputId": "8d786792-6289-443f-8bd9-3cd154086b48"
      },
      "outputs": [
        {
          "data": {
            "text/plain": [
              "array([[ 0.89197116, -1.15365104, -0.05745584,  0.12046936],\n",
              "       [ 0.09741326,  0.30017453,  0.75902832,  0.16031268],\n",
              "       [ 0.35616933,  1.68695656,  1.2776625 , -0.22306634]])"
            ]
          },
          "execution_count": 37,
          "metadata": {},
          "output_type": "execute_result"
        }
      ],
      "source": [
        "a1"
      ]
    },
    {
      "cell_type": "code",
      "execution_count": null,
      "id": "69bfe3cf-5dcd-4d3c-a157-d8d111bd5c67",
      "metadata": {
        "id": "69bfe3cf-5dcd-4d3c-a157-d8d111bd5c67"
      },
      "outputs": [],
      "source": [
        "import pandas as pd "
      ]
    },
    {
      "cell_type": "code",
      "execution_count": null,
      "id": "9adc109b-e393-4315-9f98-1c7f429f98b8",
      "metadata": {
        "id": "9adc109b-e393-4315-9f98-1c7f429f98b8",
        "outputId": "dc9a463c-5130-4810-b60a-093f15ef8b1e"
      },
      "outputs": [
        {
          "data": {
            "text/html": [
              "<div>\n",
              "<style scoped>\n",
              "    .dataframe tbody tr th:only-of-type {\n",
              "        vertical-align: middle;\n",
              "    }\n",
              "\n",
              "    .dataframe tbody tr th {\n",
              "        vertical-align: top;\n",
              "    }\n",
              "\n",
              "    .dataframe thead th {\n",
              "        text-align: right;\n",
              "    }\n",
              "</style>\n",
              "<table border=\"1\" class=\"dataframe\">\n",
              "  <thead>\n",
              "    <tr style=\"text-align: right;\">\n",
              "      <th></th>\n",
              "      <th>0</th>\n",
              "      <th>1</th>\n",
              "      <th>2</th>\n",
              "      <th>3</th>\n",
              "    </tr>\n",
              "  </thead>\n",
              "  <tbody>\n",
              "    <tr>\n",
              "      <th>0</th>\n",
              "      <td>0.891971</td>\n",
              "      <td>-1.153651</td>\n",
              "      <td>-0.057456</td>\n",
              "      <td>0.120469</td>\n",
              "    </tr>\n",
              "    <tr>\n",
              "      <th>1</th>\n",
              "      <td>0.097413</td>\n",
              "      <td>0.300175</td>\n",
              "      <td>0.759028</td>\n",
              "      <td>0.160313</td>\n",
              "    </tr>\n",
              "    <tr>\n",
              "      <th>2</th>\n",
              "      <td>0.356169</td>\n",
              "      <td>1.686957</td>\n",
              "      <td>1.277662</td>\n",
              "      <td>-0.223066</td>\n",
              "    </tr>\n",
              "  </tbody>\n",
              "</table>\n",
              "</div>"
            ],
            "text/plain": [
              "          0         1         2         3\n",
              "0  0.891971 -1.153651 -0.057456  0.120469\n",
              "1  0.097413  0.300175  0.759028  0.160313\n",
              "2  0.356169  1.686957  1.277662 -0.223066"
            ]
          },
          "execution_count": 39,
          "metadata": {},
          "output_type": "execute_result"
        }
      ],
      "source": [
        "pd.DataFrame(a1)"
      ]
    },
    {
      "cell_type": "code",
      "execution_count": null,
      "id": "aff60cf2-28b9-413d-a29f-0839b7ef7887",
      "metadata": {
        "id": "aff60cf2-28b9-413d-a29f-0839b7ef7887",
        "outputId": "dce5763f-4367-460e-c0b4-5ee0dd2f4dde"
      },
      "outputs": [
        {
          "data": {
            "text/plain": [
              "array([[ 0.89197116, -1.15365104, -0.05745584,  0.12046936],\n",
              "       [ 0.09741326,  0.30017453,  0.75902832,  0.16031268],\n",
              "       [ 0.35616933,  1.68695656,  1.2776625 , -0.22306634]])"
            ]
          },
          "execution_count": 40,
          "metadata": {},
          "output_type": "execute_result"
        }
      ],
      "source": [
        "a1"
      ]
    },
    {
      "cell_type": "code",
      "execution_count": null,
      "id": "9fe7cde0-ad44-4a07-8c91-c8e16bac50de",
      "metadata": {
        "id": "9fe7cde0-ad44-4a07-8c91-c8e16bac50de",
        "outputId": "9e375747-890b-4474-de6d-dacddc9dd1e8"
      },
      "outputs": [
        {
          "data": {
            "text/plain": [
              "0.3001745329451818"
            ]
          },
          "execution_count": 41,
          "metadata": {},
          "output_type": "execute_result"
        }
      ],
      "source": [
        "a1[1][1]"
      ]
    },
    {
      "cell_type": "code",
      "execution_count": null,
      "id": "6391e14b-ce56-4765-aa5a-839e9c1ba04f",
      "metadata": {
        "id": "6391e14b-ce56-4765-aa5a-839e9c1ba04f",
        "outputId": "a8ca44e1-fe58-4c49-a7b4-cff3ecf3c72c"
      },
      "outputs": [
        {
          "data": {
            "text/plain": [
              "array([[ 0.89197116, -1.15365104],\n",
              "       [ 0.09741326,  0.30017453]])"
            ]
          },
          "execution_count": 45,
          "metadata": {},
          "output_type": "execute_result"
        }
      ],
      "source": [
        "a1[0:2 , 0:2]"
      ]
    },
    {
      "cell_type": "code",
      "execution_count": null,
      "id": "b64a28e3-de66-47bf-beb6-104fcdc1b530",
      "metadata": {
        "id": "b64a28e3-de66-47bf-beb6-104fcdc1b530",
        "outputId": "d02d3046-90af-4aea-90fe-30af58ddde04"
      },
      "outputs": [
        {
          "data": {
            "text/plain": [
              "array([[ 0.89197116, -1.15365104],\n",
              "       [ 0.09741326,  0.30017453]])"
            ]
          },
          "execution_count": 46,
          "metadata": {},
          "output_type": "execute_result"
        }
      ],
      "source": [
        "a1[[0,1] , 0:2]"
      ]
    },
    {
      "cell_type": "code",
      "execution_count": null,
      "id": "879654c5-5ca7-48ad-8844-ba2f6601fa51",
      "metadata": {
        "id": "879654c5-5ca7-48ad-8844-ba2f6601fa51",
        "outputId": "38ba9209-acbe-4986-eaad-f430ba111dd3"
      },
      "outputs": [
        {
          "data": {
            "text/plain": [
              "array([[ 0.89197116, -1.15365104],\n",
              "       [ 0.09741326,  0.30017453]])"
            ]
          },
          "execution_count": 50,
          "metadata": {},
          "output_type": "execute_result"
        }
      ],
      "source": [
        "a1[[0,1] ,0:2]"
      ]
    },
    {
      "cell_type": "code",
      "execution_count": null,
      "id": "8fbe874d-af9f-4ec2-832d-315ac58ded30",
      "metadata": {
        "id": "8fbe874d-af9f-4ec2-832d-315ac58ded30",
        "outputId": "ebe515c3-195a-4b54-8d3d-c591756720ce"
      },
      "outputs": [
        {
          "data": {
            "text/plain": [
              "array([[ 0.89197116, -1.15365104, -0.05745584,  0.12046936],\n",
              "       [ 0.09741326,  0.30017453,  0.75902832,  0.16031268],\n",
              "       [ 0.35616933,  1.68695656,  1.2776625 , -0.22306634]])"
            ]
          },
          "execution_count": 51,
          "metadata": {},
          "output_type": "execute_result"
        }
      ],
      "source": [
        "a1"
      ]
    },
    {
      "cell_type": "code",
      "execution_count": null,
      "id": "2e539b56-4df5-4e58-a274-54f264ee0a1f",
      "metadata": {
        "id": "2e539b56-4df5-4e58-a274-54f264ee0a1f",
        "outputId": "a83f09b5-0da1-4ffe-9e95-0832cf2136ca"
      },
      "outputs": [
        {
          "data": {
            "text/plain": [
              "array([ 0.16031268, -0.22306634])"
            ]
          },
          "execution_count": 52,
          "metadata": {},
          "output_type": "execute_result"
        }
      ],
      "source": [
        "a1[[1,2],3]"
      ]
    },
    {
      "cell_type": "code",
      "execution_count": null,
      "id": "a31943ec-43b2-4bc9-b278-131acaa8816e",
      "metadata": {
        "id": "a31943ec-43b2-4bc9-b278-131acaa8816e"
      },
      "outputs": [],
      "source": [
        "m1 = np.random.randint(1,3 , (3,3))"
      ]
    },
    {
      "cell_type": "code",
      "execution_count": null,
      "id": "ba0ea113-4f30-4f44-b5e0-70060b79fa08",
      "metadata": {
        "id": "ba0ea113-4f30-4f44-b5e0-70060b79fa08",
        "outputId": "66ad52bb-ffdc-4657-8abd-839290a571a0"
      },
      "outputs": [
        {
          "data": {
            "text/plain": [
              "array([[2, 2, 1],\n",
              "       [1, 2, 2],\n",
              "       [1, 2, 1]])"
            ]
          },
          "execution_count": 55,
          "metadata": {},
          "output_type": "execute_result"
        }
      ],
      "source": [
        "m1"
      ]
    },
    {
      "cell_type": "code",
      "execution_count": null,
      "id": "4a310420-f421-4a2f-a9c4-25ad3e87dda0",
      "metadata": {
        "id": "4a310420-f421-4a2f-a9c4-25ad3e87dda0"
      },
      "outputs": [],
      "source": [
        "m2 = np.random.randint(2,4 , (3,3))"
      ]
    },
    {
      "cell_type": "code",
      "execution_count": null,
      "id": "eb526c27-ce1f-4672-905d-df1293de11e2",
      "metadata": {
        "id": "eb526c27-ce1f-4672-905d-df1293de11e2",
        "outputId": "0392e997-3b31-47b1-9f66-920a7018064c"
      },
      "outputs": [
        {
          "data": {
            "text/plain": [
              "array([[3, 2, 2],\n",
              "       [3, 2, 3],\n",
              "       [2, 3, 2]])"
            ]
          },
          "execution_count": 57,
          "metadata": {},
          "output_type": "execute_result"
        }
      ],
      "source": [
        "m2"
      ]
    },
    {
      "cell_type": "code",
      "execution_count": null,
      "id": "157bcbc7-79bb-4046-b0f7-ba54d4df5aa6",
      "metadata": {
        "id": "157bcbc7-79bb-4046-b0f7-ba54d4df5aa6",
        "outputId": "6529c289-e119-4bf2-aa49-ee38e06805b7"
      },
      "outputs": [
        {
          "data": {
            "text/plain": [
              "array([[6, 4, 2],\n",
              "       [3, 4, 6],\n",
              "       [2, 6, 2]])"
            ]
          },
          "execution_count": 58,
          "metadata": {},
          "output_type": "execute_result"
        }
      ],
      "source": [
        "m1*m2"
      ]
    },
    {
      "cell_type": "code",
      "execution_count": null,
      "id": "abb34e13-4174-4728-856f-708ae2ccbcf2",
      "metadata": {
        "id": "abb34e13-4174-4728-856f-708ae2ccbcf2",
        "outputId": "52f2e5bc-6ed4-446c-ec3b-0dfcab2d88b6"
      },
      "outputs": [
        {
          "data": {
            "text/plain": [
              "array([[14, 11, 12],\n",
              "       [13, 12, 12],\n",
              "       [11,  9, 10]])"
            ]
          },
          "execution_count": 59,
          "metadata": {},
          "output_type": "execute_result"
        }
      ],
      "source": [
        "m1@m2"
      ]
    },
    {
      "cell_type": "code",
      "execution_count": null,
      "id": "b9f7c3d0-4722-4417-8cd9-c859d7779276",
      "metadata": {
        "id": "b9f7c3d0-4722-4417-8cd9-c859d7779276",
        "outputId": "ae3dbf19-a9e5-4b25-9438-51640f9471f1"
      },
      "outputs": [
        {
          "data": {
            "text/plain": [
              "array([[2, 2, 1],\n",
              "       [1, 2, 2],\n",
              "       [1, 2, 1]])"
            ]
          },
          "execution_count": 60,
          "metadata": {},
          "output_type": "execute_result"
        }
      ],
      "source": [
        "m1"
      ]
    },
    {
      "cell_type": "code",
      "execution_count": null,
      "id": "f95f01ae-049f-42d7-9cf6-76222c31e84e",
      "metadata": {
        "id": "f95f01ae-049f-42d7-9cf6-76222c31e84e",
        "outputId": "ff520a85-eff4-4e2e-d7b0-8f1d55b395a7"
      },
      "outputs": [
        {
          "data": {
            "text/plain": [
              "array([[3, 2, 2],\n",
              "       [3, 2, 3],\n",
              "       [2, 3, 2]])"
            ]
          },
          "execution_count": 61,
          "metadata": {},
          "output_type": "execute_result"
        }
      ],
      "source": [
        "m2"
      ]
    },
    {
      "cell_type": "code",
      "execution_count": null,
      "id": "1fe2d125-9d81-4f2d-bef1-df7b128bf02d",
      "metadata": {
        "id": "1fe2d125-9d81-4f2d-bef1-df7b128bf02d",
        "outputId": "4fd97937-eed9-4012-b4ca-337c1a738505"
      },
      "outputs": [
        {
          "data": {
            "text/plain": [
              "array([[2, 2, 1],\n",
              "       [1, 2, 2],\n",
              "       [1, 2, 1]])"
            ]
          },
          "execution_count": 62,
          "metadata": {},
          "output_type": "execute_result"
        }
      ],
      "source": [
        "m1"
      ]
    },
    {
      "cell_type": "code",
      "execution_count": null,
      "id": "a31b4844-47b7-4d54-87f9-de8c449e06e8",
      "metadata": {
        "id": "a31b4844-47b7-4d54-87f9-de8c449e06e8",
        "outputId": "ef2655c6-579c-48a8-9027-9a0ab271e99e"
      },
      "outputs": [
        {
          "data": {
            "text/plain": [
              "array([[16, 16,  1],\n",
              "       [ 1, 16, 16],\n",
              "       [ 1, 16,  1]])"
            ]
          },
          "execution_count": 64,
          "metadata": {},
          "output_type": "execute_result"
        }
      ],
      "source": [
        "pow(m1 , 4)"
      ]
    },
    {
      "cell_type": "code",
      "execution_count": null,
      "id": "320a3a11-8d53-4bc0-b9e0-8a299ee2a2b2",
      "metadata": {
        "id": "320a3a11-8d53-4bc0-b9e0-8a299ee2a2b2",
        "outputId": "7a2e8694-2a78-46a0-9ca9-67ebfc813b80"
      },
      "outputs": [
        {
          "data": {
            "text/plain": [
              "array([[1.41421356, 1.41421356, 1.        ],\n",
              "       [1.        , 1.41421356, 1.41421356],\n",
              "       [1.        , 1.41421356, 1.        ]])"
            ]
          },
          "execution_count": 65,
          "metadata": {},
          "output_type": "execute_result"
        }
      ],
      "source": [
        "np.sqrt(m1)"
      ]
    },
    {
      "cell_type": "code",
      "execution_count": null,
      "id": "7290950f-2942-4714-b2d8-f83628ff2465",
      "metadata": {
        "id": "7290950f-2942-4714-b2d8-f83628ff2465",
        "outputId": "a2521883-43b4-4521-bb22-f74c0f4f5a83"
      },
      "outputs": [
        {
          "data": {
            "text/plain": [
              "array([[0.30103, 0.30103, 0.     ],\n",
              "       [0.     , 0.30103, 0.30103],\n",
              "       [0.     , 0.30103, 0.     ]])"
            ]
          },
          "execution_count": 67,
          "metadata": {},
          "output_type": "execute_result"
        }
      ],
      "source": [
        "np.log10(m1)"
      ]
    },
    {
      "cell_type": "code",
      "execution_count": null,
      "id": "117cdc5d-e4fa-4ce7-96b5-111add6339c5",
      "metadata": {
        "id": "117cdc5d-e4fa-4ce7-96b5-111add6339c5",
        "outputId": "a1df44d7-e4f4-4999-f86c-a17500af9655"
      },
      "outputs": [
        {
          "data": {
            "text/plain": [
              "array([[7.3890561 , 7.3890561 , 2.71828183],\n",
              "       [2.71828183, 7.3890561 , 7.3890561 ],\n",
              "       [2.71828183, 7.3890561 , 2.71828183]])"
            ]
          },
          "execution_count": 68,
          "metadata": {},
          "output_type": "execute_result"
        }
      ],
      "source": [
        "np.exp(m1)"
      ]
    },
    {
      "cell_type": "code",
      "execution_count": null,
      "id": "e3b259db-da67-43b4-b9be-8ee35754ab89",
      "metadata": {
        "id": "e3b259db-da67-43b4-b9be-8ee35754ab89",
        "outputId": "cf1c7933-f46a-44a7-9410-cdefd42e017f"
      },
      "outputs": [
        {
          "data": {
            "text/plain": [
              "array([[4, 4, 1],\n",
              "       [1, 4, 4],\n",
              "       [1, 4, 1]])"
            ]
          },
          "execution_count": 69,
          "metadata": {},
          "output_type": "execute_result"
        }
      ],
      "source": [
        "m1**2\n"
      ]
    },
    {
      "cell_type": "code",
      "execution_count": null,
      "id": "5d4ebc88-aca9-4f08-a741-ac4dc05a61d3",
      "metadata": {
        "id": "5d4ebc88-aca9-4f08-a741-ac4dc05a61d3"
      },
      "outputs": [],
      "source": []
    }
  ],
  "metadata": {
    "kernelspec": {
      "display_name": "Python 3 (ipykernel)",
      "language": "python",
      "name": "python3"
    },
    "language_info": {
      "codemirror_mode": {
        "name": "ipython",
        "version": 3
      },
      "file_extension": ".py",
      "mimetype": "text/x-python",
      "name": "python",
      "nbconvert_exporter": "python",
      "pygments_lexer": "ipython3",
      "version": "3.10.6"
    },
    "colab": {
      "provenance": [],
      "include_colab_link": true
    }
  },
  "nbformat": 4,
  "nbformat_minor": 5
}