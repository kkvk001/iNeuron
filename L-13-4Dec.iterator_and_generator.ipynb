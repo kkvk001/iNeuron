{
  "cells": [
    {
      "cell_type": "markdown",
      "metadata": {
        "id": "view-in-github",
        "colab_type": "text"
      },
      "source": [
        "<a href=\"https://colab.research.google.com/github/kkvk001/iNeuron/blob/main/L-13-4Dec.iterator_and_generator.ipynb\" target=\"_parent\"><img src=\"https://colab.research.google.com/assets/colab-badge.svg\" alt=\"Open In Colab\"/></a>"
      ]
    },
    {
      "cell_type": "code",
      "execution_count": null,
      "id": "0dbdd1b5-dbaa-4cd9-877f-d59d63a1a834",
      "metadata": {
        "id": "0dbdd1b5-dbaa-4cd9-877f-d59d63a1a834"
      },
      "outputs": [],
      "source": [
        "mytuple=(\"ineuron\",\"imran\",\"code\")"
      ]
    },
    {
      "cell_type": "code",
      "execution_count": null,
      "id": "44360e60-235c-4c18-9bc1-a861885333ac",
      "metadata": {
        "id": "44360e60-235c-4c18-9bc1-a861885333ac",
        "outputId": "65848f5d-6b05-4358-a3ff-10f20f9f9fb9"
      },
      "outputs": [
        {
          "name": "stdout",
          "output_type": "stream",
          "text": [
            "ineuron\n",
            "imran\n",
            "code\n"
          ]
        }
      ],
      "source": [
        "for i in mytuple:\n",
        "    print(i)"
      ]
    },
    {
      "cell_type": "code",
      "execution_count": null,
      "id": "98ab139c-e906-46e2-8a90-092764d17398",
      "metadata": {
        "id": "98ab139c-e906-46e2-8a90-092764d17398",
        "outputId": "1c624215-1ed5-4496-9d3e-cd3a42df3a4f"
      },
      "outputs": [
        {
          "data": {
            "text/plain": [
              "tuple"
            ]
          },
          "execution_count": 3,
          "metadata": {},
          "output_type": "execute_result"
        }
      ],
      "source": [
        "type(mytuple)"
      ]
    },
    {
      "cell_type": "code",
      "execution_count": null,
      "id": "2551773b-a6e6-4e7b-ab3e-0edc39972032",
      "metadata": {
        "id": "2551773b-a6e6-4e7b-ab3e-0edc39972032",
        "outputId": "377c5091-19a2-4406-e808-d7b7e13d1a33"
      },
      "outputs": [
        {
          "data": {
            "text/plain": [
              "['__add__',\n",
              " '__class__',\n",
              " '__class_getitem__',\n",
              " '__contains__',\n",
              " '__delattr__',\n",
              " '__dir__',\n",
              " '__doc__',\n",
              " '__eq__',\n",
              " '__format__',\n",
              " '__ge__',\n",
              " '__getattribute__',\n",
              " '__getitem__',\n",
              " '__getnewargs__',\n",
              " '__gt__',\n",
              " '__hash__',\n",
              " '__init__',\n",
              " '__init_subclass__',\n",
              " '__iter__',\n",
              " '__le__',\n",
              " '__len__',\n",
              " '__lt__',\n",
              " '__mul__',\n",
              " '__ne__',\n",
              " '__new__',\n",
              " '__reduce__',\n",
              " '__reduce_ex__',\n",
              " '__repr__',\n",
              " '__rmul__',\n",
              " '__setattr__',\n",
              " '__sizeof__',\n",
              " '__str__',\n",
              " '__subclasshook__',\n",
              " 'count',\n",
              " 'index']"
            ]
          },
          "execution_count": 4,
          "metadata": {},
          "output_type": "execute_result"
        }
      ],
      "source": [
        "dir(mytuple)"
      ]
    },
    {
      "cell_type": "code",
      "execution_count": null,
      "id": "5ef50682-d2bf-4b11-a81a-ca9c3be4e676",
      "metadata": {
        "id": "5ef50682-d2bf-4b11-a81a-ca9c3be4e676",
        "outputId": "e411b0e3-3921-40f7-e592-c9169e8c4958"
      },
      "outputs": [
        {
          "name": "stdout",
          "output_type": "stream",
          "text": [
            "i\n",
            "n\n",
            "e\n",
            "u\n",
            "r\n",
            "o\n",
            "n\n"
          ]
        }
      ],
      "source": [
        "mystr=\"ineuron\"\n",
        "\n",
        "for i in mystr:\n",
        "    print(i)"
      ]
    },
    {
      "cell_type": "code",
      "execution_count": null,
      "id": "ee24d894-2163-41e5-8f69-471921fb288d",
      "metadata": {
        "id": "ee24d894-2163-41e5-8f69-471921fb288d",
        "outputId": "df565e5c-b646-403b-e03f-83bdc557b6f3"
      },
      "outputs": [
        {
          "data": {
            "text/plain": [
              "['__add__',\n",
              " '__class__',\n",
              " '__contains__',\n",
              " '__delattr__',\n",
              " '__dir__',\n",
              " '__doc__',\n",
              " '__eq__',\n",
              " '__format__',\n",
              " '__ge__',\n",
              " '__getattribute__',\n",
              " '__getitem__',\n",
              " '__getnewargs__',\n",
              " '__gt__',\n",
              " '__hash__',\n",
              " '__init__',\n",
              " '__init_subclass__',\n",
              " '__iter__',\n",
              " '__le__',\n",
              " '__len__',\n",
              " '__lt__',\n",
              " '__mod__',\n",
              " '__mul__',\n",
              " '__ne__',\n",
              " '__new__',\n",
              " '__reduce__',\n",
              " '__reduce_ex__',\n",
              " '__repr__',\n",
              " '__rmod__',\n",
              " '__rmul__',\n",
              " '__setattr__',\n",
              " '__sizeof__',\n",
              " '__str__',\n",
              " '__subclasshook__',\n",
              " 'capitalize',\n",
              " 'casefold',\n",
              " 'center',\n",
              " 'count',\n",
              " 'encode',\n",
              " 'endswith',\n",
              " 'expandtabs',\n",
              " 'find',\n",
              " 'format',\n",
              " 'format_map',\n",
              " 'index',\n",
              " 'isalnum',\n",
              " 'isalpha',\n",
              " 'isascii',\n",
              " 'isdecimal',\n",
              " 'isdigit',\n",
              " 'isidentifier',\n",
              " 'islower',\n",
              " 'isnumeric',\n",
              " 'isprintable',\n",
              " 'isspace',\n",
              " 'istitle',\n",
              " 'isupper',\n",
              " 'join',\n",
              " 'ljust',\n",
              " 'lower',\n",
              " 'lstrip',\n",
              " 'maketrans',\n",
              " 'partition',\n",
              " 'removeprefix',\n",
              " 'removesuffix',\n",
              " 'replace',\n",
              " 'rfind',\n",
              " 'rindex',\n",
              " 'rjust',\n",
              " 'rpartition',\n",
              " 'rsplit',\n",
              " 'rstrip',\n",
              " 'split',\n",
              " 'splitlines',\n",
              " 'startswith',\n",
              " 'strip',\n",
              " 'swapcase',\n",
              " 'title',\n",
              " 'translate',\n",
              " 'upper',\n",
              " 'zfill']"
            ]
          },
          "execution_count": 6,
          "metadata": {},
          "output_type": "execute_result"
        }
      ],
      "source": [
        "dir(mystr)"
      ]
    },
    {
      "cell_type": "code",
      "execution_count": null,
      "id": "ba2c1df7-5eff-4f01-8ba1-21b248717485",
      "metadata": {
        "id": "ba2c1df7-5eff-4f01-8ba1-21b248717485"
      },
      "outputs": [],
      "source": []
    },
    {
      "cell_type": "code",
      "execution_count": null,
      "id": "b96cf866-4b6e-4b47-8c80-0347243279be",
      "metadata": {
        "id": "b96cf866-4b6e-4b47-8c80-0347243279be",
        "outputId": "47f8a032-a68e-480f-9cbb-c8ec4f22d152"
      },
      "outputs": [
        {
          "name": "stdout",
          "output_type": "stream",
          "text": [
            "1\n",
            "2\n",
            "3\n",
            "4\n"
          ]
        }
      ],
      "source": [
        "mylist=[1,2,3,4]\n",
        "\n",
        "for i in mylist:\n",
        "    print(i)"
      ]
    },
    {
      "cell_type": "code",
      "execution_count": null,
      "id": "76a16934-0cbb-4143-a5ab-fd92b680f4f1",
      "metadata": {
        "id": "76a16934-0cbb-4143-a5ab-fd92b680f4f1"
      },
      "outputs": [],
      "source": [
        "d={'x':43,'y':3.14,'z':7}"
      ]
    },
    {
      "cell_type": "code",
      "execution_count": null,
      "id": "5c41c9f0-77d7-4423-8eba-76925d2b2836",
      "metadata": {
        "id": "5c41c9f0-77d7-4423-8eba-76925d2b2836",
        "outputId": "496535a0-e12b-42c6-e5cd-7bf5be6a9904"
      },
      "outputs": [
        {
          "name": "stdout",
          "output_type": "stream",
          "text": [
            "x 43\n",
            "y 3.14\n",
            "z 7\n"
          ]
        }
      ],
      "source": [
        "for k,v in d.items():\n",
        "    print(k,v)"
      ]
    },
    {
      "cell_type": "code",
      "execution_count": null,
      "id": "f49b8dba-05a5-49d2-af14-6910da5b38ac",
      "metadata": {
        "id": "f49b8dba-05a5-49d2-af14-6910da5b38ac"
      },
      "outputs": [],
      "source": [
        "x=42"
      ]
    },
    {
      "cell_type": "code",
      "execution_count": null,
      "id": "cae89490-70bb-4627-97e8-95c96bd48847",
      "metadata": {
        "id": "cae89490-70bb-4627-97e8-95c96bd48847",
        "outputId": "00d1025f-df49-4ef2-ce0b-52817f2509a6"
      },
      "outputs": [
        {
          "data": {
            "text/plain": [
              "['__abs__',\n",
              " '__add__',\n",
              " '__and__',\n",
              " '__bool__',\n",
              " '__ceil__',\n",
              " '__class__',\n",
              " '__delattr__',\n",
              " '__dir__',\n",
              " '__divmod__',\n",
              " '__doc__',\n",
              " '__eq__',\n",
              " '__float__',\n",
              " '__floor__',\n",
              " '__floordiv__',\n",
              " '__format__',\n",
              " '__ge__',\n",
              " '__getattribute__',\n",
              " '__getnewargs__',\n",
              " '__gt__',\n",
              " '__hash__',\n",
              " '__index__',\n",
              " '__init__',\n",
              " '__init_subclass__',\n",
              " '__int__',\n",
              " '__invert__',\n",
              " '__le__',\n",
              " '__lshift__',\n",
              " '__lt__',\n",
              " '__mod__',\n",
              " '__mul__',\n",
              " '__ne__',\n",
              " '__neg__',\n",
              " '__new__',\n",
              " '__or__',\n",
              " '__pos__',\n",
              " '__pow__',\n",
              " '__radd__',\n",
              " '__rand__',\n",
              " '__rdivmod__',\n",
              " '__reduce__',\n",
              " '__reduce_ex__',\n",
              " '__repr__',\n",
              " '__rfloordiv__',\n",
              " '__rlshift__',\n",
              " '__rmod__',\n",
              " '__rmul__',\n",
              " '__ror__',\n",
              " '__round__',\n",
              " '__rpow__',\n",
              " '__rrshift__',\n",
              " '__rshift__',\n",
              " '__rsub__',\n",
              " '__rtruediv__',\n",
              " '__rxor__',\n",
              " '__setattr__',\n",
              " '__sizeof__',\n",
              " '__str__',\n",
              " '__sub__',\n",
              " '__subclasshook__',\n",
              " '__truediv__',\n",
              " '__trunc__',\n",
              " '__xor__',\n",
              " 'as_integer_ratio',\n",
              " 'bit_count',\n",
              " 'bit_length',\n",
              " 'conjugate',\n",
              " 'denominator',\n",
              " 'from_bytes',\n",
              " 'imag',\n",
              " 'numerator',\n",
              " 'real',\n",
              " 'to_bytes']"
            ]
          },
          "execution_count": 12,
          "metadata": {},
          "output_type": "execute_result"
        }
      ],
      "source": [
        "dir(x)"
      ]
    },
    {
      "cell_type": "code",
      "execution_count": null,
      "id": "edc88739-6c93-488e-a3ed-4332e20234bc",
      "metadata": {
        "id": "edc88739-6c93-488e-a3ed-4332e20234bc"
      },
      "outputs": [],
      "source": []
    },
    {
      "cell_type": "code",
      "execution_count": null,
      "id": "7abfd5dd-e3e7-4897-930a-910be9fdd7e2",
      "metadata": {
        "id": "7abfd5dd-e3e7-4897-930a-910be9fdd7e2",
        "outputId": "34281057-68ee-4d0c-9c40-341dfbac9d69"
      },
      "outputs": [
        {
          "ename": "TypeError",
          "evalue": "'int' object is not iterable",
          "output_type": "error",
          "traceback": [
            "\u001b[0;31m---------------------------------------------------------------------------\u001b[0m",
            "\u001b[0;31mTypeError\u001b[0m                                 Traceback (most recent call last)",
            "Cell \u001b[0;32mIn [11], line 1\u001b[0m\n\u001b[0;32m----> 1\u001b[0m \u001b[38;5;28;01mfor\u001b[39;00m i \u001b[38;5;129;01min\u001b[39;00m x:\n\u001b[1;32m      2\u001b[0m     \u001b[38;5;28mprint\u001b[39m(i)\n",
            "\u001b[0;31mTypeError\u001b[0m: 'int' object is not iterable"
          ]
        }
      ],
      "source": [
        "for i in x:\n",
        "    print(i)"
      ]
    },
    {
      "cell_type": "code",
      "execution_count": null,
      "id": "8aaa9ec5-f714-40c3-933b-3969ba864ca8",
      "metadata": {
        "id": "8aaa9ec5-f714-40c3-933b-3969ba864ca8"
      },
      "outputs": [],
      "source": [
        "\n",
        "data=[\"ineuron\",\"code\",\"india\"]"
      ]
    },
    {
      "cell_type": "code",
      "execution_count": null,
      "id": "28cc5d2a-ad9e-4e07-9df5-621cba5d2177",
      "metadata": {
        "id": "28cc5d2a-ad9e-4e07-9df5-621cba5d2177",
        "outputId": "b05c944d-faa7-4589-e40a-c2d053eb7740"
      },
      "outputs": [
        {
          "ename": "TypeError",
          "evalue": "'list' object is not an iterator",
          "output_type": "error",
          "traceback": [
            "\u001b[0;31m---------------------------------------------------------------------------\u001b[0m",
            "\u001b[0;31mTypeError\u001b[0m                                 Traceback (most recent call last)",
            "Cell \u001b[0;32mIn [118], line 1\u001b[0m\n\u001b[0;32m----> 1\u001b[0m \u001b[38;5;28;43mnext\u001b[39;49m\u001b[43m(\u001b[49m\u001b[43mdata\u001b[49m\u001b[43m)\u001b[49m\n",
            "\u001b[0;31mTypeError\u001b[0m: 'list' object is not an iterator"
          ]
        }
      ],
      "source": [
        "next(data)"
      ]
    },
    {
      "cell_type": "code",
      "execution_count": null,
      "id": "974b5095-0e50-40db-ae60-0f93559a080f",
      "metadata": {
        "id": "974b5095-0e50-40db-ae60-0f93559a080f"
      },
      "outputs": [],
      "source": [
        "x=iter(data)"
      ]
    },
    {
      "cell_type": "code",
      "execution_count": null,
      "id": "70f0fbbb-2550-4068-8a7c-e41d453c2aa7",
      "metadata": {
        "id": "70f0fbbb-2550-4068-8a7c-e41d453c2aa7",
        "outputId": "9e3566a0-8ef4-4983-fa2c-afa2019666df"
      },
      "outputs": [
        {
          "data": {
            "text/plain": [
              "list_iterator"
            ]
          },
          "execution_count": 17,
          "metadata": {},
          "output_type": "execute_result"
        }
      ],
      "source": [
        "type(x)"
      ]
    },
    {
      "cell_type": "code",
      "execution_count": null,
      "id": "ea6fecd1-4b67-437b-96f8-a797d1f6302c",
      "metadata": {
        "id": "ea6fecd1-4b67-437b-96f8-a797d1f6302c",
        "outputId": "30729ed8-7ccb-4ddd-9f19-5aa3f7665bb0"
      },
      "outputs": [
        {
          "ename": "StopIteration",
          "evalue": "",
          "output_type": "error",
          "traceback": [
            "\u001b[0;31m---------------------------------------------------------------------------\u001b[0m",
            "\u001b[0;31mStopIteration\u001b[0m                             Traceback (most recent call last)",
            "Cell \u001b[0;32mIn [35], line 1\u001b[0m\n\u001b[0;32m----> 1\u001b[0m \u001b[38;5;28;43mnext\u001b[39;49m\u001b[43m(\u001b[49m\u001b[43mx\u001b[49m\u001b[43m)\u001b[49m\n",
            "\u001b[0;31mStopIteration\u001b[0m: "
          ]
        }
      ],
      "source": [
        "next(x)"
      ]
    },
    {
      "cell_type": "code",
      "execution_count": null,
      "id": "1718cc0d-9762-46da-b45c-0bf8050e9916",
      "metadata": {
        "id": "1718cc0d-9762-46da-b45c-0bf8050e9916"
      },
      "outputs": [],
      "source": [
        "m=\"ineuron\""
      ]
    },
    {
      "cell_type": "code",
      "execution_count": null,
      "id": "4dad92c8-3044-4dc4-a8e0-bc7da65f9c77",
      "metadata": {
        "id": "4dad92c8-3044-4dc4-a8e0-bc7da65f9c77",
        "outputId": "827b4039-3f55-4e36-da84-0e12aac121ea"
      },
      "outputs": [
        {
          "ename": "TypeError",
          "evalue": "'str' object is not an iterator",
          "output_type": "error",
          "traceback": [
            "\u001b[0;31m---------------------------------------------------------------------------\u001b[0m",
            "\u001b[0;31mTypeError\u001b[0m                                 Traceback (most recent call last)",
            "Cell \u001b[0;32mIn [37], line 1\u001b[0m\n\u001b[0;32m----> 1\u001b[0m \u001b[38;5;28;43mnext\u001b[39;49m\u001b[43m(\u001b[49m\u001b[43mm\u001b[49m\u001b[43m)\u001b[49m\n",
            "\u001b[0;31mTypeError\u001b[0m: 'str' object is not an iterator"
          ]
        }
      ],
      "source": [
        "next(m)"
      ]
    },
    {
      "cell_type": "code",
      "execution_count": null,
      "id": "97ea3906-7c0d-4c1a-950b-aad0dee72cf7",
      "metadata": {
        "id": "97ea3906-7c0d-4c1a-950b-aad0dee72cf7"
      },
      "outputs": [],
      "source": [
        "c=iter(m)"
      ]
    },
    {
      "cell_type": "code",
      "execution_count": null,
      "id": "e3592e5d-c1c5-439f-9aa3-30950becf62c",
      "metadata": {
        "id": "e3592e5d-c1c5-439f-9aa3-30950becf62c",
        "outputId": "e1502b17-544c-4e7b-c565-208c2a86dda6"
      },
      "outputs": [
        {
          "data": {
            "text/plain": [
              "['__class__',\n",
              " '__delattr__',\n",
              " '__dir__',\n",
              " '__doc__',\n",
              " '__eq__',\n",
              " '__format__',\n",
              " '__ge__',\n",
              " '__getattribute__',\n",
              " '__gt__',\n",
              " '__hash__',\n",
              " '__init__',\n",
              " '__init_subclass__',\n",
              " '__iter__',\n",
              " '__le__',\n",
              " '__length_hint__',\n",
              " '__lt__',\n",
              " '__ne__',\n",
              " '__new__',\n",
              " '__next__',\n",
              " '__reduce__',\n",
              " '__reduce_ex__',\n",
              " '__repr__',\n",
              " '__setattr__',\n",
              " '__setstate__',\n",
              " '__sizeof__',\n",
              " '__str__',\n",
              " '__subclasshook__']"
            ]
          },
          "execution_count": 49,
          "metadata": {},
          "output_type": "execute_result"
        }
      ],
      "source": [
        "dir(c)"
      ]
    },
    {
      "cell_type": "code",
      "execution_count": null,
      "id": "0f69570b-2a67-46a6-8d70-274ef3416f8f",
      "metadata": {
        "id": "0f69570b-2a67-46a6-8d70-274ef3416f8f",
        "outputId": "bd85bad2-aacc-49d6-c72f-1943ec5bbd7a"
      },
      "outputs": [
        {
          "ename": "StopIteration",
          "evalue": "",
          "output_type": "error",
          "traceback": [
            "\u001b[0;31m---------------------------------------------------------------------------\u001b[0m",
            "\u001b[0;31mStopIteration\u001b[0m                             Traceback (most recent call last)",
            "Cell \u001b[0;32mIn [46], line 1\u001b[0m\n\u001b[0;32m----> 1\u001b[0m \u001b[38;5;28;43mnext\u001b[39;49m\u001b[43m(\u001b[49m\u001b[43mc\u001b[49m\u001b[43m)\u001b[49m\n",
            "\u001b[0;31mStopIteration\u001b[0m: "
          ]
        }
      ],
      "source": [
        "next(c)"
      ]
    },
    {
      "cell_type": "code",
      "execution_count": null,
      "id": "5f81b1b8-63e5-4a4a-aa52-e3cf9580680e",
      "metadata": {
        "id": "5f81b1b8-63e5-4a4a-aa52-e3cf9580680e"
      },
      "outputs": [],
      "source": [
        "# itertables are not iterators\n",
        "#inerator are also interables\n",
        "# calling iter() function on iterable gives an iterator\n",
        "#calling next() function on iterator gives next elements"
      ]
    },
    {
      "cell_type": "code",
      "execution_count": null,
      "id": "8d83af1b-9e3d-445a-9c84-a5b841adb154",
      "metadata": {
        "id": "8d83af1b-9e3d-445a-9c84-a5b841adb154"
      },
      "outputs": [],
      "source": [
        "l=[1,2,3,4]"
      ]
    },
    {
      "cell_type": "code",
      "execution_count": null,
      "id": "e10810b4-c801-49c0-b545-566c1a52b4f3",
      "metadata": {
        "id": "e10810b4-c801-49c0-b545-566c1a52b4f3",
        "outputId": "b3df576e-4a65-4abe-e76e-05e05af36c2e"
      },
      "outputs": [
        {
          "ename": "TypeError",
          "evalue": "'list' object is not an iterator",
          "output_type": "error",
          "traceback": [
            "\u001b[0;31m---------------------------------------------------------------------------\u001b[0m",
            "\u001b[0;31mTypeError\u001b[0m                                 Traceback (most recent call last)",
            "Cell \u001b[0;32mIn [51], line 1\u001b[0m\n\u001b[0;32m----> 1\u001b[0m \u001b[38;5;28;43mnext\u001b[39;49m\u001b[43m(\u001b[49m\u001b[43ml\u001b[49m\u001b[43m)\u001b[49m\n",
            "\u001b[0;31mTypeError\u001b[0m: 'list' object is not an iterator"
          ]
        }
      ],
      "source": [
        "next(l)"
      ]
    },
    {
      "cell_type": "code",
      "execution_count": null,
      "id": "db756d79-6c67-4dac-9aca-cd51689b2f73",
      "metadata": {
        "id": "db756d79-6c67-4dac-9aca-cd51689b2f73"
      },
      "outputs": [],
      "source": [
        "k=iter(l)"
      ]
    },
    {
      "cell_type": "code",
      "execution_count": null,
      "id": "6742bf72-84e6-4bf1-aeb0-55d3f0a3e2bd",
      "metadata": {
        "id": "6742bf72-84e6-4bf1-aeb0-55d3f0a3e2bd",
        "outputId": "f9f7ff67-e184-4a21-9bf3-5f1ed1290d87"
      },
      "outputs": [
        {
          "name": "stdout",
          "output_type": "stream",
          "text": [
            "1\n",
            "2\n",
            "3\n",
            "4\n"
          ]
        }
      ],
      "source": [
        "for i in k:\n",
        "    print(i)"
      ]
    },
    {
      "cell_type": "code",
      "execution_count": null,
      "id": "d5eb96c0-c78c-46ab-bc94-666bda73c750",
      "metadata": {
        "id": "d5eb96c0-c78c-46ab-bc94-666bda73c750",
        "outputId": "e2ead78e-bff0-4112-de21-7c3d4ae11825"
      },
      "outputs": [
        {
          "data": {
            "text/plain": [
              "list_iterator"
            ]
          },
          "execution_count": 53,
          "metadata": {},
          "output_type": "execute_result"
        }
      ],
      "source": [
        "type(k)"
      ]
    },
    {
      "cell_type": "code",
      "execution_count": null,
      "id": "6e588e24-0cbc-4a59-9db9-86212f4372ca",
      "metadata": {
        "id": "6e588e24-0cbc-4a59-9db9-86212f4372ca",
        "outputId": "918e925b-dcfb-4e85-e495-1ce04542ca11"
      },
      "outputs": [
        {
          "ename": "StopIteration",
          "evalue": "",
          "output_type": "error",
          "traceback": [
            "\u001b[0;31m---------------------------------------------------------------------------\u001b[0m",
            "\u001b[0;31mStopIteration\u001b[0m                             Traceback (most recent call last)",
            "Cell \u001b[0;32mIn [58], line 1\u001b[0m\n\u001b[0;32m----> 1\u001b[0m \u001b[38;5;28;43mnext\u001b[39;49m\u001b[43m(\u001b[49m\u001b[43mk\u001b[49m\u001b[43m)\u001b[49m\n",
            "\u001b[0;31mStopIteration\u001b[0m: "
          ]
        }
      ],
      "source": [
        "next(k)"
      ]
    },
    {
      "cell_type": "code",
      "execution_count": null,
      "id": "adeb2563-fecc-481a-a7d2-ac3d9c588294",
      "metadata": {
        "id": "adeb2563-fecc-481a-a7d2-ac3d9c588294"
      },
      "outputs": [],
      "source": [
        "#genrerator is other way of creating iteraror"
      ]
    },
    {
      "cell_type": "code",
      "execution_count": null,
      "id": "6db112b5-476e-4cfd-8ba2-6b18bdf72b6e",
      "metadata": {
        "id": "6db112b5-476e-4cfd-8ba2-6b18bdf72b6e"
      },
      "outputs": [],
      "source": [
        "def square(n):\n",
        "    for i in range(n):\n",
        "        return i**2"
      ]
    },
    {
      "cell_type": "code",
      "execution_count": null,
      "id": "244b6ff1-bad1-4a21-ba37-d0f5d633436c",
      "metadata": {
        "id": "244b6ff1-bad1-4a21-ba37-d0f5d633436c",
        "outputId": "7b2c7099-6ce3-4221-b68d-fc079812d1cb"
      },
      "outputs": [
        {
          "data": {
            "text/plain": [
              "0"
            ]
          },
          "execution_count": 127,
          "metadata": {},
          "output_type": "execute_result"
        }
      ],
      "source": [
        "square(3)"
      ]
    },
    {
      "cell_type": "code",
      "execution_count": null,
      "id": "21de01f6-89e4-4d08-9789-b92781190246",
      "metadata": {
        "id": "21de01f6-89e4-4d08-9789-b92781190246"
      },
      "outputs": [],
      "source": [
        "\n",
        "def square(n):\n",
        "    for i in range(n):\n",
        "        yield i**2"
      ]
    },
    {
      "cell_type": "code",
      "execution_count": null,
      "id": "5dc05977-7f9d-4016-9687-d75be50804db",
      "metadata": {
        "id": "5dc05977-7f9d-4016-9687-d75be50804db"
      },
      "outputs": [],
      "source": [
        "k=square(3)"
      ]
    },
    {
      "cell_type": "code",
      "execution_count": null,
      "id": "be66b62e-5dc0-4f3a-a30b-8c2592b728a4",
      "metadata": {
        "id": "be66b62e-5dc0-4f3a-a30b-8c2592b728a4",
        "outputId": "5508b264-d501-4077-d756-f5bba81f0c22"
      },
      "outputs": [
        {
          "data": {
            "text/plain": [
              "generator"
            ]
          },
          "execution_count": 157,
          "metadata": {},
          "output_type": "execute_result"
        }
      ],
      "source": [
        "type(k)"
      ]
    },
    {
      "cell_type": "code",
      "execution_count": null,
      "id": "3e8aff5e-69e2-4ab1-bd16-0d2927e7a7bd",
      "metadata": {
        "id": "3e8aff5e-69e2-4ab1-bd16-0d2927e7a7bd",
        "outputId": "8386c22f-9134-4528-c6e3-8484bac19e7e"
      },
      "outputs": [
        {
          "data": {
            "text/plain": [
              "1"
            ]
          },
          "execution_count": 159,
          "metadata": {},
          "output_type": "execute_result"
        }
      ],
      "source": [
        "next(k)\n"
      ]
    },
    {
      "cell_type": "code",
      "execution_count": null,
      "id": "defc4461-71e7-4835-9ab8-e5dd8628ff85",
      "metadata": {
        "id": "defc4461-71e7-4835-9ab8-e5dd8628ff85"
      },
      "outputs": [],
      "source": [
        "for i in k:\n",
        "    print(i)"
      ]
    },
    {
      "cell_type": "code",
      "execution_count": null,
      "id": "46211cba-44a3-4637-bf31-1d8447ea6bb6",
      "metadata": {
        "id": "46211cba-44a3-4637-bf31-1d8447ea6bb6",
        "outputId": "d830721f-9430-411d-b123-2595bd8730f5"
      },
      "outputs": [
        {
          "name": "stdout",
          "output_type": "stream",
          "text": [
            "<generator object square at 0x7f72cdbb2810>\n"
          ]
        }
      ],
      "source": [
        "print(k)"
      ]
    },
    {
      "cell_type": "code",
      "execution_count": null,
      "id": "adcd6d5f-948c-4f42-8e5e-21f7223da201",
      "metadata": {
        "id": "adcd6d5f-948c-4f42-8e5e-21f7223da201",
        "outputId": "47c72015-c973-46b6-ec24-b478ce79e984"
      },
      "outputs": [
        {
          "name": "stdout",
          "output_type": "stream",
          "text": [
            "0\n",
            "1\n",
            "4\n"
          ]
        }
      ],
      "source": [
        "for i in k:\n",
        "    print(i)"
      ]
    },
    {
      "cell_type": "code",
      "execution_count": null,
      "id": "6a84e723-9b30-4584-a870-3caf67266978",
      "metadata": {
        "id": "6a84e723-9b30-4584-a870-3caf67266978"
      },
      "outputs": [],
      "source": [
        "def new():\n",
        "    n=1\n",
        "    print(\"line one\")\n",
        "    yield n\n",
        "    \n",
        "    n=n+1\n",
        "    print(\"second line\")\n",
        "    yield n\n",
        "    \n",
        "    n=n+1\n",
        "    print(\"third\")\n",
        "    yield n"
      ]
    },
    {
      "cell_type": "code",
      "execution_count": null,
      "id": "a49a6eb5-6746-492b-835a-62447fcfe489",
      "metadata": {
        "id": "a49a6eb5-6746-492b-835a-62447fcfe489"
      },
      "outputs": [],
      "source": [
        "k=new()"
      ]
    },
    {
      "cell_type": "code",
      "execution_count": null,
      "id": "9778a05c-4302-40b5-a61a-395764360e3e",
      "metadata": {
        "id": "9778a05c-4302-40b5-a61a-395764360e3e",
        "outputId": "6cf82f24-351c-46ef-ae99-714afa441a87"
      },
      "outputs": [
        {
          "data": {
            "text/plain": [
              "generator"
            ]
          },
          "execution_count": 165,
          "metadata": {},
          "output_type": "execute_result"
        }
      ],
      "source": [
        "type(k)"
      ]
    },
    {
      "cell_type": "code",
      "execution_count": null,
      "id": "f1a31367-3f38-44b1-ae23-57026e253f86",
      "metadata": {
        "id": "f1a31367-3f38-44b1-ae23-57026e253f86",
        "outputId": "2fe010e5-cc21-4b39-c084-24e0770f7c99"
      },
      "outputs": [
        {
          "name": "stdout",
          "output_type": "stream",
          "text": [
            "line one\n",
            "1\n",
            "second line\n",
            "2\n",
            "third\n",
            "3\n"
          ]
        }
      ],
      "source": [
        "for i in new():\n",
        "    print(i)"
      ]
    },
    {
      "cell_type": "code",
      "execution_count": null,
      "id": "abb54e70-c4ae-4fc9-bbaf-08686db47b12",
      "metadata": {
        "id": "abb54e70-c4ae-4fc9-bbaf-08686db47b12"
      },
      "outputs": [],
      "source": [
        "nums=[1,2,3]"
      ]
    },
    {
      "cell_type": "code",
      "execution_count": null,
      "id": "ec9e564a-81e7-4679-b549-8da92f34647f",
      "metadata": {
        "id": "ec9e564a-81e7-4679-b549-8da92f34647f"
      },
      "outputs": [],
      "source": [
        "i_nums=iter(nums)"
      ]
    },
    {
      "cell_type": "code",
      "execution_count": null,
      "id": "ced7264d-b814-45e8-b8e5-9b50010f9299",
      "metadata": {
        "id": "ced7264d-b814-45e8-b8e5-9b50010f9299",
        "outputId": "c50d0b6a-9658-4e8f-b251-55947ece8ffc"
      },
      "outputs": [
        {
          "name": "stdout",
          "output_type": "stream",
          "text": [
            "1\n",
            "2\n",
            "3\n"
          ]
        }
      ],
      "source": [
        "for i in i_nums:\n",
        "    print(i)"
      ]
    },
    {
      "cell_type": "code",
      "execution_count": null,
      "id": "fd9ea624-560f-44c1-9e8a-249b099e6f92",
      "metadata": {
        "id": "fd9ea624-560f-44c1-9e8a-249b099e6f92",
        "outputId": "bacc3e7d-e118-4129-e591-913e990c5149"
      },
      "outputs": [
        {
          "name": "stdout",
          "output_type": "stream",
          "text": [
            "1\n",
            "2\n",
            "3\n"
          ]
        }
      ],
      "source": [
        "while True:\n",
        "    try:\n",
        "        item=next(i_nums)\n",
        "        print(item)\n",
        "    except StopIteration:\n",
        "        break"
      ]
    }
  ],
  "metadata": {
    "kernelspec": {
      "display_name": "Python 3 (ipykernel)",
      "language": "python",
      "name": "python3"
    },
    "language_info": {
      "codemirror_mode": {
        "name": "ipython",
        "version": 3
      },
      "file_extension": ".py",
      "mimetype": "text/x-python",
      "name": "python",
      "nbconvert_exporter": "python",
      "pygments_lexer": "ipython3",
      "version": "3.10.6"
    },
    "colab": {
      "provenance": [],
      "include_colab_link": true
    }
  },
  "nbformat": 4,
  "nbformat_minor": 5
}