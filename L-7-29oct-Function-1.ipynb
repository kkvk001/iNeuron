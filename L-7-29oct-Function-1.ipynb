{
  "cells": [
    {
      "cell_type": "markdown",
      "metadata": {
        "id": "view-in-github",
        "colab_type": "text"
      },
      "source": [
        "<a href=\"https://colab.research.google.com/github/kkvk001/iNeuron/blob/main/L-7-29oct-Function-1.ipynb\" target=\"_parent\"><img src=\"https://colab.research.google.com/assets/colab-badge.svg\" alt=\"Open In Colab\"/></a>"
      ]
    },
    {
      "cell_type": "code",
      "execution_count": null,
      "id": "31c5d9fd",
      "metadata": {
        "id": "31c5d9fd"
      },
      "outputs": [],
      "source": [
        "a = \"sudh\""
      ]
    },
    {
      "cell_type": "code",
      "execution_count": null,
      "id": "be97c383",
      "metadata": {
        "id": "be97c383",
        "outputId": "6542e031-3acb-48f8-bae7-e0279002b789"
      },
      "outputs": [
        {
          "data": {
            "text/plain": [
              "4"
            ]
          },
          "execution_count": 2,
          "metadata": {},
          "output_type": "execute_result"
        }
      ],
      "source": [
        "len(a)"
      ]
    },
    {
      "cell_type": "code",
      "execution_count": null,
      "id": "62b85d6b",
      "metadata": {
        "id": "62b85d6b"
      },
      "outputs": [],
      "source": [
        "l = [2,3,4,5,\"sudh\", 4.67]"
      ]
    },
    {
      "cell_type": "code",
      "execution_count": null,
      "id": "bf645f01",
      "metadata": {
        "id": "bf645f01",
        "outputId": "01f13c40-1ee1-4b39-9fbd-84ea7a7137e7"
      },
      "outputs": [
        {
          "data": {
            "text/plain": [
              "6"
            ]
          },
          "execution_count": 4,
          "metadata": {},
          "output_type": "execute_result"
        }
      ],
      "source": [
        "len(l)"
      ]
    },
    {
      "cell_type": "code",
      "execution_count": null,
      "id": "508bd714",
      "metadata": {
        "id": "508bd714"
      },
      "outputs": [],
      "source": [
        "def test():\n",
        "    pass\n",
        "    "
      ]
    },
    {
      "cell_type": "code",
      "execution_count": null,
      "id": "ab0d3016",
      "metadata": {
        "id": "ab0d3016"
      },
      "outputs": [],
      "source": [
        "def test1():\n",
        "    print(\"this is my very first function in python\")"
      ]
    },
    {
      "cell_type": "code",
      "execution_count": null,
      "id": "4ae84bd4",
      "metadata": {
        "id": "4ae84bd4",
        "outputId": "8ab08a29-8f86-4c33-d686-58b3564d9a8e"
      },
      "outputs": [
        {
          "name": "stdout",
          "output_type": "stream",
          "text": [
            "this is my very first function in python\n"
          ]
        }
      ],
      "source": [
        "test1()"
      ]
    },
    {
      "cell_type": "code",
      "execution_count": null,
      "id": "23707729",
      "metadata": {
        "id": "23707729"
      },
      "outputs": [],
      "source": [
        "a = 1 "
      ]
    },
    {
      "cell_type": "code",
      "execution_count": null,
      "id": "637de580",
      "metadata": {
        "id": "637de580",
        "outputId": "3f81ee1b-c8d2-4810-ed66-e138d8983b13"
      },
      "outputs": [
        {
          "name": "stdout",
          "output_type": "stream",
          "text": [
            "this is my very first function in python\n"
          ]
        }
      ],
      "source": [
        "b = test1()"
      ]
    },
    {
      "cell_type": "code",
      "execution_count": null,
      "id": "39601c05",
      "metadata": {
        "id": "39601c05",
        "outputId": "71463ffa-6490-4f95-964b-57ae1cc9ffad"
      },
      "outputs": [
        {
          "data": {
            "text/plain": [
              "NoneType"
            ]
          },
          "execution_count": 20,
          "metadata": {},
          "output_type": "execute_result"
        }
      ],
      "source": [
        "type(b)"
      ]
    },
    {
      "cell_type": "code",
      "execution_count": null,
      "id": "76088d8b",
      "metadata": {
        "id": "76088d8b"
      },
      "outputs": [],
      "source": [
        "b"
      ]
    },
    {
      "cell_type": "code",
      "execution_count": null,
      "id": "443015ef",
      "metadata": {
        "id": "443015ef",
        "outputId": "6f2690fc-b34c-4346-d198-e7cb5cd9a028"
      },
      "outputs": [
        {
          "name": "stdout",
          "output_type": "stream",
          "text": [
            "None\n"
          ]
        }
      ],
      "source": [
        "print(b)"
      ]
    },
    {
      "cell_type": "code",
      "execution_count": null,
      "id": "8d195973",
      "metadata": {
        "id": "8d195973"
      },
      "outputs": [],
      "source": [
        "c = \"kumar\""
      ]
    },
    {
      "cell_type": "code",
      "execution_count": null,
      "id": "4c144171",
      "metadata": {
        "id": "4c144171",
        "outputId": "0beee254-bed9-47bb-a5c4-4249609be39a"
      },
      "outputs": [
        {
          "data": {
            "text/plain": [
              "str"
            ]
          },
          "execution_count": 19,
          "metadata": {},
          "output_type": "execute_result"
        }
      ],
      "source": [
        "type(c)"
      ]
    },
    {
      "cell_type": "code",
      "execution_count": null,
      "id": "9ce3a101",
      "metadata": {
        "id": "9ce3a101",
        "outputId": "5e25ae29-46bc-4f02-a3cd-3c04579f9a3e"
      },
      "outputs": [
        {
          "name": "stdout",
          "output_type": "stream",
          "text": [
            "this is my very first function in python\n"
          ]
        },
        {
          "data": {
            "text/plain": [
              "NoneType"
            ]
          },
          "execution_count": 21,
          "metadata": {},
          "output_type": "execute_result"
        }
      ],
      "source": [
        "type(test1())"
      ]
    },
    {
      "cell_type": "code",
      "execution_count": null,
      "id": "66e77dab",
      "metadata": {
        "id": "66e77dab"
      },
      "outputs": [],
      "source": [
        "def test2():\n",
        "    return 5"
      ]
    },
    {
      "cell_type": "code",
      "execution_count": null,
      "id": "45936ccb",
      "metadata": {
        "id": "45936ccb",
        "outputId": "b1892d4d-5abb-4d89-faea-ba04470b4a39"
      },
      "outputs": [
        {
          "data": {
            "text/plain": [
              "5"
            ]
          },
          "execution_count": 23,
          "metadata": {},
          "output_type": "execute_result"
        }
      ],
      "source": [
        "test2()"
      ]
    },
    {
      "cell_type": "code",
      "execution_count": null,
      "id": "bcc63cba",
      "metadata": {
        "id": "bcc63cba"
      },
      "outputs": [],
      "source": [
        "d = test2()"
      ]
    },
    {
      "cell_type": "code",
      "execution_count": null,
      "id": "401fcb5c",
      "metadata": {
        "id": "401fcb5c",
        "outputId": "b70ca637-d4a6-4d35-cf6a-2b49deeef146"
      },
      "outputs": [
        {
          "data": {
            "text/plain": [
              "5"
            ]
          },
          "execution_count": 25,
          "metadata": {},
          "output_type": "execute_result"
        }
      ],
      "source": [
        "d"
      ]
    },
    {
      "cell_type": "code",
      "execution_count": null,
      "id": "6ab1c554",
      "metadata": {
        "id": "6ab1c554",
        "outputId": "648c3257-a73d-4365-8ddf-2b0a0804454a"
      },
      "outputs": [
        {
          "name": "stdout",
          "output_type": "stream",
          "text": [
            "this \n"
          ]
        },
        {
          "data": {
            "text/plain": [
              "NoneType"
            ]
          },
          "execution_count": 26,
          "metadata": {},
          "output_type": "execute_result"
        }
      ],
      "source": [
        "type(print(\"this \"))"
      ]
    },
    {
      "cell_type": "code",
      "execution_count": null,
      "id": "44f68f6f",
      "metadata": {
        "id": "44f68f6f"
      },
      "outputs": [],
      "source": [
        "def test3():\n",
        "    return 5 "
      ]
    },
    {
      "cell_type": "code",
      "execution_count": null,
      "id": "e7db8a52",
      "metadata": {
        "id": "e7db8a52"
      },
      "outputs": [],
      "source": [
        "def test4():\n",
        "    print(\"this is my print return \")"
      ]
    },
    {
      "cell_type": "code",
      "execution_count": null,
      "id": "a0a42885",
      "metadata": {
        "id": "a0a42885",
        "outputId": "8a557e3c-6f2d-4e39-9c2b-7cf01e0119cd"
      },
      "outputs": [
        {
          "data": {
            "text/plain": [
              "5"
            ]
          },
          "execution_count": 29,
          "metadata": {},
          "output_type": "execute_result"
        }
      ],
      "source": [
        "test3()"
      ]
    },
    {
      "cell_type": "code",
      "execution_count": null,
      "id": "20a078b0",
      "metadata": {
        "id": "20a078b0",
        "outputId": "b6d0212c-9591-4fd2-d0fc-324c1dea6c83"
      },
      "outputs": [
        {
          "name": "stdout",
          "output_type": "stream",
          "text": [
            "this is my print return \n"
          ]
        }
      ],
      "source": [
        "e = test4()"
      ]
    },
    {
      "cell_type": "code",
      "execution_count": null,
      "id": "d0ae0497",
      "metadata": {
        "id": "d0ae0497",
        "outputId": "9146db16-e571-4ceb-c1d5-8a969e1c5069"
      },
      "outputs": [
        {
          "ename": "TypeError",
          "evalue": "unsupported operand type(s) for +: 'NoneType' and 'str'",
          "output_type": "error",
          "traceback": [
            "\u001b[1;31m---------------------------------------------------------------------------\u001b[0m",
            "\u001b[1;31mTypeError\u001b[0m                                 Traceback (most recent call last)",
            "Input \u001b[1;32mIn [33]\u001b[0m, in \u001b[0;36m<cell line: 1>\u001b[1;34m()\u001b[0m\n\u001b[1;32m----> 1\u001b[0m \u001b[43me\u001b[49m\u001b[43m \u001b[49m\u001b[38;5;241;43m+\u001b[39;49m\u001b[43m \u001b[49m\u001b[38;5;124;43m\"\u001b[39;49m\u001b[38;5;124;43msudh\u001b[39;49m\u001b[38;5;124;43m\"\u001b[39;49m\n",
            "\u001b[1;31mTypeError\u001b[0m: unsupported operand type(s) for +: 'NoneType' and 'str'"
          ]
        }
      ],
      "source": [
        "e + \"sudh\""
      ]
    },
    {
      "cell_type": "code",
      "execution_count": null,
      "id": "908df14a",
      "metadata": {
        "id": "908df14a"
      },
      "outputs": [],
      "source": [
        "def test3():\n",
        "    return \"sudh\" "
      ]
    },
    {
      "cell_type": "code",
      "execution_count": null,
      "id": "380294e0",
      "metadata": {
        "id": "380294e0",
        "outputId": "0c7ee664-d1eb-4853-a526-4318182597d4"
      },
      "outputs": [
        {
          "data": {
            "text/plain": [
              "'sudhkumar'"
            ]
          },
          "execution_count": 35,
          "metadata": {},
          "output_type": "execute_result"
        }
      ],
      "source": [
        "test3() + \"kumar\""
      ]
    },
    {
      "cell_type": "code",
      "execution_count": null,
      "id": "6a2a73f5",
      "metadata": {
        "id": "6a2a73f5",
        "outputId": "e86bfaa8-8d2d-4d87-8b21-ae48f80d1968"
      },
      "outputs": [
        {
          "name": "stdout",
          "output_type": "stream",
          "text": [
            "this is my print return \n"
          ]
        },
        {
          "ename": "TypeError",
          "evalue": "unsupported operand type(s) for +: 'NoneType' and 'str'",
          "output_type": "error",
          "traceback": [
            "\u001b[1;31m---------------------------------------------------------------------------\u001b[0m",
            "\u001b[1;31mTypeError\u001b[0m                                 Traceback (most recent call last)",
            "Input \u001b[1;32mIn [36]\u001b[0m, in \u001b[0;36m<cell line: 1>\u001b[1;34m()\u001b[0m\n\u001b[1;32m----> 1\u001b[0m \u001b[43mtest4\u001b[49m\u001b[43m(\u001b[49m\u001b[43m)\u001b[49m\u001b[43m \u001b[49m\u001b[38;5;241;43m+\u001b[39;49m\u001b[43m \u001b[49m\u001b[38;5;124;43m\"\u001b[39;49m\u001b[38;5;124;43mkumar\u001b[39;49m\u001b[38;5;124;43m\"\u001b[39;49m\n",
            "\u001b[1;31mTypeError\u001b[0m: unsupported operand type(s) for +: 'NoneType' and 'str'"
          ]
        }
      ],
      "source": [
        "test4() + \"kumar\""
      ]
    },
    {
      "cell_type": "code",
      "execution_count": null,
      "id": "c545b465",
      "metadata": {
        "id": "c545b465"
      },
      "outputs": [],
      "source": [
        "def test5():\n",
        "    print(\"this is my python code \")"
      ]
    },
    {
      "cell_type": "code",
      "execution_count": null,
      "id": "c62c9ff7",
      "metadata": {
        "id": "c62c9ff7"
      },
      "outputs": [],
      "source": [
        "def test6():\n",
        "    return 1,3 , [3,4,5,\"sudh\"],(3,4,5,6)"
      ]
    },
    {
      "cell_type": "code",
      "execution_count": null,
      "id": "e589b026",
      "metadata": {
        "id": "e589b026",
        "outputId": "4c56d5af-ed88-4d15-f63b-67925a1eafe7"
      },
      "outputs": [
        {
          "data": {
            "text/plain": [
              "(1, 3, [3, 4, 5, 'sudh'], (3, 4, 5, 6))"
            ]
          },
          "execution_count": 40,
          "metadata": {},
          "output_type": "execute_result"
        }
      ],
      "source": [
        "test6()"
      ]
    },
    {
      "cell_type": "code",
      "execution_count": null,
      "id": "263c599c",
      "metadata": {
        "id": "263c599c",
        "outputId": "27446bdc-c3c6-4598-9834-c5629f6c2091"
      },
      "outputs": [
        {
          "data": {
            "text/plain": [
              "tuple"
            ]
          },
          "execution_count": 41,
          "metadata": {},
          "output_type": "execute_result"
        }
      ],
      "source": [
        "type(test6())"
      ]
    },
    {
      "cell_type": "code",
      "execution_count": null,
      "id": "5b26bf59",
      "metadata": {
        "id": "5b26bf59",
        "outputId": "9cb3e485-572f-4333-f1b6-367cab7280e7"
      },
      "outputs": [
        {
          "data": {
            "text/plain": [
              "3"
            ]
          },
          "execution_count": 42,
          "metadata": {},
          "output_type": "execute_result"
        }
      ],
      "source": [
        "test6()[1]"
      ]
    },
    {
      "cell_type": "code",
      "execution_count": null,
      "id": "86129f3b",
      "metadata": {
        "id": "86129f3b",
        "outputId": "992fbb47-bbb5-4d15-c3ab-6ae6b1412f44"
      },
      "outputs": [
        {
          "data": {
            "text/plain": [
              "[3, 4, 5, 'sudh']"
            ]
          },
          "execution_count": 43,
          "metadata": {},
          "output_type": "execute_result"
        }
      ],
      "source": [
        "test6()[2]"
      ]
    },
    {
      "cell_type": "code",
      "execution_count": null,
      "id": "a9278a2a",
      "metadata": {
        "id": "a9278a2a"
      },
      "outputs": [],
      "source": [
        "def test7():\n",
        "    return 1,3 , [3,4,5,\"sudh\"],(3,4,5,6)"
      ]
    },
    {
      "cell_type": "code",
      "execution_count": null,
      "id": "26236d3c",
      "metadata": {
        "id": "26236d3c"
      },
      "outputs": [],
      "source": [
        "a,b,c,d = test7()"
      ]
    },
    {
      "cell_type": "code",
      "execution_count": null,
      "id": "5ed25e03",
      "metadata": {
        "id": "5ed25e03",
        "outputId": "08d8f4e5-e3b0-4c25-9fa3-7cac3044f177"
      },
      "outputs": [
        {
          "data": {
            "text/plain": [
              "1"
            ]
          },
          "execution_count": 47,
          "metadata": {},
          "output_type": "execute_result"
        }
      ],
      "source": [
        "a"
      ]
    },
    {
      "cell_type": "code",
      "execution_count": null,
      "id": "69d4137b",
      "metadata": {
        "id": "69d4137b",
        "outputId": "b41e1dda-9242-4814-c76c-afc32dd25338"
      },
      "outputs": [
        {
          "data": {
            "text/plain": [
              "3"
            ]
          },
          "execution_count": 48,
          "metadata": {},
          "output_type": "execute_result"
        }
      ],
      "source": [
        "b"
      ]
    },
    {
      "cell_type": "code",
      "execution_count": null,
      "id": "25e8571d",
      "metadata": {
        "id": "25e8571d",
        "outputId": "40869991-6cd1-471c-907d-73662052fb7f"
      },
      "outputs": [
        {
          "data": {
            "text/plain": [
              "[3, 4, 5, 'sudh']"
            ]
          },
          "execution_count": 49,
          "metadata": {},
          "output_type": "execute_result"
        }
      ],
      "source": [
        "c"
      ]
    },
    {
      "cell_type": "code",
      "execution_count": null,
      "id": "89c6ce68",
      "metadata": {
        "id": "89c6ce68",
        "outputId": "95fefcc4-fa64-4f4b-f49b-f11bdb9153d7"
      },
      "outputs": [
        {
          "data": {
            "text/plain": [
              "(3, 4, 5, 6)"
            ]
          },
          "execution_count": 50,
          "metadata": {},
          "output_type": "execute_result"
        }
      ],
      "source": [
        "d"
      ]
    },
    {
      "cell_type": "code",
      "execution_count": null,
      "id": "135929c6",
      "metadata": {
        "id": "135929c6"
      },
      "outputs": [],
      "source": [
        "a =1\n",
        "b= 3\n",
        "c =\"sudh\""
      ]
    },
    {
      "cell_type": "code",
      "execution_count": null,
      "id": "3ae60cbc",
      "metadata": {
        "id": "3ae60cbc"
      },
      "outputs": [],
      "source": [
        "a,b,c = 1,3,\"sudh\""
      ]
    },
    {
      "cell_type": "code",
      "execution_count": null,
      "id": "679a4cbc",
      "metadata": {
        "id": "679a4cbc"
      },
      "outputs": [],
      "source": [
        "def test8():\n",
        "    a = 4*5+8\n",
        "    return a "
      ]
    },
    {
      "cell_type": "code",
      "execution_count": null,
      "id": "07f077fc",
      "metadata": {
        "id": "07f077fc",
        "outputId": "d2631fca-b6b5-41fc-dfbd-380a4c7f2496"
      },
      "outputs": [
        {
          "data": {
            "text/plain": [
              "36"
            ]
          },
          "execution_count": 55,
          "metadata": {},
          "output_type": "execute_result"
        }
      ],
      "source": [
        "test8() + 8"
      ]
    },
    {
      "cell_type": "code",
      "execution_count": null,
      "id": "6ffefeaa",
      "metadata": {
        "id": "6ffefeaa",
        "outputId": "58cba8ae-5f82-4098-b0c1-7cd75b9dba72"
      },
      "outputs": [
        {
          "data": {
            "text/plain": [
              "int"
            ]
          },
          "execution_count": 56,
          "metadata": {},
          "output_type": "execute_result"
        }
      ],
      "source": [
        "type(test8())"
      ]
    },
    {
      "cell_type": "code",
      "execution_count": null,
      "id": "062b1c29",
      "metadata": {
        "id": "062b1c29"
      },
      "outputs": [],
      "source": [
        "def test9():\n",
        "    l = [2,3,4,5,6,7,8,9,\"sudh\"]\n",
        "    a = 0\n",
        "    for i in l :\n",
        "        if type(i) == int:\n",
        "            a = i+a\n",
        "    return a"
      ]
    },
    {
      "cell_type": "code",
      "execution_count": null,
      "id": "fb0de7e5",
      "metadata": {
        "id": "fb0de7e5",
        "outputId": "9732b2d4-84a3-4147-cddd-11bf20ded0a4"
      },
      "outputs": [
        {
          "data": {
            "text/plain": [
              "44"
            ]
          },
          "execution_count": 63,
          "metadata": {},
          "output_type": "execute_result"
        }
      ],
      "source": [
        "test9()"
      ]
    },
    {
      "cell_type": "code",
      "execution_count": null,
      "id": "4ac66e2d",
      "metadata": {
        "id": "4ac66e2d",
        "outputId": "f3e9e983-ae3d-428f-ae9a-07af692bc65e"
      },
      "outputs": [
        {
          "data": {
            "text/plain": [
              "4"
            ]
          },
          "execution_count": 66,
          "metadata": {},
          "output_type": "execute_result"
        }
      ],
      "source": [
        "len(\"sudh\")"
      ]
    },
    {
      "cell_type": "code",
      "execution_count": null,
      "id": "e62f0d68",
      "metadata": {
        "id": "e62f0d68",
        "outputId": "bc472629-f0c3-41c1-ed01-75446a0fc873"
      },
      "outputs": [
        {
          "data": {
            "text/plain": [
              "3"
            ]
          },
          "execution_count": 68,
          "metadata": {},
          "output_type": "execute_result"
        }
      ],
      "source": [
        "len([4,5,6])"
      ]
    },
    {
      "cell_type": "code",
      "execution_count": null,
      "id": "11f3f10a",
      "metadata": {
        "id": "11f3f10a"
      },
      "outputs": [],
      "source": []
    },
    {
      "cell_type": "code",
      "execution_count": null,
      "id": "b162d426",
      "metadata": {
        "id": "b162d426"
      },
      "outputs": [],
      "source": [
        "l1 = [4,5,6,7,7,8,\"kumar\" , 4.56]"
      ]
    },
    {
      "cell_type": "code",
      "execution_count": null,
      "id": "b36c4f15",
      "metadata": {
        "id": "b36c4f15"
      },
      "outputs": [],
      "source": [
        "def test10(l):\n",
        "    a = 0\n",
        "    for i in l :\n",
        "        if type(i) == int:\n",
        "            a = i+a\n",
        "    return a"
      ]
    },
    {
      "cell_type": "code",
      "execution_count": null,
      "id": "6dbee9f9",
      "metadata": {
        "id": "6dbee9f9",
        "outputId": "49872a4e-bab0-4920-d8c1-b8bf34083600"
      },
      "outputs": [
        {
          "data": {
            "text/plain": [
              "37"
            ]
          },
          "execution_count": 71,
          "metadata": {},
          "output_type": "execute_result"
        }
      ],
      "source": [
        "test10(l1)"
      ]
    },
    {
      "cell_type": "code",
      "execution_count": null,
      "id": "63fbe408",
      "metadata": {
        "id": "63fbe408"
      },
      "outputs": [],
      "source": [
        "def test11(a,b):\n",
        "    return a+b"
      ]
    },
    {
      "cell_type": "code",
      "execution_count": null,
      "id": "e75d109d",
      "metadata": {
        "id": "e75d109d",
        "outputId": "df1a1f7e-dcbf-4b52-e94e-e603b43193ce"
      },
      "outputs": [
        {
          "data": {
            "text/plain": [
              "5"
            ]
          },
          "execution_count": 74,
          "metadata": {},
          "output_type": "execute_result"
        }
      ],
      "source": [
        "test11(2,3)"
      ]
    },
    {
      "cell_type": "code",
      "execution_count": null,
      "id": "788c17bd",
      "metadata": {
        "id": "788c17bd",
        "outputId": "79cda9fc-280b-46ba-8cc0-73ef16846ec3"
      },
      "outputs": [
        {
          "data": {
            "text/plain": [
              "'sudhkumar'"
            ]
          },
          "execution_count": 75,
          "metadata": {},
          "output_type": "execute_result"
        }
      ],
      "source": [
        "test11(\"sudh\" ,\"kumar\")"
      ]
    },
    {
      "cell_type": "code",
      "execution_count": null,
      "id": "fa8038b1",
      "metadata": {
        "id": "fa8038b1",
        "outputId": "9c78e1b2-6778-4fdc-8448-ee8128a2bd99"
      },
      "outputs": [
        {
          "data": {
            "text/plain": [
              "12"
            ]
          },
          "execution_count": 76,
          "metadata": {},
          "output_type": "execute_result"
        }
      ],
      "source": [
        "test11(a = 7 , b = 5)"
      ]
    },
    {
      "cell_type": "code",
      "execution_count": null,
      "id": "cb0f55d0",
      "metadata": {
        "id": "cb0f55d0",
        "outputId": "52050687-4398-4082-d552-4b0bc7d2d5f6"
      },
      "outputs": [
        {
          "data": {
            "text/plain": [
              "13"
            ]
          },
          "execution_count": 77,
          "metadata": {},
          "output_type": "execute_result"
        }
      ],
      "source": [
        "test11(b = 8 , a = 5)"
      ]
    },
    {
      "cell_type": "code",
      "execution_count": null,
      "id": "6c69b896",
      "metadata": {
        "id": "6c69b896"
      },
      "outputs": [],
      "source": [
        "l = [3,4,5,6,7,8,\"sudh\" , 5,6,7,\"kumar\" , \"ineuron\"]"
      ]
    },
    {
      "cell_type": "code",
      "execution_count": null,
      "id": "31b75103",
      "metadata": {
        "id": "31b75103"
      },
      "outputs": [],
      "source": [
        "def test12(l):\n",
        "    \"\"\"this is my function which will help you to seperate a string from list into a new list \"\"\"\n",
        "    l1 = []\n",
        "    for i in l :\n",
        "        if type(i) == str:\n",
        "            l1.append(i)\n",
        "    return l1"
      ]
    },
    {
      "cell_type": "code",
      "execution_count": null,
      "id": "54f2a42b",
      "metadata": {
        "id": "54f2a42b",
        "outputId": "8bd8fa3a-1637-4706-da62-d753af04f9c1"
      },
      "outputs": [
        {
          "data": {
            "text/plain": [
              "['sudh', 'kumar', 'ineuron']"
            ]
          },
          "execution_count": 84,
          "metadata": {},
          "output_type": "execute_result"
        }
      ],
      "source": [
        "test12(l)"
      ]
    },
    {
      "cell_type": "code",
      "execution_count": null,
      "id": "18c36a5c",
      "metadata": {
        "id": "18c36a5c"
      },
      "outputs": [],
      "source": [
        "l2 = [\"fsfda\" , \"fsdf\" ,\"abc \" , 456,56]"
      ]
    },
    {
      "cell_type": "code",
      "execution_count": null,
      "id": "ce214a35",
      "metadata": {
        "id": "ce214a35",
        "outputId": "835b65d5-934a-44bf-f1f4-ed28d3015c83"
      },
      "outputs": [
        {
          "data": {
            "text/plain": [
              "['fsfda', 'fsdf', 'abc ']"
            ]
          },
          "execution_count": 88,
          "metadata": {},
          "output_type": "execute_result"
        }
      ],
      "source": [
        "test12(l2)"
      ]
    },
    {
      "cell_type": "code",
      "execution_count": null,
      "id": "1ba1e6ef",
      "metadata": {
        "id": "1ba1e6ef",
        "outputId": "b5dc3258-78cf-4beb-cf53-e208c0a7c6b7"
      },
      "outputs": [
        {
          "data": {
            "text/plain": [
              "3"
            ]
          },
          "execution_count": 90,
          "metadata": {},
          "output_type": "execute_result"
        }
      ],
      "source": [
        "len(\"sdf\")"
      ]
    },
    {
      "cell_type": "code",
      "execution_count": null,
      "id": "68d9d2a4",
      "metadata": {
        "id": "68d9d2a4"
      },
      "outputs": [],
      "source": [
        "print()"
      ]
    },
    {
      "cell_type": "code",
      "execution_count": null,
      "id": "cb500d8e",
      "metadata": {
        "id": "cb500d8e"
      },
      "outputs": [],
      "source": [
        "test12()"
      ]
    },
    {
      "cell_type": "code",
      "execution_count": null,
      "id": "04827ede",
      "metadata": {
        "id": "04827ede",
        "outputId": "9c54b4b3-4c67-4de3-bb84-fe70e98fc871"
      },
      "outputs": [
        {
          "data": {
            "text/plain": [
              "4"
            ]
          },
          "execution_count": 92,
          "metadata": {},
          "output_type": "execute_result"
        }
      ],
      "source": [
        "len(\"sudh\")"
      ]
    },
    {
      "cell_type": "code",
      "execution_count": null,
      "id": "4b9cd427",
      "metadata": {
        "id": "4b9cd427",
        "outputId": "e55d7617-6f92-4ec2-de94-e459cf41eec8"
      },
      "outputs": [
        {
          "data": {
            "text/plain": [
              "['fsfda', 'fsdf', 'abc ', 456, 56]"
            ]
          },
          "execution_count": 94,
          "metadata": {},
          "output_type": "execute_result"
        }
      ],
      "source": [
        "l2"
      ]
    },
    {
      "cell_type": "code",
      "execution_count": null,
      "id": "594be36a",
      "metadata": {
        "id": "594be36a"
      },
      "outputs": [],
      "source": [
        "1. write a function which will try to find out len of a string without using an inbuilt len function \n",
        "2. write a function which  will be able to print an index of list element without using an index function\n",
        "3. write a function which will be able to print an ip address of your system\n",
        "4. write a function which will shutdown your system\n",
        "5. write a function which will take input as a list with any kind of numeric value and give an out as a multiplication of \n",
        "all the numeric data l = [3.5, 6.56, 4,5,\"sudh\" , \"ineuron\" , 'fsda bootcamp 2.0']\n",
        "6. write a function which will be able to read all the mails \n",
        "7 . write a function which will be able to send a mail to anyone \n",
        "8. write a function which will be able to read a doc/word file from your system \n",
        "\n",
        "you are suppose to complete this by oct 30th before your \n",
        "live class and you have to send a solution at mail id - query@ineuron.ai\n",
        "submit your git link to mail "
      ]
    }
  ],
  "metadata": {
    "kernelspec": {
      "display_name": "Python 3 (ipykernel)",
      "language": "python",
      "name": "python3"
    },
    "language_info": {
      "codemirror_mode": {
        "name": "ipython",
        "version": 3
      },
      "file_extension": ".py",
      "mimetype": "text/x-python",
      "name": "python",
      "nbconvert_exporter": "python",
      "pygments_lexer": "ipython3",
      "version": "3.8.5"
    },
    "colab": {
      "provenance": [],
      "include_colab_link": true
    }
  },
  "nbformat": 4,
  "nbformat_minor": 5
}