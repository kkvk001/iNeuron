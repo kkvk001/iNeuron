{
  "nbformat": 4,
  "nbformat_minor": 0,
  "metadata": {
    "colab": {
      "provenance": [],
      "authorship_tag": "ABX9TyM8mvv0dofs58mAzBO1z/TO",
      "include_colab_link": true
    },
    "kernelspec": {
      "name": "python3",
      "display_name": "Python 3"
    },
    "language_info": {
      "name": "python"
    }
  },
  "cells": [
    {
      "cell_type": "markdown",
      "metadata": {
        "id": "view-in-github",
        "colab_type": "text"
      },
      "source": [
        "<a href=\"https://colab.research.google.com/github/kkvk001/iNeuron/blob/main/ineuron_class_assignment-1.ipynb\" target=\"_parent\"><img src=\"https://colab.research.google.com/assets/colab-badge.svg\" alt=\"Open In Colab\"/></a>"
      ]
    },
    {
      "cell_type": "code",
      "execution_count": null,
      "metadata": {
        "id": "Kbr0UgEDVjd2",
        "colab": {
          "base_uri": "https://localhost:8080/"
        },
        "outputId": "8d3bf94d-ae77-4ef1-ecc0-a10214c36d5a"
      },
      "outputs": [
        {
          "output_type": "stream",
          "name": "stdout",
          "text": [
            "hello my name is kashif khan\n",
            "datatype of data is str\n"
          ]
        }
      ],
      "source": [
        "data = input()\n",
        " \n",
        "if type(data)== str:\n",
        "   print('datatype of data is str')\n",
        "\n",
        "else:\n",
        "  print('data type of input is not str')"
      ]
    },
    {
      "cell_type": "code",
      "source": [
        "a = int(input('enter the value of a: '))\n",
        "b = int(input('enter the value of b: '))\n",
        "c = int(input('enter the value of c: '))\n",
        "\n",
        "if a > b and c:\n",
        "  print('a is largest')\n",
        "elif b > a and c:\n",
        "  print('b is largest')\n",
        "elif( c > a and b):\n",
        "  print('c is largest')\n",
        "\n",
        "else:\n",
        "  print('All variable are equal')"
      ],
      "metadata": {
        "colab": {
          "base_uri": "https://localhost:8080/"
        },
        "id": "SR8K9Pwbh3vu",
        "outputId": "ff4b910c-e454-4804-a20d-f6cd5ae8d672"
      },
      "execution_count": null,
      "outputs": [
        {
          "output_type": "stream",
          "name": "stdout",
          "text": [
            "enter the value of a: 10\n",
            "enter the value of b: 10\n",
            "enter the value of c: 10\n",
            "All variable are equal\n"
          ]
        }
      ]
    },
    {
      "cell_type": "markdown",
      "source": [
        "5. What would be the solution?\n",
        "    1. True\n",
        "    2. False\n"
      ],
      "metadata": {
        "id": "xZ7uKDu1npu4"
      }
    },
    {
      "cell_type": "code",
      "source": [
        "a = 6\n",
        "b = 10\n",
        "print( not ( not a == 10 or not b == 10) )"
      ],
      "metadata": {
        "colab": {
          "base_uri": "https://localhost:8080/"
        },
        "id": "cFgNL6kunv50",
        "outputId": "213a78cf-cda7-4cee-d74a-dd2516238b42"
      },
      "execution_count": null,
      "outputs": [
        {
          "output_type": "stream",
          "name": "stdout",
          "text": [
            "False\n"
          ]
        }
      ]
    },
    {
      "cell_type": "code",
      "source": [
        "a = 6\n",
        "b = 10\n",
        "print((not a == 10 or not b == 9))"
      ],
      "metadata": {
        "colab": {
          "base_uri": "https://localhost:8080/"
        },
        "id": "3zTdW6E5n1zY",
        "outputId": "db42698c-a79d-4d4f-efd8-2d44c4386463"
      },
      "execution_count": null,
      "outputs": [
        {
          "output_type": "stream",
          "name": "stdout",
          "text": [
            "True\n"
          ]
        }
      ]
    },
    {
      "cell_type": "markdown",
      "source": [
        "6. Find the answer as well as find out the reason behind the result? -\n",
        " - case 1:"
      ],
      "metadata": {
        "id": "cHaFsl3ps2-a"
      }
    },
    {
      "cell_type": "code",
      "source": [
        "  A = 5.0\n",
        "  B = 10/2\n",
        "  print(A is B)"
      ],
      "metadata": {
        "colab": {
          "base_uri": "https://localhost:8080/"
        },
        "id": "g8tkZ8sZs_O5",
        "outputId": "6e058221-3e04-43c9-a059-bdbd5380475f"
      },
      "execution_count": null,
      "outputs": [
        {
          "output_type": "stream",
          "name": "stdout",
          "text": [
            "False\n"
          ]
        }
      ]
    },
    {
      "cell_type": "markdown",
      "source": [
        " - case 2:"
      ],
      "metadata": {
        "id": "qerF7htftHXu"
      }
    },
    {
      "cell_type": "code",
      "source": [
        "  A = 5.0\n",
        "  B = int(10/2)\n",
        "  print(A is B)"
      ],
      "metadata": {
        "colab": {
          "base_uri": "https://localhost:8080/"
        },
        "id": "q6BuuJlGtC0W",
        "outputId": "f24b0e51-aeb4-4f4a-fd34-ffe7200ea094"
      },
      "execution_count": null,
      "outputs": [
        {
          "output_type": "stream",
          "name": "stdout",
          "text": [
            "False\n"
          ]
        }
      ]
    },
    {
      "cell_type": "markdown",
      "source": [
        "- case 3:"
      ],
      "metadata": {
        "id": "AdjPb33OtTmu"
      }
    },
    {
      "cell_type": "code",
      "source": [
        "  A = 5.0\n",
        "  B = float(10/2)\n",
        "  print(A is B)"
      ],
      "metadata": {
        "colab": {
          "base_uri": "https://localhost:8080/"
        },
        "id": "hI4EdwYRtQCm",
        "outputId": "19b75035-a0f9-487f-cc75-66a938df44fc"
      },
      "execution_count": null,
      "outputs": [
        {
          "output_type": "stream",
          "name": "stdout",
          "text": [
            "False\n"
          ]
        }
      ]
    },
    {
      "cell_type": "markdown",
      "source": [
        "7. Write a program that asks the user to enter a number. You should print out a message to the user, either “That number is divisible by either 3 or 5”, or “That number is not divisible by either 3 or 5”. Be sure to consider the data type of the input you are taking in from the user. Use a single if/else block to solve this problem."
      ],
      "metadata": {
        "id": "qJkQDZLXvI3R"
      }
    },
    {
      "cell_type": "code",
      "source": [
        "user = int(input('enter the number: '))\n",
        "\n",
        "if user % 3 == 0 or user % 5 == 0:\n",
        "  print('The number is either divisible by 3 or 5')\n",
        "else:\n",
        "  print('The number is not divisble by 3 or 5')\n",
        " \n"
      ],
      "metadata": {
        "colab": {
          "base_uri": "https://localhost:8080/"
        },
        "id": "n0fNRtRju_Mf",
        "outputId": "3d3e625a-e01e-49ab-94a8-f84a666aa65d"
      },
      "execution_count": null,
      "outputs": [
        {
          "output_type": "stream",
          "name": "stdout",
          "text": [
            "enter the number: 4\n",
            "The number is not divisble by 3 or 5\n"
          ]
        }
      ]
    },
    {
      "cell_type": "markdown",
      "source": [
        "8. Take user input for length and width. Then calculate the area of rectangle. Also print as per length and width whether its a square of rectangle."
      ],
      "metadata": {
        "id": "dNKWswJy1Bry"
      }
    },
    {
      "cell_type": "code",
      "source": [
        "l = int(input('enter the length: '))\n",
        "b = int(input('enter the width: '))\n",
        "\n",
        "area_of_rectangle = l*b\n",
        "print(area_of_rectangle)\n",
        "\n",
        "if l==b:\n",
        "  print('its a square')\n",
        "else:\n",
        "  print('its a rectangle')"
      ],
      "metadata": {
        "id": "9xjsF6XM0qjp",
        "colab": {
          "base_uri": "https://localhost:8080/"
        },
        "outputId": "5dda3c86-1e66-4c02-b66c-0e979fa4c5b0"
      },
      "execution_count": null,
      "outputs": [
        {
          "output_type": "stream",
          "name": "stdout",
          "text": [
            "enter the length: 3\n",
            "enter the width: 6\n",
            "18\n",
            "its a rectangle\n"
          ]
        }
      ]
    },
    {
      "cell_type": "markdown",
      "source": [
        "9. Take two variable radius_1 and radius_2 and calculate the area of circle_1 and circle_2. Also print which circle has large area. If area is equal then print area is equal."
      ],
      "metadata": {
        "id": "qLXxDj7k6LQo"
      }
    },
    {
      "cell_type": "code",
      "source": [
        "r1 = float(input('enter the radius of 1 circle: '))\n",
        "r2 = float(input('enter the radius of 2 circle: '))\n",
        "\n",
        "area1 = 3.14*(r1**2)\n",
        "print(area1)\n",
        "area2 = 3.14*(r2**2)\n",
        "print(area2)\n",
        "\n",
        "if area1 > area2:\n",
        "  print('area1 is greater than area2')\n",
        "elif area1 < area2:\n",
        "  print('area2 is greater than area1')\n",
        "\n",
        "else:\n",
        "  print('area1 is equal to area2')"
      ],
      "metadata": {
        "colab": {
          "base_uri": "https://localhost:8080/"
        },
        "id": "LbdTwg762st0",
        "outputId": "c8886224-6db1-4cb2-dbb1-a679327ad985"
      },
      "execution_count": null,
      "outputs": [
        {
          "output_type": "stream",
          "name": "stdout",
          "text": [
            "enter the radius of 1 circle: 3\n",
            "enter the radius of 2 circle: 3\n",
            "28.26\n",
            "28.26\n",
            "area1 is equal to area2\n"
          ]
        }
      ]
    },
    {
      "cell_type": "markdown",
      "source": [
        "*assignment* = 9 oct"
      ],
      "metadata": {
        "id": "fb33nji_cG5P"
      }
    },
    {
      "cell_type": "markdown",
      "source": [
        "Q1. Find the largest number from the given list, use for loop.\n",
        "numbers = [12, 75, 150, 180, 145, 525, 50]"
      ],
      "metadata": {
        "id": "9dH7x5r5cYqh"
      }
    },
    {
      "cell_type": "code",
      "source": [
        "list1 = [12, 75, 150, 180, 145, 525, 50]\n",
        "def myMax(list1):\n",
        " \n",
        "    # Assume first number in list is largest\n",
        "    # initially and assign it to variable \"max\"\n",
        "    max = list1[0]\n",
        "# Now traverse through the list and compare\n",
        "    # each number with \"max\" value. Whichever is\n",
        "    # largest assign that value to \"max'.\n",
        "    for x in list1:\n",
        "        if x > max:\n",
        "            max = x\n",
        " \n",
        "    # after complete traversing the list\n",
        "    # return the \"max\" value\n",
        "    return max\n",
        "  "
      ],
      "metadata": {
        "id": "Qq_B8QX7daLc"
      },
      "execution_count": null,
      "outputs": []
    },
    {
      "cell_type": "code",
      "source": [
        "myMax( [12, 75, 150, 180, 145, 525, 50])"
      ],
      "metadata": {
        "id": "6m2fE87ped_9",
        "colab": {
          "base_uri": "https://localhost:8080/"
        },
        "outputId": "6901ec78-54a2-4c5b-d74f-f4f7ef608880"
      },
      "execution_count": null,
      "outputs": [
        {
          "output_type": "execute_result",
          "data": {
            "text/plain": [
              "525"
            ]
          },
          "metadata": {},
          "execution_count": 4
        }
      ]
    },
    {
      "cell_type": "markdown",
      "source": [
        "Q2. Print all the even number between (1, 12)."
      ],
      "metadata": {
        "id": "KNU_8uNcWu8g"
      }
    },
    {
      "cell_type": "code",
      "source": [
        "for i in range(1,12):\n",
        "  if i % 2 == 0:\n",
        "    print(i)"
      ],
      "metadata": {
        "colab": {
          "base_uri": "https://localhost:8080/"
        },
        "id": "Gk69yfwNWjR7",
        "outputId": "a87dec70-917d-441a-faeb-094ba568b307"
      },
      "execution_count": null,
      "outputs": [
        {
          "output_type": "stream",
          "name": "stdout",
          "text": [
            "2\n",
            "4\n",
            "6\n",
            "8\n",
            "10\n"
          ]
        }
      ]
    },
    {
      "cell_type": "markdown",
      "source": [
        "\n",
        "Q3. Calculate the sum of all numbers from 1 to a given number"
      ],
      "metadata": {
        "id": "qO0hXWRwXZBg"
      }
    },
    {
      "cell_type": "code",
      "source": [
        "num=int(input(\"Enter a integer number: \"))\n",
        "sum=0\n",
        "for i in range(1,num+1):\n",
        "    sum+=i              #adding each number in list with sum\n",
        "print(f\"Sum is: {sum}\")"
      ],
      "metadata": {
        "colab": {
          "base_uri": "https://localhost:8080/"
        },
        "id": "-twUKLtQXTf0",
        "outputId": "f1f8e97b-0311-47d6-c934-17d5ce117509"
      },
      "execution_count": null,
      "outputs": [
        {
          "output_type": "stream",
          "name": "stdout",
          "text": [
            "Enter a integer number: 5\n",
            "Sum is: 15\n"
          ]
        }
      ]
    },
    {
      "cell_type": "markdown",
      "source": [
        "Q4. Write a program to display only those numbers from a list that satisfy the following conditions\n",
        "\n",
        "The number must be divisible by five\n",
        "\n",
        "If the number is greater than 150, then skip it and move to the next number\n",
        "\n",
        "If the number is greater than 500, then stop the loop"
      ],
      "metadata": {
        "id": "tnuC5eKhanLt"
      }
    },
    {
      "cell_type": "code",
      "source": [
        "list = [10,55,34,149,150,450,550]\n",
        "\n",
        "for i in list:\n",
        "  if  i < 150 and i % 5 == 0:\n",
        "    print(i)\n",
        "  elif 150 < i > 500 :\n",
        "    continue\n",
        "  elif i > 500:\n",
        "    break"
      ],
      "metadata": {
        "colab": {
          "base_uri": "https://localhost:8080/"
        },
        "id": "Q374r5Jbag0A",
        "outputId": "0a0602f9-3fad-4957-f79b-060532ba0d66"
      },
      "execution_count": null,
      "outputs": [
        {
          "output_type": "stream",
          "name": "stdout",
          "text": [
            "10\n",
            "55\n"
          ]
        }
      ]
    },
    {
      "cell_type": "code",
      "source": [
        "numbers = [12, 75, 150, 180, 145, 525, 50]\n",
        "for i in numbers:\n",
        "\n",
        "    if i % 5 ==0:\n",
        "        if i > 500:\n",
        "            break\n",
        "        if i>150:\n",
        "            continue\n",
        "        print(i)\n"
      ],
      "metadata": {
        "colab": {
          "base_uri": "https://localhost:8080/"
        },
        "id": "l9vdhRRNbfdk",
        "outputId": "2088422c-bc6b-4356-ca51-e7e5c1b0c836"
      },
      "execution_count": null,
      "outputs": [
        {
          "output_type": "stream",
          "name": "stdout",
          "text": [
            "75\n",
            "150\n",
            "145\n"
          ]
        }
      ]
    },
    {
      "cell_type": "markdown",
      "source": [
        "Q5. Print the given list in reverse order."
      ],
      "metadata": {
        "id": "oxBlzAzgzkmp"
      }
    },
    {
      "cell_type": "code",
      "source": [
        "list1 = [10, 20, 30, 40, 50]\n",
        "list1[::-1]"
      ],
      "metadata": {
        "colab": {
          "base_uri": "https://localhost:8080/"
        },
        "id": "q111qDf6nD2W",
        "outputId": "60e217bf-0134-499d-fc0f-32402d13c113"
      },
      "execution_count": null,
      "outputs": [
        {
          "output_type": "execute_result",
          "data": {
            "text/plain": [
              "[50, 40, 30, 20, 10]"
            ]
          },
          "metadata": {},
          "execution_count": 23
        }
      ]
    },
    {
      "cell_type": "markdown",
      "source": [
        "16 oct \n",
        "\n",
        "1. On amazon website we have the following available items -"
      ],
      "metadata": {
        "id": "oSc8A_yZzwrW"
      }
    },
    {
      "cell_type": "code",
      "source": [
        "amazon_website = [(\"watch\", 5000), (\"phone\", 10000), (\"laptop\", 50000), (\"shirt\", 1000)]"
      ],
      "metadata": {
        "id": "XMcj_Kguz4H4"
      },
      "execution_count": null,
      "outputs": []
    },
    {
      "cell_type": "code",
      "source": [
        "total_cost = 0\n",
        "\n",
        "print(f'empty cart :{total_cost}')\n",
        "\n",
        "for item in amazon_website:\n",
        "  print(item[1])\n",
        "  total_cost = total_cost + item[1]\n",
        "  print(f'cart after adding:{item[0]} : {total_cost}')\n",
        "\n",
        "print(f'Total payabale amount: {total_cost}')"
      ],
      "metadata": {
        "colab": {
          "base_uri": "https://localhost:8080/"
        },
        "id": "Ava35Vb4ny85",
        "outputId": "51a0389c-a10d-4e46-92aa-1f9d2087af5f"
      },
      "execution_count": null,
      "outputs": [
        {
          "output_type": "stream",
          "name": "stdout",
          "text": [
            "empty cart :0\n",
            "5000\n",
            "cart after adding:watch : 5000\n",
            "10000\n",
            "cart after adding:phone : 15000\n",
            "50000\n",
            "cart after adding:laptop : 65000\n",
            "1000\n",
            "cart after adding:shirt : 66000\n",
            "Total payabale amount: 66000\n"
          ]
        }
      ]
    },
    {
      "cell_type": "markdown",
      "source": [
        "2. What will be the output of the following code snippet?"
      ],
      "metadata": {
        "id": "1sFqbitZqXrp"
      }
    },
    {
      "cell_type": "markdown",
      "source": [
        "arr = [1, 2, 3, 4, 5, 6]\n",
        "for i in range(1, 6):\n",
        "    arr[i - 1] = arr[i]\n",
        "for i in range(0, 6): \n",
        "    print(arr[i], end = \" \")"
      ],
      "metadata": {
        "id": "WfiqNwJaqZh_"
      }
    },
    {
      "cell_type": "code",
      "source": [
        "arr = [1, 2, 3, 4, 5, 6]\n",
        "for i in range(1, 6):\n",
        "    arr[i - 1] = arr[i]\n",
        "for i in range(0, 6): \n",
        "    print(arr[i], end = \" \")"
      ],
      "metadata": {
        "colab": {
          "base_uri": "https://localhost:8080/"
        },
        "id": "EXokKfy1qFTH",
        "outputId": "3f163b49-6e9a-400c-b48c-bc856c85bddc"
      },
      "execution_count": null,
      "outputs": [
        {
          "output_type": "stream",
          "name": "stdout",
          "text": [
            "2 3 4 5 6 6 "
          ]
        }
      ]
    },
    {
      "cell_type": "markdown",
      "source": [
        "3. Write a Python program to find the repeated items of a tuple."
      ],
      "metadata": {
        "id": "1-4L9klxvrMl"
      }
    },
    {
      "cell_type": "code",
      "source": [
        "tup=(1,3,4,32,1,1,1)  \n",
        "for i in tup:\n",
        "    if tup.count(i) > 1:\n",
        "      print(i)\n",
        "  "
      ],
      "metadata": {
        "colab": {
          "base_uri": "https://localhost:8080/"
        },
        "id": "XT4ffrSZrCJV",
        "outputId": "5923f85f-acc9-4f80-dcec-53ace24650a8"
      },
      "execution_count": null,
      "outputs": [
        {
          "output_type": "stream",
          "name": "stdout",
          "text": [
            "1\n",
            "1\n",
            "1\n",
            "1\n"
          ]
        }
      ]
    },
    {
      "cell_type": "markdown",
      "source": [
        "4. Replace last value of tuples in a list with 500. Try using list comprehension"
      ],
      "metadata": {
        "id": "hAD_TWnwzbz8"
      }
    },
    {
      "cell_type": "markdown",
      "source": [
        "Input -:\n",
        "\n",
        "[(10, 20, 40), (40, 50, 60), (70, 80, 90)]\n",
        "\n",
        "Output -:\n",
        "[(10, 20, 500), (40, 50, 500), (70, 80, 500)]"
      ],
      "metadata": {
        "id": "GL0fKePCzniC"
      }
    },
    {
      "cell_type": "code",
      "source": [
        "input = [(10, 20, 40), (40, 50, 60), (70, 80, 90)]\n"
      ],
      "metadata": {
        "id": "ESmrBkNczoGc"
      },
      "execution_count": null,
      "outputs": []
    },
    {
      "cell_type": "code",
      "source": [
        "input"
      ],
      "metadata": {
        "colab": {
          "base_uri": "https://localhost:8080/"
        },
        "id": "XQBa399az4mK",
        "outputId": "bc748abe-89c8-4225-efba-20ebdeade9af"
      },
      "execution_count": null,
      "outputs": [
        {
          "output_type": "execute_result",
          "data": {
            "text/plain": [
              "[(10, 20, 40), (40, 50, 60), (70, 80, 90)]"
            ]
          },
          "metadata": {},
          "execution_count": 2
        }
      ]
    },
    {
      "cell_type": "code",
      "source": [
        "new_lst = [tpl[:-1] + (500,) for tpl in input]\n",
        "new_lst"
      ],
      "metadata": {
        "id": "dOdmXEfO1hKd",
        "colab": {
          "base_uri": "https://localhost:8080/"
        },
        "outputId": "4d704fa2-7eba-4d9b-8d54-23538bb25884"
      },
      "execution_count": null,
      "outputs": [
        {
          "output_type": "execute_result",
          "data": {
            "text/plain": [
              "[(10, 20, 500), (40, 50, 500), (70, 80, 500)]"
            ]
          },
          "metadata": {},
          "execution_count": 5
        }
      ]
    },
    {
      "cell_type": "markdown",
      "source": [
        "29 OCT ASSIGNMENT"
      ],
      "metadata": {
        "id": "o1ENh8is7iZ5"
      }
    },
    {
      "cell_type": "markdown",
      "source": [
        "1. write a function which will try to find out len of a string without using an inbuilt len function"
      ],
      "metadata": {
        "id": "puIk0vcq7usG"
      }
    },
    {
      "cell_type": "code",
      "source": [
        "# Function which return length of string\n",
        "def test(string):\n",
        "    \n",
        "    # Initialize count to zero\n",
        "    count = 0\n",
        "\n",
        "    # Counting character in a string\n",
        "    for i in string:\n",
        "      count += 1\n",
        "\n",
        "     # Returning count\n",
        "    return count"
      ],
      "metadata": {
        "id": "OkEi3yTO7rHe"
      },
      "execution_count": null,
      "outputs": []
    },
    {
      "cell_type": "code",
      "source": [
        "# Driver code\n",
        "string = 'kashif khan'\n",
        "print(test(string))"
      ],
      "metadata": {
        "colab": {
          "base_uri": "https://localhost:8080/"
        },
        "id": "kpvnQ9PG_LGy",
        "outputId": "a42b8176-4a6d-461b-e511-b556748a66e5"
      },
      "execution_count": null,
      "outputs": [
        {
          "output_type": "stream",
          "name": "stdout",
          "text": [
            "11\n"
          ]
        }
      ]
    },
    {
      "cell_type": "markdown",
      "source": [
        "2. write a function which  will be able to print an index of list element without using an index function"
      ],
      "metadata": {
        "id": "W_IAw-DJERk7"
      }
    },
    {
      "cell_type": "code",
      "source": [
        "#2. write a function which  will be able to print an index of list element without using an index function\n",
        "l = [1,2,3,4,\"sudh\",\"ineuron\"]"
      ],
      "metadata": {
        "id": "l85-fQZc_R99"
      },
      "execution_count": null,
      "outputs": []
    },
    {
      "cell_type": "code",
      "source": [
        "def test1(l):\n",
        "    for i in range(0,test(l)):\n",
        "        print( l[i] , \": \" ,i) "
      ],
      "metadata": {
        "id": "DC9iOlH_ubSw"
      },
      "execution_count": null,
      "outputs": []
    },
    {
      "cell_type": "code",
      "source": [
        "test1(l)"
      ],
      "metadata": {
        "colab": {
          "base_uri": "https://localhost:8080/"
        },
        "id": "u_4vozCnu4lS",
        "outputId": "3a3a4f85-cdea-4ae5-d40f-a45a9411b565"
      },
      "execution_count": null,
      "outputs": [
        {
          "output_type": "stream",
          "name": "stdout",
          "text": [
            "1 :  0\n",
            "2 :  1\n",
            "3 :  2\n",
            "4 :  3\n",
            "sudh :  4\n",
            "ineuron :  5\n"
          ]
        }
      ]
    },
    {
      "cell_type": "markdown",
      "source": [
        "3. write a function which will be able to print an ip address of your system"
      ],
      "metadata": {
        "id": "auA9EvWlOTcF"
      }
    },
    {
      "cell_type": "code",
      "source": [
        "# Python Program to Get IP Address\n",
        "\n",
        "import socket\n",
        "hostname = socket.gethostname()\n",
        "IPAddr = socket.gethostbyname(hostname)\n",
        " \n",
        "print(\"Your Computer Name is:\" + hostname)\n",
        "print(\"Your Computer IP Address is:\" + IPAddr)"
      ],
      "metadata": {
        "colab": {
          "base_uri": "https://localhost:8080/"
        },
        "id": "91jpIyX8a39N",
        "outputId": "9c1aa195-51ce-4fba-855a-53e136ef1e19"
      },
      "execution_count": null,
      "outputs": [
        {
          "output_type": "stream",
          "name": "stdout",
          "text": [
            "Your Computer Name is:f3a2cf7391a4\n",
            "Your Computer IP Address is:172.28.0.12\n"
          ]
        }
      ]
    },
    {
      "cell_type": "markdown",
      "source": [
        "#4. write a function which will shutdown your system"
      ],
      "metadata": {
        "id": "IgPCNRoRwJqX"
      }
    },
    {
      "cell_type": "code",
      "source": [
        "import os\n",
        "\n",
        "shutdown = input(\"Do you wish to shutdown your computer ? (yes/no): \")\n",
        "\n",
        "if shutdown == 'no':\n",
        "\texit()\n",
        "else:\n",
        "\tos.system(\"shutdown /s /t 1\")\n"
      ],
      "metadata": {
        "colab": {
          "base_uri": "https://localhost:8080/"
        },
        "id": "w9xoSQRrPkQY",
        "outputId": "2be374f1-ba98-451f-ba30-14cda145ad31"
      },
      "execution_count": null,
      "outputs": [
        {
          "name": "stdout",
          "output_type": "stream",
          "text": [
            "Do you wish to shutdown your computer ? (yes / no): yes\n"
          ]
        }
      ]
    },
    {
      "cell_type": "markdown",
      "source": [
        "5. write a function which will take input as a list with any kind of numeric value and give an out as a multiplication of \n",
        "all the numeric data l = [3.5, 6.56, 4,5,\"sudh\" , \"ineuron\" , 'fsda bootcamp 2.0']"
      ],
      "metadata": {
        "id": "BJfpjkF5Ru8A"
      }
    },
    {
      "cell_type": "code",
      "source": [
        "# Python program to multiply all values in the\n",
        "# list using traversal\n",
        "def multiply_list(mylist):\n",
        "  # Multiply elements one by one\n",
        "  product = 1\n",
        "  for x in mylist: \n",
        "    if type(x)==int or type(x)==float:\n",
        "      product = product*x\n",
        "  return product"
      ],
      "metadata": {
        "id": "vbgLgYldQ5aB"
      },
      "execution_count": null,
      "outputs": []
    },
    {
      "cell_type": "code",
      "source": [
        "mylist= [3.5, 6.56, 4,5,\"sudh\" , \"ineuron\" , 'fsda bootcamp 2.0',]"
      ],
      "metadata": {
        "id": "-FjbzydqXbzz"
      },
      "execution_count": null,
      "outputs": []
    },
    {
      "cell_type": "code",
      "source": [
        "multiply_list(mylist)"
      ],
      "metadata": {
        "colab": {
          "base_uri": "https://localhost:8080/"
        },
        "id": "qaPkGsoDXkPm",
        "outputId": "94c1fe4e-b241-4789-ec84-f45fe64d99b3"
      },
      "execution_count": null,
      "outputs": [
        {
          "output_type": "execute_result",
          "data": {
            "text/plain": [
              "459.19999999999993"
            ]
          },
          "metadata": {},
          "execution_count": 33
        }
      ]
    },
    {
      "cell_type": "markdown",
      "source": [
        "6. write a function which will be able to read all the mails "
      ],
      "metadata": {
        "id": "ssRm-y_TYWVD"
      }
    },
    {
      "cell_type": "markdown",
      "source": [
        "Libraries: imap_tools or imaplib\n",
        "The easiest tool I've found for reading emails in Python is imap_tools. It has an elegant interface to communicate with your email provider using IMAP (which almost every email provider will have)."
      ],
      "metadata": {
        "id": "roAaDUT_ZKv3"
      }
    },
    {
      "cell_type": "code",
      "source": [
        "import smtplib\n",
        "import time\n",
        "import imaplib\n",
        "import email\n",
        "import traceback \n",
        "ORG_EMAIL = \"@gmail.com\" \n",
        "FROM_EMAIL = 'kkiit786@gmail.com'\n",
        "FROM_PWD = 'nxcjkomsduymusfo'\n",
        "SMTP_SERVER = \"imap.gmail.com\" \n",
        "SMTP_PORT = 993\n",
        "imaplib._MAXLINE = 400000000\n",
        "\n",
        "def read_email_from_gmail():\n",
        "    try:\n",
        "        mail = imaplib.IMAP4_SSL(SMTP_SERVER)\n",
        "        mail.login(FROM_EMAIL,FROM_PWD)\n",
        "        mail.select('inbox')\n",
        "\n",
        "        data = mail.search(None, 'ALL')\n",
        "        mail_ids = data[1]\n",
        "        id_list = mail_ids[0].split()   \n",
        "        first_email_id = int(id_list[0])\n",
        "        latest_email_id = int(id_list[-1])\n",
        "\n",
        "        for i in range(latest_email_id,first_email_id, -1):\n",
        "            data = mail.fetch(str(i), '(RFC822)' )\n",
        "            for response_part in data:\n",
        "                arr = response_part[0]\n",
        "                if isinstance(arr, tuple):\n",
        "                    msg = email.message_from_string(str(arr[1],'utf-8'))\n",
        "                    email_subject = msg['subject']\n",
        "                    email_from = msg['from']\n",
        "                    print('From : ' + email_from + '\\n')\n",
        "                    print('Subject : ' + email_subject + '\\n')\n",
        "\n",
        "    except Exception as e:\n",
        "        traceback.print_exc() \n",
        "        print(str(e))\n",
        "\n",
        "read_email_from_gmail()"
      ],
      "metadata": {
        "id": "7D9L7315Xryl",
        "colab": {
          "base_uri": "https://localhost:8080/"
        },
        "outputId": "d84c38e6-a3e9-4113-ad1d-185f544281c2"
      },
      "execution_count": null,
      "outputs": [
        {
          "output_type": "stream",
          "name": "stdout",
          "text": [
            "b'[AUTHENTICATIONFAILED] Invalid credentials (Failure)'\n"
          ]
        },
        {
          "output_type": "stream",
          "name": "stderr",
          "text": [
            "Traceback (most recent call last):\n",
            "  File \"<ipython-input-49-521438c18dad>\", line 16, in read_email_from_gmail\n",
            "    mail.login(FROM_EMAIL,FROM_PWD)\n",
            "  File \"/usr/lib/python3.8/imaplib.py\", line 603, in login\n",
            "    raise self.error(dat[-1])\n",
            "imaplib.IMAP4.error: b'[AUTHENTICATIONFAILED] Invalid credentials (Failure)'\n"
          ]
        }
      ]
    },
    {
      "cell_type": "markdown",
      "source": [
        "7 . write a function which will be able to send a mail to anyone \n"
      ],
      "metadata": {
        "id": "LHnKA5xBZpRV"
      }
    },
    {
      "cell_type": "code",
      "source": [
        "import smtplib , ssl\n",
        "\n",
        "port = 465  # For SSL\n",
        "smtp_server = \"smtp.gmail.com\"\n",
        "sender_email = \"kashif.vk01@gmail.com\"  # Enter your address\n",
        "receiver_email = \"kkiit786@gmail.com\"  # Enter receiver address\n",
        "password = 'nxcjkomsduymusfo' # App password not a login password\n",
        "message = \"\"\"ut jah bhai \"\"\"\n",
        "return\n",
        "context = ssl.create_default_context()\n",
        "with smtplib.SMTP_SSL(smtp_server, port, context=context) as server:\n",
        "    server.login(sender_email, password)\n",
        "    server.sendmail(sender_email, receiver_email, message)"
      ],
      "metadata": {
        "id": "x-w6-SCpyTfk",
        "colab": {
          "base_uri": "https://localhost:8080/",
          "height": 130
        },
        "outputId": "395f35b8-78a9-4feb-add8-e6851013aead"
      },
      "execution_count": null,
      "outputs": [
        {
          "output_type": "error",
          "ename": "SyntaxError",
          "evalue": "ignored",
          "traceback": [
            "\u001b[0;36m  File \u001b[0;32m\"<ipython-input-1-c26f5b80bc88>\"\u001b[0;36m, line \u001b[0;32m2\u001b[0m\n\u001b[0;31m    from i in range(0,3):\u001b[0m\n\u001b[0m           ^\u001b[0m\n\u001b[0;31mSyntaxError\u001b[0m\u001b[0;31m:\u001b[0m invalid syntax\n"
          ]
        }
      ]
    },
    {
      "cell_type": "markdown",
      "source": [
        "#8. write a function which will be able to read a doc/word file from your system"
      ],
      "metadata": {
        "id": "2C2vtkchzPR1"
      }
    },
    {
      "cell_type": "code",
      "source": [
        "import docx2txt"
      ],
      "metadata": {
        "id": "tB_mQfQIZj2i"
      },
      "execution_count": null,
      "outputs": []
    },
    {
      "cell_type": "code",
      "source": [
        "pip install docx2txt"
      ],
      "metadata": {
        "colab": {
          "base_uri": "https://localhost:8080/"
        },
        "id": "Aox8IJkGavwm",
        "outputId": "4d11ffc8-09da-4c9f-801a-219252fb806a"
      },
      "execution_count": null,
      "outputs": [
        {
          "output_type": "stream",
          "name": "stdout",
          "text": [
            "Looking in indexes: https://pypi.org/simple, https://us-python.pkg.dev/colab-wheels/public/simple/\n",
            "Requirement already satisfied: docx2txt in /usr/local/lib/python3.8/dist-packages (0.8)\n"
          ]
        }
      ]
    },
    {
      "cell_type": "code",
      "source": [
        "a = docx2txt.process('testword.docx')\n",
        "print(a)"
      ],
      "metadata": {
        "id": "NkTxxVl5a1Tt",
        "colab": {
          "base_uri": "https://localhost:8080/",
          "height": 328
        },
        "outputId": "9c72e5b2-6a91-4ed7-e8ad-5f977ac78cff"
      },
      "execution_count": null,
      "outputs": [
        {
          "output_type": "error",
          "ename": "FileNotFoundError",
          "evalue": "ignored",
          "traceback": [
            "\u001b[0;31m---------------------------------------------------------------------------\u001b[0m",
            "\u001b[0;31mFileNotFoundError\u001b[0m                         Traceback (most recent call last)",
            "\u001b[0;32m<ipython-input-41-c906b108d907>\u001b[0m in \u001b[0;36m<module>\u001b[0;34m\u001b[0m\n\u001b[0;32m----> 1\u001b[0;31m \u001b[0ma\u001b[0m \u001b[0;34m=\u001b[0m \u001b[0mdocx2txt\u001b[0m\u001b[0;34m.\u001b[0m\u001b[0mprocess\u001b[0m\u001b[0;34m(\u001b[0m\u001b[0;34m'testword.docx'\u001b[0m\u001b[0;34m)\u001b[0m\u001b[0;34m\u001b[0m\u001b[0;34m\u001b[0m\u001b[0m\n\u001b[0m\u001b[1;32m      2\u001b[0m \u001b[0mprint\u001b[0m\u001b[0;34m(\u001b[0m\u001b[0ma\u001b[0m\u001b[0;34m)\u001b[0m\u001b[0;34m\u001b[0m\u001b[0;34m\u001b[0m\u001b[0m\n",
            "\u001b[0;32m/usr/local/lib/python3.8/dist-packages/docx2txt/docx2txt.py\u001b[0m in \u001b[0;36mprocess\u001b[0;34m(docx, img_dir)\u001b[0m\n\u001b[1;32m     74\u001b[0m \u001b[0;34m\u001b[0m\u001b[0m\n\u001b[1;32m     75\u001b[0m     \u001b[0;31m# unzip the docx in memory\u001b[0m\u001b[0;34m\u001b[0m\u001b[0;34m\u001b[0m\u001b[0;34m\u001b[0m\u001b[0m\n\u001b[0;32m---> 76\u001b[0;31m     \u001b[0mzipf\u001b[0m \u001b[0;34m=\u001b[0m \u001b[0mzipfile\u001b[0m\u001b[0;34m.\u001b[0m\u001b[0mZipFile\u001b[0m\u001b[0;34m(\u001b[0m\u001b[0mdocx\u001b[0m\u001b[0;34m)\u001b[0m\u001b[0;34m\u001b[0m\u001b[0;34m\u001b[0m\u001b[0m\n\u001b[0m\u001b[1;32m     77\u001b[0m     \u001b[0mfilelist\u001b[0m \u001b[0;34m=\u001b[0m \u001b[0mzipf\u001b[0m\u001b[0;34m.\u001b[0m\u001b[0mnamelist\u001b[0m\u001b[0;34m(\u001b[0m\u001b[0;34m)\u001b[0m\u001b[0;34m\u001b[0m\u001b[0;34m\u001b[0m\u001b[0m\n\u001b[1;32m     78\u001b[0m \u001b[0;34m\u001b[0m\u001b[0m\n",
            "\u001b[0;32m/usr/lib/python3.8/zipfile.py\u001b[0m in \u001b[0;36m__init__\u001b[0;34m(self, file, mode, compression, allowZip64, compresslevel, strict_timestamps)\u001b[0m\n\u001b[1;32m   1249\u001b[0m             \u001b[0;32mwhile\u001b[0m \u001b[0;32mTrue\u001b[0m\u001b[0;34m:\u001b[0m\u001b[0;34m\u001b[0m\u001b[0;34m\u001b[0m\u001b[0m\n\u001b[1;32m   1250\u001b[0m                 \u001b[0;32mtry\u001b[0m\u001b[0;34m:\u001b[0m\u001b[0;34m\u001b[0m\u001b[0;34m\u001b[0m\u001b[0m\n\u001b[0;32m-> 1251\u001b[0;31m                     \u001b[0mself\u001b[0m\u001b[0;34m.\u001b[0m\u001b[0mfp\u001b[0m \u001b[0;34m=\u001b[0m \u001b[0mio\u001b[0m\u001b[0;34m.\u001b[0m\u001b[0mopen\u001b[0m\u001b[0;34m(\u001b[0m\u001b[0mfile\u001b[0m\u001b[0;34m,\u001b[0m \u001b[0mfilemode\u001b[0m\u001b[0;34m)\u001b[0m\u001b[0;34m\u001b[0m\u001b[0;34m\u001b[0m\u001b[0m\n\u001b[0m\u001b[1;32m   1252\u001b[0m                 \u001b[0;32mexcept\u001b[0m \u001b[0mOSError\u001b[0m\u001b[0;34m:\u001b[0m\u001b[0;34m\u001b[0m\u001b[0;34m\u001b[0m\u001b[0m\n\u001b[1;32m   1253\u001b[0m                     \u001b[0;32mif\u001b[0m \u001b[0mfilemode\u001b[0m \u001b[0;32min\u001b[0m \u001b[0mmodeDict\u001b[0m\u001b[0;34m:\u001b[0m\u001b[0;34m\u001b[0m\u001b[0;34m\u001b[0m\u001b[0m\n",
            "\u001b[0;31mFileNotFoundError\u001b[0m: [Errno 2] No such file or directory: 'testword.docx'"
          ]
        }
      ]
    },
    {
      "cell_type": "code",
      "source": [
        "port = 465  # For SSL\n",
        "smtp_server = \"smtp.gmail.com\"\n",
        "sender_email = \"kashif.vk01@gmail.com\"  # Enter your address\n",
        "receiver_email = \"ssshubham2402@gmail.com\"  # Enter receiver address\n",
        "password = 'nxcjkomsduymusfo' # App password not a login password\n",
        "message = \"\"\"ut jah bhai \"\"\"\n"
      ],
      "metadata": {
        "id": "STCDQfVQzfnI"
      },
      "execution_count": null,
      "outputs": []
    }
  ]
}